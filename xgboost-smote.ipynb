{
 "cells": [
  {
   "cell_type": "code",
   "execution_count": 1,
   "id": "36c6d9a4",
   "metadata": {
    "_cell_guid": "b1076dfc-b9ad-4769-8c92-a6c4dae69d19",
    "_uuid": "8f2839f25d086af736a60e9eeb907d3b93b6e0e5",
    "execution": {
     "iopub.execute_input": "2024-02-17T10:28:03.064448Z",
     "iopub.status.busy": "2024-02-17T10:28:03.064027Z",
     "iopub.status.idle": "2024-02-17T10:28:08.310592Z",
     "shell.execute_reply": "2024-02-17T10:28:08.308936Z"
    },
    "papermill": {
     "duration": 5.258029,
     "end_time": "2024-02-17T10:28:08.313501",
     "exception": false,
     "start_time": "2024-02-17T10:28:03.055472",
     "status": "completed"
    },
    "tags": []
   },
   "outputs": [],
   "source": [
    "# Necessary Libraries\n",
    "import pandas as pd\n",
    "import numpy as np\n",
    "import seaborn as sns\n",
    "import matplotlib.pyplot as plt\n",
    "from sklearn.model_selection import train_test_split\n",
    "from sklearn.impute import SimpleImputer\n",
    "from sklearn.preprocessing import StandardScaler, OneHotEncoder\n",
    "from sklearn.compose import ColumnTransformer\n",
    "from sklearn.pipeline import Pipeline\n",
    "from xgboost import XGBClassifier\n",
    "from sklearn.metrics import roc_auc_score\n",
    "from imblearn.over_sampling import SMOTE\n",
    "import optuna\n",
    "import logging\n",
    "\n",
    "optuna.logging.set_verbosity(optuna.logging.WARNING)"
   ]
  },
  {
   "cell_type": "code",
   "execution_count": 2,
   "id": "3be1a2b1",
   "metadata": {
    "execution": {
     "iopub.execute_input": "2024-02-17T10:28:08.332552Z",
     "iopub.status.busy": "2024-02-17T10:28:08.331498Z",
     "iopub.status.idle": "2024-02-17T10:28:08.952597Z",
     "shell.execute_reply": "2024-02-17T10:28:08.951217Z"
    },
    "papermill": {
     "duration": 0.633241,
     "end_time": "2024-02-17T10:28:08.955537",
     "exception": false,
     "start_time": "2024-02-17T10:28:08.322296",
     "status": "completed"
    },
    "tags": []
   },
   "outputs": [],
   "source": [
    "# Exploratory Data Analysis\n",
    "# Load Data\n",
    "women_train = pd.read_csv('/kaggle/input/widsdatathon2024-challenge1/training.csv')\n",
    "women_test = pd.read_csv(\"/kaggle/input/widsdatathon2024-challenge1/test.csv\")\n",
    "sample_submission = pd.read_csv(\"/kaggle/input/widsdatathon2024-challenge1/sample_submission.csv\")\n"
   ]
  },
  {
   "cell_type": "code",
   "execution_count": 3,
   "id": "cb25e656",
   "metadata": {
    "execution": {
     "iopub.execute_input": "2024-02-17T10:28:08.969842Z",
     "iopub.status.busy": "2024-02-17T10:28:08.969466Z",
     "iopub.status.idle": "2024-02-17T10:28:08.993649Z",
     "shell.execute_reply": "2024-02-17T10:28:08.992432Z"
    },
    "papermill": {
     "duration": 0.03485,
     "end_time": "2024-02-17T10:28:08.996725",
     "exception": false,
     "start_time": "2024-02-17T10:28:08.961875",
     "status": "completed"
    },
    "tags": []
   },
   "outputs": [],
   "source": [
    "# Feature Engineering\n",
    "# Drop unnecessary columns for modeling\n",
    "drop_columns = ['metastatic_first_novel_treatment', 'metastatic_first_novel_treatment_type', 'bmi','patient_race']\n",
    "women_train = women_train.drop(columns=drop_columns)\n",
    "women_test = women_test.drop(columns=drop_columns)"
   ]
  },
  {
   "cell_type": "code",
   "execution_count": 4,
   "id": "29e0cc17",
   "metadata": {
    "execution": {
     "iopub.execute_input": "2024-02-17T10:28:09.010631Z",
     "iopub.status.busy": "2024-02-17T10:28:09.010215Z",
     "iopub.status.idle": "2024-02-17T10:28:09.021803Z",
     "shell.execute_reply": "2024-02-17T10:28:09.020555Z"
    },
    "papermill": {
     "duration": 0.021644,
     "end_time": "2024-02-17T10:28:09.024498",
     "exception": false,
     "start_time": "2024-02-17T10:28:09.002854",
     "status": "completed"
    },
    "tags": []
   },
   "outputs": [],
   "source": [
    "# Define features and target variable\n",
    "X = women_train.drop(columns=['DiagPeriodL90D'])\n",
    "y = women_train['DiagPeriodL90D']\n"
   ]
  },
  {
   "cell_type": "code",
   "execution_count": 5,
   "id": "0faa5305",
   "metadata": {
    "execution": {
     "iopub.execute_input": "2024-02-17T10:28:09.039426Z",
     "iopub.status.busy": "2024-02-17T10:28:09.038222Z",
     "iopub.status.idle": "2024-02-17T10:28:09.054547Z",
     "shell.execute_reply": "2024-02-17T10:28:09.053440Z"
    },
    "papermill": {
     "duration": 0.026264,
     "end_time": "2024-02-17T10:28:09.057202",
     "exception": false,
     "start_time": "2024-02-17T10:28:09.030938",
     "status": "completed"
    },
    "tags": []
   },
   "outputs": [],
   "source": [
    "# Split the data into training and validation sets\n",
    "X_train, X_valid, y_train, y_valid = train_test_split(X, y, test_size=0.2, random_state=42)\n"
   ]
  },
  {
   "cell_type": "code",
   "execution_count": 6,
   "id": "9e324800",
   "metadata": {
    "execution": {
     "iopub.execute_input": "2024-02-17T10:28:09.071126Z",
     "iopub.status.busy": "2024-02-17T10:28:09.070700Z",
     "iopub.status.idle": "2024-02-17T10:28:09.083236Z",
     "shell.execute_reply": "2024-02-17T10:28:09.082035Z"
    },
    "papermill": {
     "duration": 0.022629,
     "end_time": "2024-02-17T10:28:09.085946",
     "exception": false,
     "start_time": "2024-02-17T10:28:09.063317",
     "status": "completed"
    },
    "tags": []
   },
   "outputs": [],
   "source": [
    "# Preprocessing for numerical and categorical data\n",
    "numerical_cols = X.select_dtypes(include=['int64', 'float64']).columns\n",
    "categorical_cols = X.select_dtypes(include=['object']).columns\n",
    "\n",
    "numerical_transformer = Pipeline(steps=[\n",
    "    ('imputer', SimpleImputer(strategy='mean')),\n",
    "    ('scaler', StandardScaler())\n",
    "])\n",
    "\n",
    "categorical_transformer = Pipeline(steps=[\n",
    "    ('imputer', SimpleImputer(strategy='most_frequent')),\n",
    "    ('onehot', OneHotEncoder(handle_unknown='ignore'))\n",
    "])\n"
   ]
  },
  {
   "cell_type": "code",
   "execution_count": 7,
   "id": "94090202",
   "metadata": {
    "execution": {
     "iopub.execute_input": "2024-02-17T10:28:09.100699Z",
     "iopub.status.busy": "2024-02-17T10:28:09.100258Z",
     "iopub.status.idle": "2024-02-17T10:28:09.105370Z",
     "shell.execute_reply": "2024-02-17T10:28:09.104425Z"
    },
    "papermill": {
     "duration": 0.015779,
     "end_time": "2024-02-17T10:28:09.107754",
     "exception": false,
     "start_time": "2024-02-17T10:28:09.091975",
     "status": "completed"
    },
    "tags": []
   },
   "outputs": [],
   "source": [
    "# Bundle preprocessing for numerical and categorical data\n",
    "preprocessor = ColumnTransformer(\n",
    "    transformers=[\n",
    "        ('num', numerical_transformer, numerical_cols),\n",
    "        ('cat', categorical_transformer, categorical_cols)\n",
    "    ])"
   ]
  },
  {
   "cell_type": "code",
   "execution_count": 8,
   "id": "89554196",
   "metadata": {
    "execution": {
     "iopub.execute_input": "2024-02-17T10:28:09.121859Z",
     "iopub.status.busy": "2024-02-17T10:28:09.121169Z",
     "iopub.status.idle": "2024-02-17T10:28:55.083343Z",
     "shell.execute_reply": "2024-02-17T10:28:55.081862Z"
    },
    "papermill": {
     "duration": 45.973478,
     "end_time": "2024-02-17T10:28:55.087267",
     "exception": false,
     "start_time": "2024-02-17T10:28:09.113789",
     "status": "completed"
    },
    "tags": []
   },
   "outputs": [],
   "source": [
    "# Apply one-hot encoding and SMOTE for handling imbalance\n",
    "preprocessed_X_train = preprocessor.fit_transform(X_train)\n",
    "preprocessed_X_valid = preprocessor.transform(X_valid)\n",
    "\n",
    "smote = SMOTE(random_state=42)\n",
    "X_train_resampled, y_train_resampled = smote.fit_resample(preprocessed_X_train, y_train)\n"
   ]
  },
  {
   "cell_type": "code",
   "execution_count": 9,
   "id": "9416e988",
   "metadata": {
    "execution": {
     "iopub.execute_input": "2024-02-17T10:28:55.102792Z",
     "iopub.status.busy": "2024-02-17T10:28:55.102360Z",
     "iopub.status.idle": "2024-02-17T10:28:55.111872Z",
     "shell.execute_reply": "2024-02-17T10:28:55.110970Z"
    },
    "papermill": {
     "duration": 0.019661,
     "end_time": "2024-02-17T10:28:55.114166",
     "exception": false,
     "start_time": "2024-02-17T10:28:55.094505",
     "status": "completed"
    },
    "tags": []
   },
   "outputs": [],
   "source": [
    "# Hyperparameter Optimization with Optuna\n",
    "def objective(trial):\n",
    "    # Define XGBoost parameters to tune\n",
    "    params = {\n",
    "        'n_estimators': trial.suggest_int('n_estimators', 50, 500),\n",
    "        'max_depth': trial.suggest_int('max_depth', 3, 15),\n",
    "        'learning_rate': trial.suggest_float('learning_rate', 0.001, 0.1, log=True),\n",
    "        'subsample': trial.suggest_float('subsample', 0.5, 1.0),\n",
    "        'colsample_bytree': trial.suggest_float('colsample_bytree', 0.5, 1.0),\n",
    "        'gamma': trial.suggest_float('gamma', 0.0, 1.0),\n",
    "        'min_child_weight': trial.suggest_int('min_child_weight', 1, 10),\n",
    "        'reg_alpha': trial.suggest_float('reg_alpha', 0.0, 10.0),\n",
    "        'reg_lambda': trial.suggest_float('reg_lambda', 0.0, 10.0),\n",
    "        'random_state': 42\n",
    "    }\n",
    "    \n",
    "    # Initialize XGBoost classifier with the parameters\n",
    "    xgb_model = XGBClassifier(**params)\n",
    "    \n",
    "    # Fit the model\n",
    "    xgb_model.fit(X_train_resampled, y_train_resampled)\n",
    "    \n",
    "    # Predict probabilities\n",
    "    y_pred = xgb_model.predict_proba(preprocessed_X_valid)[:, 1]\n",
    "    \n",
    "    # Calculate AUC\n",
    "    auc = roc_auc_score(y_valid, y_pred)\n",
    "    \n",
    "    return auc\n"
   ]
  },
  {
   "cell_type": "code",
   "execution_count": 10,
   "id": "a3e89c0b",
   "metadata": {
    "execution": {
     "iopub.execute_input": "2024-02-17T10:28:55.128462Z",
     "iopub.status.busy": "2024-02-17T10:28:55.127694Z",
     "iopub.status.idle": "2024-02-17T10:31:55.617404Z",
     "shell.execute_reply": "2024-02-17T10:31:55.616089Z"
    },
    "papermill": {
     "duration": 180.500042,
     "end_time": "2024-02-17T10:31:55.620317",
     "exception": false,
     "start_time": "2024-02-17T10:28:55.120275",
     "status": "completed"
    },
    "tags": []
   },
   "outputs": [],
   "source": [
    "# Run optimization\n",
    "study = optuna.create_study(direction='maximize')\n",
    "study.optimize(objective, n_trials=50)\n",
    "\n",
    "# Get best parameters\n",
    "best_params = study.best_params\n"
   ]
  },
  {
   "cell_type": "code",
   "execution_count": 11,
   "id": "92fa9220",
   "metadata": {
    "execution": {
     "iopub.execute_input": "2024-02-17T10:31:55.635317Z",
     "iopub.status.busy": "2024-02-17T10:31:55.634924Z",
     "iopub.status.idle": "2024-02-17T10:31:55.641070Z",
     "shell.execute_reply": "2024-02-17T10:31:55.639785Z"
    },
    "papermill": {
     "duration": 0.016153,
     "end_time": "2024-02-17T10:31:55.643700",
     "exception": false,
     "start_time": "2024-02-17T10:31:55.627547",
     "status": "completed"
    },
    "tags": []
   },
   "outputs": [],
   "source": [
    "# Model Building and Evaluation\n",
    "# Define XGBoost model\n",
    "xgb_model = XGBClassifier(random_state=42)\n",
    "\n",
    "clf = Pipeline(steps=[('classifier', xgb_model)])\n"
   ]
  },
  {
   "cell_type": "code",
   "execution_count": 12,
   "id": "ef8e69a2",
   "metadata": {
    "execution": {
     "iopub.execute_input": "2024-02-17T10:31:55.657577Z",
     "iopub.status.busy": "2024-02-17T10:31:55.657165Z",
     "iopub.status.idle": "2024-02-17T10:31:58.518652Z",
     "shell.execute_reply": "2024-02-17T10:31:58.517467Z"
    },
    "papermill": {
     "duration": 2.871476,
     "end_time": "2024-02-17T10:31:58.521270",
     "exception": false,
     "start_time": "2024-02-17T10:31:55.649794",
     "status": "completed"
    },
    "tags": []
   },
   "outputs": [
    {
     "data": {
      "text/html": [
       "<style>#sk-container-id-1 {color: black;background-color: white;}#sk-container-id-1 pre{padding: 0;}#sk-container-id-1 div.sk-toggleable {background-color: white;}#sk-container-id-1 label.sk-toggleable__label {cursor: pointer;display: block;width: 100%;margin-bottom: 0;padding: 0.3em;box-sizing: border-box;text-align: center;}#sk-container-id-1 label.sk-toggleable__label-arrow:before {content: \"▸\";float: left;margin-right: 0.25em;color: #696969;}#sk-container-id-1 label.sk-toggleable__label-arrow:hover:before {color: black;}#sk-container-id-1 div.sk-estimator:hover label.sk-toggleable__label-arrow:before {color: black;}#sk-container-id-1 div.sk-toggleable__content {max-height: 0;max-width: 0;overflow: hidden;text-align: left;background-color: #f0f8ff;}#sk-container-id-1 div.sk-toggleable__content pre {margin: 0.2em;color: black;border-radius: 0.25em;background-color: #f0f8ff;}#sk-container-id-1 input.sk-toggleable__control:checked~div.sk-toggleable__content {max-height: 200px;max-width: 100%;overflow: auto;}#sk-container-id-1 input.sk-toggleable__control:checked~label.sk-toggleable__label-arrow:before {content: \"▾\";}#sk-container-id-1 div.sk-estimator input.sk-toggleable__control:checked~label.sk-toggleable__label {background-color: #d4ebff;}#sk-container-id-1 div.sk-label input.sk-toggleable__control:checked~label.sk-toggleable__label {background-color: #d4ebff;}#sk-container-id-1 input.sk-hidden--visually {border: 0;clip: rect(1px 1px 1px 1px);clip: rect(1px, 1px, 1px, 1px);height: 1px;margin: -1px;overflow: hidden;padding: 0;position: absolute;width: 1px;}#sk-container-id-1 div.sk-estimator {font-family: monospace;background-color: #f0f8ff;border: 1px dotted black;border-radius: 0.25em;box-sizing: border-box;margin-bottom: 0.5em;}#sk-container-id-1 div.sk-estimator:hover {background-color: #d4ebff;}#sk-container-id-1 div.sk-parallel-item::after {content: \"\";width: 100%;border-bottom: 1px solid gray;flex-grow: 1;}#sk-container-id-1 div.sk-label:hover label.sk-toggleable__label {background-color: #d4ebff;}#sk-container-id-1 div.sk-serial::before {content: \"\";position: absolute;border-left: 1px solid gray;box-sizing: border-box;top: 0;bottom: 0;left: 50%;z-index: 0;}#sk-container-id-1 div.sk-serial {display: flex;flex-direction: column;align-items: center;background-color: white;padding-right: 0.2em;padding-left: 0.2em;position: relative;}#sk-container-id-1 div.sk-item {position: relative;z-index: 1;}#sk-container-id-1 div.sk-parallel {display: flex;align-items: stretch;justify-content: center;background-color: white;position: relative;}#sk-container-id-1 div.sk-item::before, #sk-container-id-1 div.sk-parallel-item::before {content: \"\";position: absolute;border-left: 1px solid gray;box-sizing: border-box;top: 0;bottom: 0;left: 50%;z-index: -1;}#sk-container-id-1 div.sk-parallel-item {display: flex;flex-direction: column;z-index: 1;position: relative;background-color: white;}#sk-container-id-1 div.sk-parallel-item:first-child::after {align-self: flex-end;width: 50%;}#sk-container-id-1 div.sk-parallel-item:last-child::after {align-self: flex-start;width: 50%;}#sk-container-id-1 div.sk-parallel-item:only-child::after {width: 0;}#sk-container-id-1 div.sk-dashed-wrapped {border: 1px dashed gray;margin: 0 0.4em 0.5em 0.4em;box-sizing: border-box;padding-bottom: 0.4em;background-color: white;}#sk-container-id-1 div.sk-label label {font-family: monospace;font-weight: bold;display: inline-block;line-height: 1.2em;}#sk-container-id-1 div.sk-label-container {text-align: center;}#sk-container-id-1 div.sk-container {/* jupyter's `normalize.less` sets `[hidden] { display: none; }` but bootstrap.min.css set `[hidden] { display: none !important; }` so we also need the `!important` here to be able to override the default hidden behavior on the sphinx rendered scikit-learn.org. See: https://github.com/scikit-learn/scikit-learn/issues/21755 */display: inline-block !important;position: relative;}#sk-container-id-1 div.sk-text-repr-fallback {display: none;}</style><div id=\"sk-container-id-1\" class=\"sk-top-container\"><div class=\"sk-text-repr-fallback\"><pre>Pipeline(steps=[(&#x27;classifier&#x27;,\n",
       "                 XGBClassifier(base_score=None, booster=None, callbacks=None,\n",
       "                               colsample_bylevel=None, colsample_bynode=None,\n",
       "                               colsample_bytree=None, device=None,\n",
       "                               early_stopping_rounds=None,\n",
       "                               enable_categorical=False, eval_metric=None,\n",
       "                               feature_types=None, gamma=None, grow_policy=None,\n",
       "                               importance_type=None,\n",
       "                               interaction_constraints=None, learning_rate=None,\n",
       "                               max_bin=None, max_cat_threshold=None,\n",
       "                               max_cat_to_onehot=None, max_delta_step=None,\n",
       "                               max_depth=None, max_leaves=None,\n",
       "                               min_child_weight=None, missing=nan,\n",
       "                               monotone_constraints=None, multi_strategy=None,\n",
       "                               n_estimators=None, n_jobs=None,\n",
       "                               num_parallel_tree=None, random_state=42, ...))])</pre><b>In a Jupyter environment, please rerun this cell to show the HTML representation or trust the notebook. <br />On GitHub, the HTML representation is unable to render, please try loading this page with nbviewer.org.</b></div><div class=\"sk-container\" hidden><div class=\"sk-item sk-dashed-wrapped\"><div class=\"sk-label-container\"><div class=\"sk-label sk-toggleable\"><input class=\"sk-toggleable__control sk-hidden--visually\" id=\"sk-estimator-id-1\" type=\"checkbox\" ><label for=\"sk-estimator-id-1\" class=\"sk-toggleable__label sk-toggleable__label-arrow\">Pipeline</label><div class=\"sk-toggleable__content\"><pre>Pipeline(steps=[(&#x27;classifier&#x27;,\n",
       "                 XGBClassifier(base_score=None, booster=None, callbacks=None,\n",
       "                               colsample_bylevel=None, colsample_bynode=None,\n",
       "                               colsample_bytree=None, device=None,\n",
       "                               early_stopping_rounds=None,\n",
       "                               enable_categorical=False, eval_metric=None,\n",
       "                               feature_types=None, gamma=None, grow_policy=None,\n",
       "                               importance_type=None,\n",
       "                               interaction_constraints=None, learning_rate=None,\n",
       "                               max_bin=None, max_cat_threshold=None,\n",
       "                               max_cat_to_onehot=None, max_delta_step=None,\n",
       "                               max_depth=None, max_leaves=None,\n",
       "                               min_child_weight=None, missing=nan,\n",
       "                               monotone_constraints=None, multi_strategy=None,\n",
       "                               n_estimators=None, n_jobs=None,\n",
       "                               num_parallel_tree=None, random_state=42, ...))])</pre></div></div></div><div class=\"sk-serial\"><div class=\"sk-item\"><div class=\"sk-estimator sk-toggleable\"><input class=\"sk-toggleable__control sk-hidden--visually\" id=\"sk-estimator-id-2\" type=\"checkbox\" ><label for=\"sk-estimator-id-2\" class=\"sk-toggleable__label sk-toggleable__label-arrow\">XGBClassifier</label><div class=\"sk-toggleable__content\"><pre>XGBClassifier(base_score=None, booster=None, callbacks=None,\n",
       "              colsample_bylevel=None, colsample_bynode=None,\n",
       "              colsample_bytree=None, device=None, early_stopping_rounds=None,\n",
       "              enable_categorical=False, eval_metric=None, feature_types=None,\n",
       "              gamma=None, grow_policy=None, importance_type=None,\n",
       "              interaction_constraints=None, learning_rate=None, max_bin=None,\n",
       "              max_cat_threshold=None, max_cat_to_onehot=None,\n",
       "              max_delta_step=None, max_depth=None, max_leaves=None,\n",
       "              min_child_weight=None, missing=nan, monotone_constraints=None,\n",
       "              multi_strategy=None, n_estimators=None, n_jobs=None,\n",
       "              num_parallel_tree=None, random_state=42, ...)</pre></div></div></div></div></div></div></div>"
      ],
      "text/plain": [
       "Pipeline(steps=[('classifier',\n",
       "                 XGBClassifier(base_score=None, booster=None, callbacks=None,\n",
       "                               colsample_bylevel=None, colsample_bynode=None,\n",
       "                               colsample_bytree=None, device=None,\n",
       "                               early_stopping_rounds=None,\n",
       "                               enable_categorical=False, eval_metric=None,\n",
       "                               feature_types=None, gamma=None, grow_policy=None,\n",
       "                               importance_type=None,\n",
       "                               interaction_constraints=None, learning_rate=None,\n",
       "                               max_bin=None, max_cat_threshold=None,\n",
       "                               max_cat_to_onehot=None, max_delta_step=None,\n",
       "                               max_depth=None, max_leaves=None,\n",
       "                               min_child_weight=None, missing=nan,\n",
       "                               monotone_constraints=None, multi_strategy=None,\n",
       "                               n_estimators=None, n_jobs=None,\n",
       "                               num_parallel_tree=None, random_state=42, ...))])"
      ]
     },
     "execution_count": 12,
     "metadata": {},
     "output_type": "execute_result"
    }
   ],
   "source": [
    "# Fit the model\n",
    "clf.fit(X_train_resampled, y_train_resampled)\n"
   ]
  },
  {
   "cell_type": "code",
   "execution_count": 13,
   "id": "adc0997f",
   "metadata": {
    "execution": {
     "iopub.execute_input": "2024-02-17T10:31:58.537798Z",
     "iopub.status.busy": "2024-02-17T10:31:58.536565Z",
     "iopub.status.idle": "2024-02-17T10:31:58.556092Z",
     "shell.execute_reply": "2024-02-17T10:31:58.554850Z"
    },
    "papermill": {
     "duration": 0.030181,
     "end_time": "2024-02-17T10:31:58.559066",
     "exception": false,
     "start_time": "2024-02-17T10:31:58.528885",
     "status": "completed"
    },
    "tags": []
   },
   "outputs": [
    {
     "name": "stdout",
     "output_type": "stream",
     "text": [
      "XGBoost with SMOTE and Optuna Tuning: AUC = 0.7901\n"
     ]
    }
   ],
   "source": [
    "# Evaluate the model\n",
    "y_pred = clf.predict_proba(preprocessed_X_valid)[:, 1]\n",
    "auc = roc_auc_score(y_valid, y_pred)\n",
    "print(f'XGBoost with SMOTE and Optuna Tuning: AUC = {auc:.4f}')"
   ]
  },
  {
   "cell_type": "code",
   "execution_count": 14,
   "id": "44a50de9",
   "metadata": {
    "execution": {
     "iopub.execute_input": "2024-02-17T10:31:58.574505Z",
     "iopub.status.busy": "2024-02-17T10:31:58.574129Z",
     "iopub.status.idle": "2024-02-17T10:31:58.657705Z",
     "shell.execute_reply": "2024-02-17T10:31:58.656722Z"
    },
    "papermill": {
     "duration": 0.094062,
     "end_time": "2024-02-17T10:31:58.660454",
     "exception": false,
     "start_time": "2024-02-17T10:31:58.566392",
     "status": "completed"
    },
    "tags": []
   },
   "outputs": [],
   "source": [
    "# Make predictions on test set\n",
    "preprocessed_X_test = preprocessor.transform(women_test)\n",
    "final_predictions = clf.predict_proba(preprocessed_X_test)[:, 1]\n"
   ]
  },
  {
   "cell_type": "code",
   "execution_count": 15,
   "id": "4237ff3e",
   "metadata": {
    "execution": {
     "iopub.execute_input": "2024-02-17T10:31:58.676913Z",
     "iopub.status.busy": "2024-02-17T10:31:58.676513Z",
     "iopub.status.idle": "2024-02-17T10:31:58.700769Z",
     "shell.execute_reply": "2024-02-17T10:31:58.699753Z"
    },
    "papermill": {
     "duration": 0.035485,
     "end_time": "2024-02-17T10:31:58.703544",
     "exception": false,
     "start_time": "2024-02-17T10:31:58.668059",
     "status": "completed"
    },
    "tags": []
   },
   "outputs": [],
   "source": [
    "\n",
    "# Prepare submission file\n",
    "submission_df = pd.DataFrame({'patient_id': women_test['patient_id'], 'DiagPeriodL90D': final_predictions})\n",
    "submission_df.to_csv('submission_xgb_with_smote_and_optuna.csv', index=False)"
   ]
  },
  {
   "cell_type": "code",
   "execution_count": null,
   "id": "573ac4cc",
   "metadata": {
    "papermill": {
     "duration": 0.006203,
     "end_time": "2024-02-17T10:31:58.716283",
     "exception": false,
     "start_time": "2024-02-17T10:31:58.710080",
     "status": "completed"
    },
    "tags": []
   },
   "outputs": [],
   "source": []
  }
 ],
 "metadata": {
  "kaggle": {
   "accelerator": "none",
   "dataSources": [
    {
     "databundleVersionId": 7469115,
     "sourceId": 65862,
     "sourceType": "competition"
    }
   ],
   "dockerImageVersionId": 30646,
   "isGpuEnabled": false,
   "isInternetEnabled": true,
   "language": "python",
   "sourceType": "notebook"
  },
  "kernelspec": {
   "display_name": "Python 3",
   "language": "python",
   "name": "python3"
  },
  "language_info": {
   "codemirror_mode": {
    "name": "ipython",
    "version": 3
   },
   "file_extension": ".py",
   "mimetype": "text/x-python",
   "name": "python",
   "nbconvert_exporter": "python",
   "pygments_lexer": "ipython3",
   "version": "3.10.13"
  },
  "papermill": {
   "default_parameters": {},
   "duration": 239.700686,
   "end_time": "2024-02-17T10:31:59.546432",
   "environment_variables": {},
   "exception": null,
   "input_path": "__notebook__.ipynb",
   "output_path": "__notebook__.ipynb",
   "parameters": {},
   "start_time": "2024-02-17T10:27:59.845746",
   "version": "2.5.0"
  }
 },
 "nbformat": 4,
 "nbformat_minor": 5
}
