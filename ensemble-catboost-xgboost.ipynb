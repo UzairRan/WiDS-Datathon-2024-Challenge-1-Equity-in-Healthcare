{
 "cells": [
  {
   "cell_type": "code",
   "execution_count": 1,
   "id": "7447d0f1",
   "metadata": {
    "_cell_guid": "b1076dfc-b9ad-4769-8c92-a6c4dae69d19",
    "_uuid": "8f2839f25d086af736a60e9eeb907d3b93b6e0e5",
    "execution": {
     "iopub.execute_input": "2024-02-17T16:40:19.533582Z",
     "iopub.status.busy": "2024-02-17T16:40:19.532624Z",
     "iopub.status.idle": "2024-02-17T16:40:24.606097Z",
     "shell.execute_reply": "2024-02-17T16:40:24.604860Z"
    },
    "papermill": {
     "duration": 5.087722,
     "end_time": "2024-02-17T16:40:24.609141",
     "exception": false,
     "start_time": "2024-02-17T16:40:19.521419",
     "status": "completed"
    },
    "tags": []
   },
   "outputs": [],
   "source": [
    "# Necessary Libraries\n",
    "import pandas as pd\n",
    "import numpy as np\n",
    "import seaborn as sns\n",
    "import matplotlib.pyplot as plt\n",
    "from sklearn.model_selection import train_test_split\n",
    "from sklearn.impute import SimpleImputer\n",
    "from sklearn.preprocessing import StandardScaler, OneHotEncoder\n",
    "from sklearn.compose import ColumnTransformer\n",
    "from sklearn.pipeline import Pipeline\n",
    "from xgboost import XGBClassifier\n",
    "from catboost import CatBoostClassifier\n",
    "from sklearn.ensemble import VotingClassifier\n",
    "from sklearn.metrics import roc_auc_score\n",
    "import optuna\n",
    "import logging\n",
    "\n",
    "optuna.logging.set_verbosity(optuna.logging.WARNING)\n"
   ]
  },
  {
   "cell_type": "code",
   "execution_count": 2,
   "id": "c71c6c81",
   "metadata": {
    "execution": {
     "iopub.execute_input": "2024-02-17T16:40:24.629609Z",
     "iopub.status.busy": "2024-02-17T16:40:24.628625Z",
     "iopub.status.idle": "2024-02-17T16:40:25.238578Z",
     "shell.execute_reply": "2024-02-17T16:40:25.237545Z"
    },
    "papermill": {
     "duration": 0.623089,
     "end_time": "2024-02-17T16:40:25.241590",
     "exception": false,
     "start_time": "2024-02-17T16:40:24.618501",
     "status": "completed"
    },
    "tags": []
   },
   "outputs": [],
   "source": [
    "# Exploratory Data Analysis\n",
    "# Load Data\n",
    "women_train = pd.read_csv('/kaggle/input/widsdatathon2024-challenge1/training.csv')\n",
    "women_test = pd.read_csv(\"/kaggle/input/widsdatathon2024-challenge1/test.csv\")\n",
    "sample_submission = pd.read_csv(\"/kaggle/input/widsdatathon2024-challenge1/sample_submission.csv\")\n"
   ]
  },
  {
   "cell_type": "code",
   "execution_count": 3,
   "id": "84c5f324",
   "metadata": {
    "execution": {
     "iopub.execute_input": "2024-02-17T16:40:25.260199Z",
     "iopub.status.busy": "2024-02-17T16:40:25.259766Z",
     "iopub.status.idle": "2024-02-17T16:40:25.307652Z",
     "shell.execute_reply": "2024-02-17T16:40:25.306508Z"
    },
    "papermill": {
     "duration": 0.059974,
     "end_time": "2024-02-17T16:40:25.310010",
     "exception": false,
     "start_time": "2024-02-17T16:40:25.250036",
     "status": "completed"
    },
    "tags": []
   },
   "outputs": [
    {
     "data": {
      "text/html": [
       "<div>\n",
       "<style scoped>\n",
       "    .dataframe tbody tr th:only-of-type {\n",
       "        vertical-align: middle;\n",
       "    }\n",
       "\n",
       "    .dataframe tbody tr th {\n",
       "        vertical-align: top;\n",
       "    }\n",
       "\n",
       "    .dataframe thead th {\n",
       "        text-align: right;\n",
       "    }\n",
       "</style>\n",
       "<table border=\"1\" class=\"dataframe\">\n",
       "  <thead>\n",
       "    <tr style=\"text-align: right;\">\n",
       "      <th></th>\n",
       "      <th>patient_id</th>\n",
       "      <th>patient_race</th>\n",
       "      <th>payer_type</th>\n",
       "      <th>patient_state</th>\n",
       "      <th>patient_zip3</th>\n",
       "      <th>patient_age</th>\n",
       "      <th>patient_gender</th>\n",
       "      <th>bmi</th>\n",
       "      <th>breast_cancer_diagnosis_code</th>\n",
       "      <th>breast_cancer_diagnosis_desc</th>\n",
       "      <th>...</th>\n",
       "      <th>disabled</th>\n",
       "      <th>poverty</th>\n",
       "      <th>limited_english</th>\n",
       "      <th>commute_time</th>\n",
       "      <th>health_uninsured</th>\n",
       "      <th>veteran</th>\n",
       "      <th>Ozone</th>\n",
       "      <th>PM25</th>\n",
       "      <th>N02</th>\n",
       "      <th>DiagPeriodL90D</th>\n",
       "    </tr>\n",
       "  </thead>\n",
       "  <tbody>\n",
       "    <tr>\n",
       "      <th>0</th>\n",
       "      <td>475714</td>\n",
       "      <td>NaN</td>\n",
       "      <td>MEDICAID</td>\n",
       "      <td>CA</td>\n",
       "      <td>924</td>\n",
       "      <td>84</td>\n",
       "      <td>F</td>\n",
       "      <td>NaN</td>\n",
       "      <td>C50919</td>\n",
       "      <td>Malignant neoplasm of unsp site of unspecified...</td>\n",
       "      <td>...</td>\n",
       "      <td>12.871429</td>\n",
       "      <td>22.542857</td>\n",
       "      <td>10.100000</td>\n",
       "      <td>27.814286</td>\n",
       "      <td>11.200000</td>\n",
       "      <td>3.500000</td>\n",
       "      <td>52.237210</td>\n",
       "      <td>8.650555</td>\n",
       "      <td>18.606528</td>\n",
       "      <td>1</td>\n",
       "    </tr>\n",
       "    <tr>\n",
       "      <th>1</th>\n",
       "      <td>349367</td>\n",
       "      <td>White</td>\n",
       "      <td>COMMERCIAL</td>\n",
       "      <td>CA</td>\n",
       "      <td>928</td>\n",
       "      <td>62</td>\n",
       "      <td>F</td>\n",
       "      <td>28.49</td>\n",
       "      <td>C50411</td>\n",
       "      <td>Malig neoplm of upper-outer quadrant of right ...</td>\n",
       "      <td>...</td>\n",
       "      <td>8.957576</td>\n",
       "      <td>10.109091</td>\n",
       "      <td>8.057576</td>\n",
       "      <td>30.606061</td>\n",
       "      <td>7.018182</td>\n",
       "      <td>4.103030</td>\n",
       "      <td>42.301121</td>\n",
       "      <td>8.487175</td>\n",
       "      <td>20.113179</td>\n",
       "      <td>1</td>\n",
       "    </tr>\n",
       "    <tr>\n",
       "      <th>2</th>\n",
       "      <td>138632</td>\n",
       "      <td>White</td>\n",
       "      <td>COMMERCIAL</td>\n",
       "      <td>TX</td>\n",
       "      <td>760</td>\n",
       "      <td>43</td>\n",
       "      <td>F</td>\n",
       "      <td>38.09</td>\n",
       "      <td>C50112</td>\n",
       "      <td>Malignant neoplasm of central portion of left ...</td>\n",
       "      <td>...</td>\n",
       "      <td>11.253333</td>\n",
       "      <td>9.663333</td>\n",
       "      <td>3.356667</td>\n",
       "      <td>31.394915</td>\n",
       "      <td>15.066667</td>\n",
       "      <td>7.446667</td>\n",
       "      <td>40.108207</td>\n",
       "      <td>7.642753</td>\n",
       "      <td>14.839351</td>\n",
       "      <td>1</td>\n",
       "    </tr>\n",
       "    <tr>\n",
       "      <th>3</th>\n",
       "      <td>617843</td>\n",
       "      <td>White</td>\n",
       "      <td>COMMERCIAL</td>\n",
       "      <td>CA</td>\n",
       "      <td>926</td>\n",
       "      <td>45</td>\n",
       "      <td>F</td>\n",
       "      <td>NaN</td>\n",
       "      <td>C50212</td>\n",
       "      <td>Malig neoplasm of upper-inner quadrant of left...</td>\n",
       "      <td>...</td>\n",
       "      <td>8.845238</td>\n",
       "      <td>8.688095</td>\n",
       "      <td>5.280952</td>\n",
       "      <td>27.561905</td>\n",
       "      <td>4.404762</td>\n",
       "      <td>4.809524</td>\n",
       "      <td>42.070075</td>\n",
       "      <td>7.229393</td>\n",
       "      <td>15.894123</td>\n",
       "      <td>0</td>\n",
       "    </tr>\n",
       "    <tr>\n",
       "      <th>4</th>\n",
       "      <td>817482</td>\n",
       "      <td>NaN</td>\n",
       "      <td>COMMERCIAL</td>\n",
       "      <td>ID</td>\n",
       "      <td>836</td>\n",
       "      <td>55</td>\n",
       "      <td>F</td>\n",
       "      <td>NaN</td>\n",
       "      <td>1749</td>\n",
       "      <td>Malignant neoplasm of breast (female), unspeci...</td>\n",
       "      <td>...</td>\n",
       "      <td>15.276000</td>\n",
       "      <td>11.224000</td>\n",
       "      <td>1.946000</td>\n",
       "      <td>26.170213</td>\n",
       "      <td>12.088000</td>\n",
       "      <td>13.106000</td>\n",
       "      <td>41.356058</td>\n",
       "      <td>4.110749</td>\n",
       "      <td>11.722197</td>\n",
       "      <td>0</td>\n",
       "    </tr>\n",
       "    <tr>\n",
       "      <th>5</th>\n",
       "      <td>111545</td>\n",
       "      <td>White</td>\n",
       "      <td>MEDICARE ADVANTAGE</td>\n",
       "      <td>NY</td>\n",
       "      <td>141</td>\n",
       "      <td>66</td>\n",
       "      <td>F</td>\n",
       "      <td>NaN</td>\n",
       "      <td>1749</td>\n",
       "      <td>Malignant neoplasm of breast (female), unspeci...</td>\n",
       "      <td>...</td>\n",
       "      <td>13.717143</td>\n",
       "      <td>8.888235</td>\n",
       "      <td>0.638235</td>\n",
       "      <td>25.000000</td>\n",
       "      <td>4.797143</td>\n",
       "      <td>7.745714</td>\n",
       "      <td>40.107248</td>\n",
       "      <td>6.181812</td>\n",
       "      <td>13.562528</td>\n",
       "      <td>0</td>\n",
       "    </tr>\n",
       "    <tr>\n",
       "      <th>6</th>\n",
       "      <td>914071</td>\n",
       "      <td>NaN</td>\n",
       "      <td>COMMERCIAL</td>\n",
       "      <td>CA</td>\n",
       "      <td>900</td>\n",
       "      <td>51</td>\n",
       "      <td>F</td>\n",
       "      <td>29.05</td>\n",
       "      <td>C50912</td>\n",
       "      <td>Malignant neoplasm of unspecified site of left...</td>\n",
       "      <td>...</td>\n",
       "      <td>11.901538</td>\n",
       "      <td>20.760000</td>\n",
       "      <td>14.737500</td>\n",
       "      <td>30.709375</td>\n",
       "      <td>10.341538</td>\n",
       "      <td>3.030769</td>\n",
       "      <td>41.186992</td>\n",
       "      <td>11.166898</td>\n",
       "      <td>21.644261</td>\n",
       "      <td>1</td>\n",
       "    </tr>\n",
       "    <tr>\n",
       "      <th>7</th>\n",
       "      <td>479368</td>\n",
       "      <td>White</td>\n",
       "      <td>COMMERCIAL</td>\n",
       "      <td>IL</td>\n",
       "      <td>619</td>\n",
       "      <td>60</td>\n",
       "      <td>F</td>\n",
       "      <td>NaN</td>\n",
       "      <td>C50512</td>\n",
       "      <td>Malig neoplasm of lower-outer quadrant of left...</td>\n",
       "      <td>...</td>\n",
       "      <td>15.260000</td>\n",
       "      <td>10.890000</td>\n",
       "      <td>0.503333</td>\n",
       "      <td>24.275862</td>\n",
       "      <td>8.753333</td>\n",
       "      <td>7.506667</td>\n",
       "      <td>37.646770</td>\n",
       "      <td>7.295977</td>\n",
       "      <td>12.914805</td>\n",
       "      <td>1</td>\n",
       "    </tr>\n",
       "    <tr>\n",
       "      <th>8</th>\n",
       "      <td>994014</td>\n",
       "      <td>White</td>\n",
       "      <td>MEDICARE ADVANTAGE</td>\n",
       "      <td>NaN</td>\n",
       "      <td>973</td>\n",
       "      <td>82</td>\n",
       "      <td>F</td>\n",
       "      <td>NaN</td>\n",
       "      <td>1744</td>\n",
       "      <td>Malignant neoplasm of upper-outer quadrant of ...</td>\n",
       "      <td>...</td>\n",
       "      <td>19.371875</td>\n",
       "      <td>14.593651</td>\n",
       "      <td>1.620968</td>\n",
       "      <td>26.015254</td>\n",
       "      <td>6.645313</td>\n",
       "      <td>10.955385</td>\n",
       "      <td>36.323573</td>\n",
       "      <td>4.744352</td>\n",
       "      <td>10.439314</td>\n",
       "      <td>0</td>\n",
       "    </tr>\n",
       "    <tr>\n",
       "      <th>9</th>\n",
       "      <td>155485</td>\n",
       "      <td>NaN</td>\n",
       "      <td>COMMERCIAL</td>\n",
       "      <td>IL</td>\n",
       "      <td>617</td>\n",
       "      <td>64</td>\n",
       "      <td>F</td>\n",
       "      <td>NaN</td>\n",
       "      <td>C50912</td>\n",
       "      <td>Malignant neoplasm of unspecified site of left...</td>\n",
       "      <td>...</td>\n",
       "      <td>11.816981</td>\n",
       "      <td>8.443396</td>\n",
       "      <td>0.190566</td>\n",
       "      <td>23.843396</td>\n",
       "      <td>4.684906</td>\n",
       "      <td>9.016981</td>\n",
       "      <td>37.773830</td>\n",
       "      <td>7.299998</td>\n",
       "      <td>14.942968</td>\n",
       "      <td>1</td>\n",
       "    </tr>\n",
       "  </tbody>\n",
       "</table>\n",
       "<p>10 rows × 83 columns</p>\n",
       "</div>"
      ],
      "text/plain": [
       "   patient_id patient_race          payer_type patient_state  patient_zip3  \\\n",
       "0      475714          NaN            MEDICAID            CA           924   \n",
       "1      349367        White          COMMERCIAL            CA           928   \n",
       "2      138632        White          COMMERCIAL            TX           760   \n",
       "3      617843        White          COMMERCIAL            CA           926   \n",
       "4      817482          NaN          COMMERCIAL            ID           836   \n",
       "5      111545        White  MEDICARE ADVANTAGE            NY           141   \n",
       "6      914071          NaN          COMMERCIAL            CA           900   \n",
       "7      479368        White          COMMERCIAL            IL           619   \n",
       "8      994014        White  MEDICARE ADVANTAGE           NaN           973   \n",
       "9      155485          NaN          COMMERCIAL            IL           617   \n",
       "\n",
       "   patient_age patient_gender    bmi breast_cancer_diagnosis_code  \\\n",
       "0           84              F    NaN                       C50919   \n",
       "1           62              F  28.49                       C50411   \n",
       "2           43              F  38.09                       C50112   \n",
       "3           45              F    NaN                       C50212   \n",
       "4           55              F    NaN                         1749   \n",
       "5           66              F    NaN                         1749   \n",
       "6           51              F  29.05                       C50912   \n",
       "7           60              F    NaN                       C50512   \n",
       "8           82              F    NaN                         1744   \n",
       "9           64              F    NaN                       C50912   \n",
       "\n",
       "                        breast_cancer_diagnosis_desc  ...   disabled  \\\n",
       "0  Malignant neoplasm of unsp site of unspecified...  ...  12.871429   \n",
       "1  Malig neoplm of upper-outer quadrant of right ...  ...   8.957576   \n",
       "2  Malignant neoplasm of central portion of left ...  ...  11.253333   \n",
       "3  Malig neoplasm of upper-inner quadrant of left...  ...   8.845238   \n",
       "4  Malignant neoplasm of breast (female), unspeci...  ...  15.276000   \n",
       "5  Malignant neoplasm of breast (female), unspeci...  ...  13.717143   \n",
       "6  Malignant neoplasm of unspecified site of left...  ...  11.901538   \n",
       "7  Malig neoplasm of lower-outer quadrant of left...  ...  15.260000   \n",
       "8  Malignant neoplasm of upper-outer quadrant of ...  ...  19.371875   \n",
       "9  Malignant neoplasm of unspecified site of left...  ...  11.816981   \n",
       "\n",
       "     poverty limited_english commute_time health_uninsured    veteran  \\\n",
       "0  22.542857       10.100000    27.814286        11.200000   3.500000   \n",
       "1  10.109091        8.057576    30.606061         7.018182   4.103030   \n",
       "2   9.663333        3.356667    31.394915        15.066667   7.446667   \n",
       "3   8.688095        5.280952    27.561905         4.404762   4.809524   \n",
       "4  11.224000        1.946000    26.170213        12.088000  13.106000   \n",
       "5   8.888235        0.638235    25.000000         4.797143   7.745714   \n",
       "6  20.760000       14.737500    30.709375        10.341538   3.030769   \n",
       "7  10.890000        0.503333    24.275862         8.753333   7.506667   \n",
       "8  14.593651        1.620968    26.015254         6.645313  10.955385   \n",
       "9   8.443396        0.190566    23.843396         4.684906   9.016981   \n",
       "\n",
       "       Ozone       PM25        N02  DiagPeriodL90D  \n",
       "0  52.237210   8.650555  18.606528               1  \n",
       "1  42.301121   8.487175  20.113179               1  \n",
       "2  40.108207   7.642753  14.839351               1  \n",
       "3  42.070075   7.229393  15.894123               0  \n",
       "4  41.356058   4.110749  11.722197               0  \n",
       "5  40.107248   6.181812  13.562528               0  \n",
       "6  41.186992  11.166898  21.644261               1  \n",
       "7  37.646770   7.295977  12.914805               1  \n",
       "8  36.323573   4.744352  10.439314               0  \n",
       "9  37.773830   7.299998  14.942968               1  \n",
       "\n",
       "[10 rows x 83 columns]"
      ]
     },
     "execution_count": 3,
     "metadata": {},
     "output_type": "execute_result"
    }
   ],
   "source": [
    "\n",
    "# Train Data Info\n",
    "women_train.head(10)\n"
   ]
  },
  {
   "cell_type": "code",
   "execution_count": 4,
   "id": "84eb58ac",
   "metadata": {
    "execution": {
     "iopub.execute_input": "2024-02-17T16:40:25.329495Z",
     "iopub.status.busy": "2024-02-17T16:40:25.329033Z",
     "iopub.status.idle": "2024-02-17T16:40:25.354413Z",
     "shell.execute_reply": "2024-02-17T16:40:25.352528Z"
    },
    "papermill": {
     "duration": 0.038148,
     "end_time": "2024-02-17T16:40:25.357128",
     "exception": false,
     "start_time": "2024-02-17T16:40:25.318980",
     "status": "completed"
    },
    "tags": []
   },
   "outputs": [
    {
     "name": "stdout",
     "output_type": "stream",
     "text": [
      "patient_id           0\n",
      "patient_race      6385\n",
      "payer_type        1803\n",
      "patient_state       51\n",
      "patient_zip3         0\n",
      "                  ... \n",
      "veteran              1\n",
      "Ozone               29\n",
      "PM25                29\n",
      "N02                 29\n",
      "DiagPeriodL90D       0\n",
      "Length: 83, dtype: int64\n"
     ]
    }
   ],
   "source": [
    "# Missing Values Check\n",
    "print(women_train.isnull().sum())\n",
    "\n"
   ]
  },
  {
   "cell_type": "code",
   "execution_count": 5,
   "id": "43b876f6",
   "metadata": {
    "execution": {
     "iopub.execute_input": "2024-02-17T16:40:25.377177Z",
     "iopub.status.busy": "2024-02-17T16:40:25.376755Z",
     "iopub.status.idle": "2024-02-17T16:40:25.392835Z",
     "shell.execute_reply": "2024-02-17T16:40:25.391199Z"
    },
    "papermill": {
     "duration": 0.029516,
     "end_time": "2024-02-17T16:40:25.395546",
     "exception": false,
     "start_time": "2024-02-17T16:40:25.366030",
     "status": "completed"
    },
    "tags": []
   },
   "outputs": [
    {
     "name": "stdout",
     "output_type": "stream",
     "text": [
      "patient_id             0\n",
      "patient_race        2901\n",
      "payer_type           760\n",
      "patient_state         21\n",
      "patient_zip3           0\n",
      "                    ... \n",
      "health_uninsured       0\n",
      "veteran                0\n",
      "Ozone                 14\n",
      "PM25                  14\n",
      "N02                   14\n",
      "Length: 82, dtype: int64\n"
     ]
    }
   ],
   "source": [
    "print(women_test.isnull().sum())"
   ]
  },
  {
   "cell_type": "code",
   "execution_count": 6,
   "id": "a2a5d0e2",
   "metadata": {
    "execution": {
     "iopub.execute_input": "2024-02-17T16:40:25.416185Z",
     "iopub.status.busy": "2024-02-17T16:40:25.415732Z",
     "iopub.status.idle": "2024-02-17T16:40:25.433544Z",
     "shell.execute_reply": "2024-02-17T16:40:25.432074Z"
    },
    "papermill": {
     "duration": 0.032003,
     "end_time": "2024-02-17T16:40:25.436620",
     "exception": false,
     "start_time": "2024-02-17T16:40:25.404617",
     "status": "completed"
    },
    "tags": []
   },
   "outputs": [],
   "source": [
    "# Feature Engineering\n",
    "# Drop unnecessary columns for modeling\n",
    "drop_columns = ['metastatic_first_novel_treatment', 'metastatic_first_novel_treatment_type', 'bmi','patient_race']\n",
    "women_train = women_train.drop(columns=drop_columns)\n",
    "women_test = women_test.drop(columns=drop_columns)\n"
   ]
  },
  {
   "cell_type": "code",
   "execution_count": 7,
   "id": "a427257f",
   "metadata": {
    "execution": {
     "iopub.execute_input": "2024-02-17T16:40:25.457495Z",
     "iopub.status.busy": "2024-02-17T16:40:25.457080Z",
     "iopub.status.idle": "2024-02-17T16:40:25.467958Z",
     "shell.execute_reply": "2024-02-17T16:40:25.466990Z"
    },
    "papermill": {
     "duration": 0.024535,
     "end_time": "2024-02-17T16:40:25.470523",
     "exception": false,
     "start_time": "2024-02-17T16:40:25.445988",
     "status": "completed"
    },
    "tags": []
   },
   "outputs": [],
   "source": [
    "# Define features and target variable\n",
    "X = women_train.drop(columns=['DiagPeriodL90D'])\n",
    "y = women_train['DiagPeriodL90D']\n"
   ]
  },
  {
   "cell_type": "code",
   "execution_count": 8,
   "id": "8824079c",
   "metadata": {
    "execution": {
     "iopub.execute_input": "2024-02-17T16:40:25.491242Z",
     "iopub.status.busy": "2024-02-17T16:40:25.490768Z",
     "iopub.status.idle": "2024-02-17T16:40:25.510428Z",
     "shell.execute_reply": "2024-02-17T16:40:25.509095Z"
    },
    "papermill": {
     "duration": 0.033786,
     "end_time": "2024-02-17T16:40:25.513401",
     "exception": false,
     "start_time": "2024-02-17T16:40:25.479615",
     "status": "completed"
    },
    "tags": []
   },
   "outputs": [],
   "source": [
    "# Split the data into training and validation sets\n",
    "X_train, X_valid, y_train, y_valid = train_test_split(X, y, test_size=0.2, random_state=42)\n"
   ]
  },
  {
   "cell_type": "code",
   "execution_count": 9,
   "id": "588b8e69",
   "metadata": {
    "execution": {
     "iopub.execute_input": "2024-02-17T16:40:25.533449Z",
     "iopub.status.busy": "2024-02-17T16:40:25.532995Z",
     "iopub.status.idle": "2024-02-17T16:40:25.548072Z",
     "shell.execute_reply": "2024-02-17T16:40:25.546889Z"
    },
    "papermill": {
     "duration": 0.028359,
     "end_time": "2024-02-17T16:40:25.550788",
     "exception": false,
     "start_time": "2024-02-17T16:40:25.522429",
     "status": "completed"
    },
    "tags": []
   },
   "outputs": [],
   "source": [
    "# Preprocessing for numerical and categorical data\n",
    "numerical_cols = X.select_dtypes(include=['int64', 'float64']).columns\n",
    "categorical_cols = X.select_dtypes(include=['object']).columns\n",
    "\n",
    "numerical_transformer = Pipeline(steps=[\n",
    "    ('imputer', SimpleImputer(strategy='mean')),\n",
    "    ('scaler', StandardScaler())\n",
    "])\n",
    "\n",
    "categorical_transformer = Pipeline(steps=[\n",
    "    ('imputer', SimpleImputer(strategy='most_frequent')),\n",
    "    ('onehot', OneHotEncoder(handle_unknown='ignore'))\n",
    "])"
   ]
  },
  {
   "cell_type": "code",
   "execution_count": 10,
   "id": "28922ce6",
   "metadata": {
    "execution": {
     "iopub.execute_input": "2024-02-17T16:40:25.571206Z",
     "iopub.status.busy": "2024-02-17T16:40:25.570364Z",
     "iopub.status.idle": "2024-02-17T16:40:25.576302Z",
     "shell.execute_reply": "2024-02-17T16:40:25.575236Z"
    },
    "papermill": {
     "duration": 0.018763,
     "end_time": "2024-02-17T16:40:25.578754",
     "exception": false,
     "start_time": "2024-02-17T16:40:25.559991",
     "status": "completed"
    },
    "tags": []
   },
   "outputs": [],
   "source": [
    "# Bundle preprocessing for numerical and categorical data\n",
    "preprocessor = ColumnTransformer(\n",
    "    transformers=[\n",
    "        ('num', numerical_transformer, numerical_cols),\n",
    "        ('cat', categorical_transformer, categorical_cols)\n",
    "    ])"
   ]
  },
  {
   "cell_type": "code",
   "execution_count": 11,
   "id": "0db46f3f",
   "metadata": {
    "execution": {
     "iopub.execute_input": "2024-02-17T16:40:25.598527Z",
     "iopub.status.busy": "2024-02-17T16:40:25.598066Z",
     "iopub.status.idle": "2024-02-17T16:40:25.607752Z",
     "shell.execute_reply": "2024-02-17T16:40:25.606502Z"
    },
    "papermill": {
     "duration": 0.022256,
     "end_time": "2024-02-17T16:40:25.609993",
     "exception": false,
     "start_time": "2024-02-17T16:40:25.587737",
     "status": "completed"
    },
    "tags": []
   },
   "outputs": [],
   "source": [
    "# Model Building and Evaluation\n",
    "# Define XGBoost model with Optuna hyperparameter optimization\n",
    "def objective_xgb(trial):\n",
    "    params = {\n",
    "        'n_estimators': trial.suggest_int('n_estimators', 200, 300),\n",
    "        'learning_rate': trial.suggest_float('learning_rate', 0.001, 0.1, log=True),\n",
    "        'max_depth': trial.suggest_int('max_depth', 3, 10),\n",
    "        'subsample': trial.suggest_float('subsample', 0.5, 1),\n",
    "        'colsample_bytree': trial.suggest_float('colsample_bytree', 0.5, 1),\n",
    "        'gamma': trial.suggest_float('gamma', 1e-8, 1.0, log=True),\n",
    "        'random_state': 42\n",
    "    }\n",
    "\n",
    "    xgb_model = XGBClassifier(**params)\n",
    "\n",
    "    clf = Pipeline(steps=[('preprocessor', preprocessor),\n",
    "                           ('classifier', xgb_model)])\n",
    "    clf.fit(X_train, y_train)\n",
    "    y_pred = clf.predict_proba(X_valid)[:, 1]\n",
    "    auc = roc_auc_score(y_valid, y_pred)\n",
    "\n",
    "    return auc"
   ]
  },
  {
   "cell_type": "code",
   "execution_count": 12,
   "id": "59b9f32b",
   "metadata": {
    "execution": {
     "iopub.execute_input": "2024-02-17T16:40:25.630711Z",
     "iopub.status.busy": "2024-02-17T16:40:25.630249Z",
     "iopub.status.idle": "2024-02-17T16:40:25.638739Z",
     "shell.execute_reply": "2024-02-17T16:40:25.637584Z"
    },
    "papermill": {
     "duration": 0.021027,
     "end_time": "2024-02-17T16:40:25.641051",
     "exception": false,
     "start_time": "2024-02-17T16:40:25.620024",
     "status": "completed"
    },
    "tags": []
   },
   "outputs": [],
   "source": [
    "# Define CatBoost model with Optuna hyperparameter optimization\n",
    "def objective_catboost(trial):\n",
    "    params = {\n",
    "        'iterations': trial.suggest_int('iterations', 50, 200),\n",
    "        'learning_rate': trial.suggest_float('learning_rate', 0.01, 0.1),\n",
    "        'depth': trial.suggest_int('depth', 4, 10),\n",
    "        'l2_leaf_reg': trial.suggest_float('l2_leaf_reg', 1e-3, 10.0),\n",
    "        'random_state': 42,\n",
    "        'verbose': 0\n",
    "    }\n",
    "\n",
    "    catboost_model = CatBoostClassifier(**params)\n",
    "\n",
    "    clf = Pipeline(steps=[('preprocessor', preprocessor),\n",
    "                           ('classifier', catboost_model)])\n",
    "    clf.fit(X_train, y_train)\n",
    "    y_pred = clf.predict_proba(X_valid)[:, 1]\n",
    "    auc = roc_auc_score(y_valid, y_pred)\n",
    "\n",
    "    return auc"
   ]
  },
  {
   "cell_type": "code",
   "execution_count": 13,
   "id": "9f4531fa",
   "metadata": {
    "execution": {
     "iopub.execute_input": "2024-02-17T16:40:25.661111Z",
     "iopub.status.busy": "2024-02-17T16:40:25.660148Z",
     "iopub.status.idle": "2024-02-17T16:42:09.043706Z",
     "shell.execute_reply": "2024-02-17T16:42:09.041063Z"
    },
    "papermill": {
     "duration": 103.398158,
     "end_time": "2024-02-17T16:42:09.048061",
     "exception": false,
     "start_time": "2024-02-17T16:40:25.649903",
     "status": "completed"
    },
    "tags": []
   },
   "outputs": [],
   "source": [
    "# Create and run the Optuna study for XGBoost\n",
    "study_xgb = optuna.create_study(direction='maximize')\n",
    "study_xgb.optimize(objective_xgb, n_trials=30)\n",
    "\n",
    "# Get the best parameters for XGBoost\n",
    "best_params_xgb = study_xgb.best_params"
   ]
  },
  {
   "cell_type": "code",
   "execution_count": 14,
   "id": "de784367",
   "metadata": {
    "execution": {
     "iopub.execute_input": "2024-02-17T16:42:09.072164Z",
     "iopub.status.busy": "2024-02-17T16:42:09.071061Z",
     "iopub.status.idle": "2024-02-17T16:42:10.921858Z",
     "shell.execute_reply": "2024-02-17T16:42:10.920662Z"
    },
    "papermill": {
     "duration": 1.865932,
     "end_time": "2024-02-17T16:42:10.924505",
     "exception": false,
     "start_time": "2024-02-17T16:42:09.058573",
     "status": "completed"
    },
    "tags": []
   },
   "outputs": [
    {
     "data": {
      "text/html": [
       "<style>#sk-container-id-1 {color: black;background-color: white;}#sk-container-id-1 pre{padding: 0;}#sk-container-id-1 div.sk-toggleable {background-color: white;}#sk-container-id-1 label.sk-toggleable__label {cursor: pointer;display: block;width: 100%;margin-bottom: 0;padding: 0.3em;box-sizing: border-box;text-align: center;}#sk-container-id-1 label.sk-toggleable__label-arrow:before {content: \"▸\";float: left;margin-right: 0.25em;color: #696969;}#sk-container-id-1 label.sk-toggleable__label-arrow:hover:before {color: black;}#sk-container-id-1 div.sk-estimator:hover label.sk-toggleable__label-arrow:before {color: black;}#sk-container-id-1 div.sk-toggleable__content {max-height: 0;max-width: 0;overflow: hidden;text-align: left;background-color: #f0f8ff;}#sk-container-id-1 div.sk-toggleable__content pre {margin: 0.2em;color: black;border-radius: 0.25em;background-color: #f0f8ff;}#sk-container-id-1 input.sk-toggleable__control:checked~div.sk-toggleable__content {max-height: 200px;max-width: 100%;overflow: auto;}#sk-container-id-1 input.sk-toggleable__control:checked~label.sk-toggleable__label-arrow:before {content: \"▾\";}#sk-container-id-1 div.sk-estimator input.sk-toggleable__control:checked~label.sk-toggleable__label {background-color: #d4ebff;}#sk-container-id-1 div.sk-label input.sk-toggleable__control:checked~label.sk-toggleable__label {background-color: #d4ebff;}#sk-container-id-1 input.sk-hidden--visually {border: 0;clip: rect(1px 1px 1px 1px);clip: rect(1px, 1px, 1px, 1px);height: 1px;margin: -1px;overflow: hidden;padding: 0;position: absolute;width: 1px;}#sk-container-id-1 div.sk-estimator {font-family: monospace;background-color: #f0f8ff;border: 1px dotted black;border-radius: 0.25em;box-sizing: border-box;margin-bottom: 0.5em;}#sk-container-id-1 div.sk-estimator:hover {background-color: #d4ebff;}#sk-container-id-1 div.sk-parallel-item::after {content: \"\";width: 100%;border-bottom: 1px solid gray;flex-grow: 1;}#sk-container-id-1 div.sk-label:hover label.sk-toggleable__label {background-color: #d4ebff;}#sk-container-id-1 div.sk-serial::before {content: \"\";position: absolute;border-left: 1px solid gray;box-sizing: border-box;top: 0;bottom: 0;left: 50%;z-index: 0;}#sk-container-id-1 div.sk-serial {display: flex;flex-direction: column;align-items: center;background-color: white;padding-right: 0.2em;padding-left: 0.2em;position: relative;}#sk-container-id-1 div.sk-item {position: relative;z-index: 1;}#sk-container-id-1 div.sk-parallel {display: flex;align-items: stretch;justify-content: center;background-color: white;position: relative;}#sk-container-id-1 div.sk-item::before, #sk-container-id-1 div.sk-parallel-item::before {content: \"\";position: absolute;border-left: 1px solid gray;box-sizing: border-box;top: 0;bottom: 0;left: 50%;z-index: -1;}#sk-container-id-1 div.sk-parallel-item {display: flex;flex-direction: column;z-index: 1;position: relative;background-color: white;}#sk-container-id-1 div.sk-parallel-item:first-child::after {align-self: flex-end;width: 50%;}#sk-container-id-1 div.sk-parallel-item:last-child::after {align-self: flex-start;width: 50%;}#sk-container-id-1 div.sk-parallel-item:only-child::after {width: 0;}#sk-container-id-1 div.sk-dashed-wrapped {border: 1px dashed gray;margin: 0 0.4em 0.5em 0.4em;box-sizing: border-box;padding-bottom: 0.4em;background-color: white;}#sk-container-id-1 div.sk-label label {font-family: monospace;font-weight: bold;display: inline-block;line-height: 1.2em;}#sk-container-id-1 div.sk-label-container {text-align: center;}#sk-container-id-1 div.sk-container {/* jupyter's `normalize.less` sets `[hidden] { display: none; }` but bootstrap.min.css set `[hidden] { display: none !important; }` so we also need the `!important` here to be able to override the default hidden behavior on the sphinx rendered scikit-learn.org. See: https://github.com/scikit-learn/scikit-learn/issues/21755 */display: inline-block !important;position: relative;}#sk-container-id-1 div.sk-text-repr-fallback {display: none;}</style><div id=\"sk-container-id-1\" class=\"sk-top-container\"><div class=\"sk-text-repr-fallback\"><pre>Pipeline(steps=[(&#x27;preprocessor&#x27;,\n",
       "                 ColumnTransformer(transformers=[(&#x27;num&#x27;,\n",
       "                                                  Pipeline(steps=[(&#x27;imputer&#x27;,\n",
       "                                                                   SimpleImputer()),\n",
       "                                                                  (&#x27;scaler&#x27;,\n",
       "                                                                   StandardScaler())]),\n",
       "                                                  Index([&#x27;patient_id&#x27;, &#x27;patient_zip3&#x27;, &#x27;patient_age&#x27;, &#x27;population&#x27;, &#x27;density&#x27;,\n",
       "       &#x27;age_median&#x27;, &#x27;age_under_10&#x27;, &#x27;age_10_to_19&#x27;, &#x27;age_20s&#x27;, &#x27;age_30s&#x27;,\n",
       "       &#x27;age_40s&#x27;, &#x27;age_50s&#x27;, &#x27;age_60s&#x27;, &#x27;age_70s&#x27;, &#x27;age_over_80&#x27;, &#x27;male&#x27;,\n",
       "       &#x27;female&#x27;,...\n",
       "                               grow_policy=None, importance_type=None,\n",
       "                               interaction_constraints=None,\n",
       "                               learning_rate=0.032020023869465786, max_bin=None,\n",
       "                               max_cat_threshold=None, max_cat_to_onehot=None,\n",
       "                               max_delta_step=None, max_depth=5,\n",
       "                               max_leaves=None, min_child_weight=None,\n",
       "                               missing=nan, monotone_constraints=None,\n",
       "                               multi_strategy=None, n_estimators=257,\n",
       "                               n_jobs=None, num_parallel_tree=None,\n",
       "                               random_state=42, ...))])</pre><b>In a Jupyter environment, please rerun this cell to show the HTML representation or trust the notebook. <br />On GitHub, the HTML representation is unable to render, please try loading this page with nbviewer.org.</b></div><div class=\"sk-container\" hidden><div class=\"sk-item sk-dashed-wrapped\"><div class=\"sk-label-container\"><div class=\"sk-label sk-toggleable\"><input class=\"sk-toggleable__control sk-hidden--visually\" id=\"sk-estimator-id-1\" type=\"checkbox\" ><label for=\"sk-estimator-id-1\" class=\"sk-toggleable__label sk-toggleable__label-arrow\">Pipeline</label><div class=\"sk-toggleable__content\"><pre>Pipeline(steps=[(&#x27;preprocessor&#x27;,\n",
       "                 ColumnTransformer(transformers=[(&#x27;num&#x27;,\n",
       "                                                  Pipeline(steps=[(&#x27;imputer&#x27;,\n",
       "                                                                   SimpleImputer()),\n",
       "                                                                  (&#x27;scaler&#x27;,\n",
       "                                                                   StandardScaler())]),\n",
       "                                                  Index([&#x27;patient_id&#x27;, &#x27;patient_zip3&#x27;, &#x27;patient_age&#x27;, &#x27;population&#x27;, &#x27;density&#x27;,\n",
       "       &#x27;age_median&#x27;, &#x27;age_under_10&#x27;, &#x27;age_10_to_19&#x27;, &#x27;age_20s&#x27;, &#x27;age_30s&#x27;,\n",
       "       &#x27;age_40s&#x27;, &#x27;age_50s&#x27;, &#x27;age_60s&#x27;, &#x27;age_70s&#x27;, &#x27;age_over_80&#x27;, &#x27;male&#x27;,\n",
       "       &#x27;female&#x27;,...\n",
       "                               grow_policy=None, importance_type=None,\n",
       "                               interaction_constraints=None,\n",
       "                               learning_rate=0.032020023869465786, max_bin=None,\n",
       "                               max_cat_threshold=None, max_cat_to_onehot=None,\n",
       "                               max_delta_step=None, max_depth=5,\n",
       "                               max_leaves=None, min_child_weight=None,\n",
       "                               missing=nan, monotone_constraints=None,\n",
       "                               multi_strategy=None, n_estimators=257,\n",
       "                               n_jobs=None, num_parallel_tree=None,\n",
       "                               random_state=42, ...))])</pre></div></div></div><div class=\"sk-serial\"><div class=\"sk-item sk-dashed-wrapped\"><div class=\"sk-label-container\"><div class=\"sk-label sk-toggleable\"><input class=\"sk-toggleable__control sk-hidden--visually\" id=\"sk-estimator-id-2\" type=\"checkbox\" ><label for=\"sk-estimator-id-2\" class=\"sk-toggleable__label sk-toggleable__label-arrow\">preprocessor: ColumnTransformer</label><div class=\"sk-toggleable__content\"><pre>ColumnTransformer(transformers=[(&#x27;num&#x27;,\n",
       "                                 Pipeline(steps=[(&#x27;imputer&#x27;, SimpleImputer()),\n",
       "                                                 (&#x27;scaler&#x27;, StandardScaler())]),\n",
       "                                 Index([&#x27;patient_id&#x27;, &#x27;patient_zip3&#x27;, &#x27;patient_age&#x27;, &#x27;population&#x27;, &#x27;density&#x27;,\n",
       "       &#x27;age_median&#x27;, &#x27;age_under_10&#x27;, &#x27;age_10_to_19&#x27;, &#x27;age_20s&#x27;, &#x27;age_30s&#x27;,\n",
       "       &#x27;age_40s&#x27;, &#x27;age_50s&#x27;, &#x27;age_60s&#x27;, &#x27;age_70s&#x27;, &#x27;age_over_80&#x27;, &#x27;male&#x27;,\n",
       "       &#x27;female&#x27;, &#x27;married&#x27;, &#x27;divorced&#x27;, &#x27;never_marr...\n",
       "       &#x27;commute_time&#x27;, &#x27;health_uninsured&#x27;, &#x27;veteran&#x27;, &#x27;Ozone&#x27;, &#x27;PM25&#x27;, &#x27;N02&#x27;],\n",
       "      dtype=&#x27;object&#x27;)),\n",
       "                                (&#x27;cat&#x27;,\n",
       "                                 Pipeline(steps=[(&#x27;imputer&#x27;,\n",
       "                                                  SimpleImputer(strategy=&#x27;most_frequent&#x27;)),\n",
       "                                                 (&#x27;onehot&#x27;,\n",
       "                                                  OneHotEncoder(handle_unknown=&#x27;ignore&#x27;))]),\n",
       "                                 Index([&#x27;payer_type&#x27;, &#x27;patient_state&#x27;, &#x27;patient_gender&#x27;,\n",
       "       &#x27;breast_cancer_diagnosis_code&#x27;, &#x27;breast_cancer_diagnosis_desc&#x27;,\n",
       "       &#x27;metastatic_cancer_diagnosis_code&#x27;, &#x27;Region&#x27;, &#x27;Division&#x27;],\n",
       "      dtype=&#x27;object&#x27;))])</pre></div></div></div><div class=\"sk-parallel\"><div class=\"sk-parallel-item\"><div class=\"sk-item\"><div class=\"sk-label-container\"><div class=\"sk-label sk-toggleable\"><input class=\"sk-toggleable__control sk-hidden--visually\" id=\"sk-estimator-id-3\" type=\"checkbox\" ><label for=\"sk-estimator-id-3\" class=\"sk-toggleable__label sk-toggleable__label-arrow\">num</label><div class=\"sk-toggleable__content\"><pre>Index([&#x27;patient_id&#x27;, &#x27;patient_zip3&#x27;, &#x27;patient_age&#x27;, &#x27;population&#x27;, &#x27;density&#x27;,\n",
       "       &#x27;age_median&#x27;, &#x27;age_under_10&#x27;, &#x27;age_10_to_19&#x27;, &#x27;age_20s&#x27;, &#x27;age_30s&#x27;,\n",
       "       &#x27;age_40s&#x27;, &#x27;age_50s&#x27;, &#x27;age_60s&#x27;, &#x27;age_70s&#x27;, &#x27;age_over_80&#x27;, &#x27;male&#x27;,\n",
       "       &#x27;female&#x27;, &#x27;married&#x27;, &#x27;divorced&#x27;, &#x27;never_married&#x27;, &#x27;widowed&#x27;,\n",
       "       &#x27;family_size&#x27;, &#x27;family_dual_income&#x27;, &#x27;income_household_median&#x27;,\n",
       "       &#x27;income_household_under_5&#x27;, &#x27;income_household_5_to_10&#x27;,\n",
       "       &#x27;income_household_10_to_15&#x27;, &#x27;income_household_15_to_20&#x27;,\n",
       "       &#x27;income_household_20_to_25&#x27;, &#x27;income_household_25_to_35&#x27;,\n",
       "       &#x27;income_household_35_to_50&#x27;, &#x27;income_household_50_to_75&#x27;,\n",
       "       &#x27;income_household_75_to_100&#x27;, &#x27;income_household_100_to_150&#x27;,\n",
       "       &#x27;income_household_150_over&#x27;, &#x27;income_household_six_figure&#x27;,\n",
       "       &#x27;income_individual_median&#x27;, &#x27;home_ownership&#x27;, &#x27;housing_units&#x27;,\n",
       "       &#x27;home_value&#x27;, &#x27;rent_median&#x27;, &#x27;rent_burden&#x27;, &#x27;education_less_highschool&#x27;,\n",
       "       &#x27;education_highschool&#x27;, &#x27;education_some_college&#x27;, &#x27;education_bachelors&#x27;,\n",
       "       &#x27;education_graduate&#x27;, &#x27;education_college_or_above&#x27;,\n",
       "       &#x27;education_stem_degree&#x27;, &#x27;labor_force_participation&#x27;,\n",
       "       &#x27;unemployment_rate&#x27;, &#x27;self_employed&#x27;, &#x27;farmer&#x27;, &#x27;race_white&#x27;,\n",
       "       &#x27;race_black&#x27;, &#x27;race_asian&#x27;, &#x27;race_native&#x27;, &#x27;race_pacific&#x27;, &#x27;race_other&#x27;,\n",
       "       &#x27;race_multiple&#x27;, &#x27;hispanic&#x27;, &#x27;disabled&#x27;, &#x27;poverty&#x27;, &#x27;limited_english&#x27;,\n",
       "       &#x27;commute_time&#x27;, &#x27;health_uninsured&#x27;, &#x27;veteran&#x27;, &#x27;Ozone&#x27;, &#x27;PM25&#x27;, &#x27;N02&#x27;],\n",
       "      dtype=&#x27;object&#x27;)</pre></div></div></div><div class=\"sk-serial\"><div class=\"sk-item\"><div class=\"sk-serial\"><div class=\"sk-item\"><div class=\"sk-estimator sk-toggleable\"><input class=\"sk-toggleable__control sk-hidden--visually\" id=\"sk-estimator-id-4\" type=\"checkbox\" ><label for=\"sk-estimator-id-4\" class=\"sk-toggleable__label sk-toggleable__label-arrow\">SimpleImputer</label><div class=\"sk-toggleable__content\"><pre>SimpleImputer()</pre></div></div></div><div class=\"sk-item\"><div class=\"sk-estimator sk-toggleable\"><input class=\"sk-toggleable__control sk-hidden--visually\" id=\"sk-estimator-id-5\" type=\"checkbox\" ><label for=\"sk-estimator-id-5\" class=\"sk-toggleable__label sk-toggleable__label-arrow\">StandardScaler</label><div class=\"sk-toggleable__content\"><pre>StandardScaler()</pre></div></div></div></div></div></div></div></div><div class=\"sk-parallel-item\"><div class=\"sk-item\"><div class=\"sk-label-container\"><div class=\"sk-label sk-toggleable\"><input class=\"sk-toggleable__control sk-hidden--visually\" id=\"sk-estimator-id-6\" type=\"checkbox\" ><label for=\"sk-estimator-id-6\" class=\"sk-toggleable__label sk-toggleable__label-arrow\">cat</label><div class=\"sk-toggleable__content\"><pre>Index([&#x27;payer_type&#x27;, &#x27;patient_state&#x27;, &#x27;patient_gender&#x27;,\n",
       "       &#x27;breast_cancer_diagnosis_code&#x27;, &#x27;breast_cancer_diagnosis_desc&#x27;,\n",
       "       &#x27;metastatic_cancer_diagnosis_code&#x27;, &#x27;Region&#x27;, &#x27;Division&#x27;],\n",
       "      dtype=&#x27;object&#x27;)</pre></div></div></div><div class=\"sk-serial\"><div class=\"sk-item\"><div class=\"sk-serial\"><div class=\"sk-item\"><div class=\"sk-estimator sk-toggleable\"><input class=\"sk-toggleable__control sk-hidden--visually\" id=\"sk-estimator-id-7\" type=\"checkbox\" ><label for=\"sk-estimator-id-7\" class=\"sk-toggleable__label sk-toggleable__label-arrow\">SimpleImputer</label><div class=\"sk-toggleable__content\"><pre>SimpleImputer(strategy=&#x27;most_frequent&#x27;)</pre></div></div></div><div class=\"sk-item\"><div class=\"sk-estimator sk-toggleable\"><input class=\"sk-toggleable__control sk-hidden--visually\" id=\"sk-estimator-id-8\" type=\"checkbox\" ><label for=\"sk-estimator-id-8\" class=\"sk-toggleable__label sk-toggleable__label-arrow\">OneHotEncoder</label><div class=\"sk-toggleable__content\"><pre>OneHotEncoder(handle_unknown=&#x27;ignore&#x27;)</pre></div></div></div></div></div></div></div></div></div></div><div class=\"sk-item\"><div class=\"sk-estimator sk-toggleable\"><input class=\"sk-toggleable__control sk-hidden--visually\" id=\"sk-estimator-id-9\" type=\"checkbox\" ><label for=\"sk-estimator-id-9\" class=\"sk-toggleable__label sk-toggleable__label-arrow\">XGBClassifier</label><div class=\"sk-toggleable__content\"><pre>XGBClassifier(base_score=None, booster=None, callbacks=None,\n",
       "              colsample_bylevel=None, colsample_bynode=None,\n",
       "              colsample_bytree=0.5392282962407653, device=None,\n",
       "              early_stopping_rounds=None, enable_categorical=False,\n",
       "              eval_metric=None, feature_types=None, gamma=0.11485714586872683,\n",
       "              grow_policy=None, importance_type=None,\n",
       "              interaction_constraints=None, learning_rate=0.032020023869465786,\n",
       "              max_bin=None, max_cat_threshold=None, max_cat_to_onehot=None,\n",
       "              max_delta_step=None, max_depth=5, max_leaves=None,\n",
       "              min_child_weight=None, missing=nan, monotone_constraints=None,\n",
       "              multi_strategy=None, n_estimators=257, n_jobs=None,\n",
       "              num_parallel_tree=None, random_state=42, ...)</pre></div></div></div></div></div></div></div>"
      ],
      "text/plain": [
       "Pipeline(steps=[('preprocessor',\n",
       "                 ColumnTransformer(transformers=[('num',\n",
       "                                                  Pipeline(steps=[('imputer',\n",
       "                                                                   SimpleImputer()),\n",
       "                                                                  ('scaler',\n",
       "                                                                   StandardScaler())]),\n",
       "                                                  Index(['patient_id', 'patient_zip3', 'patient_age', 'population', 'density',\n",
       "       'age_median', 'age_under_10', 'age_10_to_19', 'age_20s', 'age_30s',\n",
       "       'age_40s', 'age_50s', 'age_60s', 'age_70s', 'age_over_80', 'male',\n",
       "       'female',...\n",
       "                               grow_policy=None, importance_type=None,\n",
       "                               interaction_constraints=None,\n",
       "                               learning_rate=0.032020023869465786, max_bin=None,\n",
       "                               max_cat_threshold=None, max_cat_to_onehot=None,\n",
       "                               max_delta_step=None, max_depth=5,\n",
       "                               max_leaves=None, min_child_weight=None,\n",
       "                               missing=nan, monotone_constraints=None,\n",
       "                               multi_strategy=None, n_estimators=257,\n",
       "                               n_jobs=None, num_parallel_tree=None,\n",
       "                               random_state=42, ...))])"
      ]
     },
     "execution_count": 14,
     "metadata": {},
     "output_type": "execute_result"
    }
   ],
   "source": [
    "# Train XGBoost model with best hyperparameters\n",
    "xgb_model = XGBClassifier(**best_params_xgb, random_state=42)\n",
    "clf_xgb = Pipeline(steps=[('preprocessor', preprocessor),\n",
    "                           ('classifier', xgb_model)])\n",
    "clf_xgb.fit(X_train, y_train)"
   ]
  },
  {
   "cell_type": "code",
   "execution_count": 15,
   "id": "e02c093c",
   "metadata": {
    "execution": {
     "iopub.execute_input": "2024-02-17T16:42:10.946945Z",
     "iopub.status.busy": "2024-02-17T16:42:10.945881Z",
     "iopub.status.idle": "2024-02-17T16:42:11.011591Z",
     "shell.execute_reply": "2024-02-17T16:42:11.010691Z"
    },
    "papermill": {
     "duration": 0.0798,
     "end_time": "2024-02-17T16:42:11.014222",
     "exception": false,
     "start_time": "2024-02-17T16:42:10.934422",
     "status": "completed"
    },
    "tags": []
   },
   "outputs": [
    {
     "name": "stdout",
     "output_type": "stream",
     "text": [
      "XGBoost: AUC = 0.8013\n"
     ]
    }
   ],
   "source": [
    "# Evaluate XGBoost model\n",
    "y_pred_xgb = clf_xgb.predict_proba(X_valid)[:, 1]\n",
    "auc_xgb = roc_auc_score(y_valid, y_pred_xgb)\n",
    "print(f'XGBoost: AUC = {auc_xgb:.4f}')"
   ]
  },
  {
   "cell_type": "code",
   "execution_count": 16,
   "id": "7c79771b",
   "metadata": {
    "execution": {
     "iopub.execute_input": "2024-02-17T16:42:11.036205Z",
     "iopub.status.busy": "2024-02-17T16:42:11.035757Z",
     "iopub.status.idle": "2024-02-17T16:43:57.737461Z",
     "shell.execute_reply": "2024-02-17T16:43:57.736131Z"
    },
    "papermill": {
     "duration": 106.715919,
     "end_time": "2024-02-17T16:43:57.740672",
     "exception": false,
     "start_time": "2024-02-17T16:42:11.024753",
     "status": "completed"
    },
    "tags": []
   },
   "outputs": [],
   "source": [
    "# Create and run the Optuna study for CatBoost\n",
    "study_catboost = optuna.create_study(direction='maximize')\n",
    "study_catboost.optimize(objective_catboost, n_trials=30)\n",
    "\n",
    "# Get the best parameters for CatBoost\n",
    "best_params_catboost = study_catboost.best_params\n"
   ]
  },
  {
   "cell_type": "code",
   "execution_count": 17,
   "id": "d51de25c",
   "metadata": {
    "execution": {
     "iopub.execute_input": "2024-02-17T16:43:57.763069Z",
     "iopub.status.busy": "2024-02-17T16:43:57.762213Z",
     "iopub.status.idle": "2024-02-17T16:43:59.737868Z",
     "shell.execute_reply": "2024-02-17T16:43:59.736598Z"
    },
    "papermill": {
     "duration": 1.989401,
     "end_time": "2024-02-17T16:43:59.740360",
     "exception": false,
     "start_time": "2024-02-17T16:43:57.750959",
     "status": "completed"
    },
    "tags": []
   },
   "outputs": [
    {
     "data": {
      "text/html": [
       "<style>#sk-container-id-2 {color: black;background-color: white;}#sk-container-id-2 pre{padding: 0;}#sk-container-id-2 div.sk-toggleable {background-color: white;}#sk-container-id-2 label.sk-toggleable__label {cursor: pointer;display: block;width: 100%;margin-bottom: 0;padding: 0.3em;box-sizing: border-box;text-align: center;}#sk-container-id-2 label.sk-toggleable__label-arrow:before {content: \"▸\";float: left;margin-right: 0.25em;color: #696969;}#sk-container-id-2 label.sk-toggleable__label-arrow:hover:before {color: black;}#sk-container-id-2 div.sk-estimator:hover label.sk-toggleable__label-arrow:before {color: black;}#sk-container-id-2 div.sk-toggleable__content {max-height: 0;max-width: 0;overflow: hidden;text-align: left;background-color: #f0f8ff;}#sk-container-id-2 div.sk-toggleable__content pre {margin: 0.2em;color: black;border-radius: 0.25em;background-color: #f0f8ff;}#sk-container-id-2 input.sk-toggleable__control:checked~div.sk-toggleable__content {max-height: 200px;max-width: 100%;overflow: auto;}#sk-container-id-2 input.sk-toggleable__control:checked~label.sk-toggleable__label-arrow:before {content: \"▾\";}#sk-container-id-2 div.sk-estimator input.sk-toggleable__control:checked~label.sk-toggleable__label {background-color: #d4ebff;}#sk-container-id-2 div.sk-label input.sk-toggleable__control:checked~label.sk-toggleable__label {background-color: #d4ebff;}#sk-container-id-2 input.sk-hidden--visually {border: 0;clip: rect(1px 1px 1px 1px);clip: rect(1px, 1px, 1px, 1px);height: 1px;margin: -1px;overflow: hidden;padding: 0;position: absolute;width: 1px;}#sk-container-id-2 div.sk-estimator {font-family: monospace;background-color: #f0f8ff;border: 1px dotted black;border-radius: 0.25em;box-sizing: border-box;margin-bottom: 0.5em;}#sk-container-id-2 div.sk-estimator:hover {background-color: #d4ebff;}#sk-container-id-2 div.sk-parallel-item::after {content: \"\";width: 100%;border-bottom: 1px solid gray;flex-grow: 1;}#sk-container-id-2 div.sk-label:hover label.sk-toggleable__label {background-color: #d4ebff;}#sk-container-id-2 div.sk-serial::before {content: \"\";position: absolute;border-left: 1px solid gray;box-sizing: border-box;top: 0;bottom: 0;left: 50%;z-index: 0;}#sk-container-id-2 div.sk-serial {display: flex;flex-direction: column;align-items: center;background-color: white;padding-right: 0.2em;padding-left: 0.2em;position: relative;}#sk-container-id-2 div.sk-item {position: relative;z-index: 1;}#sk-container-id-2 div.sk-parallel {display: flex;align-items: stretch;justify-content: center;background-color: white;position: relative;}#sk-container-id-2 div.sk-item::before, #sk-container-id-2 div.sk-parallel-item::before {content: \"\";position: absolute;border-left: 1px solid gray;box-sizing: border-box;top: 0;bottom: 0;left: 50%;z-index: -1;}#sk-container-id-2 div.sk-parallel-item {display: flex;flex-direction: column;z-index: 1;position: relative;background-color: white;}#sk-container-id-2 div.sk-parallel-item:first-child::after {align-self: flex-end;width: 50%;}#sk-container-id-2 div.sk-parallel-item:last-child::after {align-self: flex-start;width: 50%;}#sk-container-id-2 div.sk-parallel-item:only-child::after {width: 0;}#sk-container-id-2 div.sk-dashed-wrapped {border: 1px dashed gray;margin: 0 0.4em 0.5em 0.4em;box-sizing: border-box;padding-bottom: 0.4em;background-color: white;}#sk-container-id-2 div.sk-label label {font-family: monospace;font-weight: bold;display: inline-block;line-height: 1.2em;}#sk-container-id-2 div.sk-label-container {text-align: center;}#sk-container-id-2 div.sk-container {/* jupyter's `normalize.less` sets `[hidden] { display: none; }` but bootstrap.min.css set `[hidden] { display: none !important; }` so we also need the `!important` here to be able to override the default hidden behavior on the sphinx rendered scikit-learn.org. See: https://github.com/scikit-learn/scikit-learn/issues/21755 */display: inline-block !important;position: relative;}#sk-container-id-2 div.sk-text-repr-fallback {display: none;}</style><div id=\"sk-container-id-2\" class=\"sk-top-container\"><div class=\"sk-text-repr-fallback\"><pre>Pipeline(steps=[(&#x27;preprocessor&#x27;,\n",
       "                 ColumnTransformer(transformers=[(&#x27;num&#x27;,\n",
       "                                                  Pipeline(steps=[(&#x27;imputer&#x27;,\n",
       "                                                                   SimpleImputer()),\n",
       "                                                                  (&#x27;scaler&#x27;,\n",
       "                                                                   StandardScaler())]),\n",
       "                                                  Index([&#x27;patient_id&#x27;, &#x27;patient_zip3&#x27;, &#x27;patient_age&#x27;, &#x27;population&#x27;, &#x27;density&#x27;,\n",
       "       &#x27;age_median&#x27;, &#x27;age_under_10&#x27;, &#x27;age_10_to_19&#x27;, &#x27;age_20s&#x27;, &#x27;age_30s&#x27;,\n",
       "       &#x27;age_40s&#x27;, &#x27;age_50s&#x27;, &#x27;age_60s&#x27;, &#x27;age_70s&#x27;, &#x27;age_over_80&#x27;, &#x27;male&#x27;,\n",
       "       &#x27;female&#x27;,...\n",
       "                                                                   SimpleImputer(strategy=&#x27;most_frequent&#x27;)),\n",
       "                                                                  (&#x27;onehot&#x27;,\n",
       "                                                                   OneHotEncoder(handle_unknown=&#x27;ignore&#x27;))]),\n",
       "                                                  Index([&#x27;payer_type&#x27;, &#x27;patient_state&#x27;, &#x27;patient_gender&#x27;,\n",
       "       &#x27;breast_cancer_diagnosis_code&#x27;, &#x27;breast_cancer_diagnosis_desc&#x27;,\n",
       "       &#x27;metastatic_cancer_diagnosis_code&#x27;, &#x27;Region&#x27;, &#x27;Division&#x27;],\n",
       "      dtype=&#x27;object&#x27;))])),\n",
       "                (&#x27;classifier&#x27;,\n",
       "                 &lt;catboost.core.CatBoostClassifier object at 0x7d505777c3a0&gt;)])</pre><b>In a Jupyter environment, please rerun this cell to show the HTML representation or trust the notebook. <br />On GitHub, the HTML representation is unable to render, please try loading this page with nbviewer.org.</b></div><div class=\"sk-container\" hidden><div class=\"sk-item sk-dashed-wrapped\"><div class=\"sk-label-container\"><div class=\"sk-label sk-toggleable\"><input class=\"sk-toggleable__control sk-hidden--visually\" id=\"sk-estimator-id-10\" type=\"checkbox\" ><label for=\"sk-estimator-id-10\" class=\"sk-toggleable__label sk-toggleable__label-arrow\">Pipeline</label><div class=\"sk-toggleable__content\"><pre>Pipeline(steps=[(&#x27;preprocessor&#x27;,\n",
       "                 ColumnTransformer(transformers=[(&#x27;num&#x27;,\n",
       "                                                  Pipeline(steps=[(&#x27;imputer&#x27;,\n",
       "                                                                   SimpleImputer()),\n",
       "                                                                  (&#x27;scaler&#x27;,\n",
       "                                                                   StandardScaler())]),\n",
       "                                                  Index([&#x27;patient_id&#x27;, &#x27;patient_zip3&#x27;, &#x27;patient_age&#x27;, &#x27;population&#x27;, &#x27;density&#x27;,\n",
       "       &#x27;age_median&#x27;, &#x27;age_under_10&#x27;, &#x27;age_10_to_19&#x27;, &#x27;age_20s&#x27;, &#x27;age_30s&#x27;,\n",
       "       &#x27;age_40s&#x27;, &#x27;age_50s&#x27;, &#x27;age_60s&#x27;, &#x27;age_70s&#x27;, &#x27;age_over_80&#x27;, &#x27;male&#x27;,\n",
       "       &#x27;female&#x27;,...\n",
       "                                                                   SimpleImputer(strategy=&#x27;most_frequent&#x27;)),\n",
       "                                                                  (&#x27;onehot&#x27;,\n",
       "                                                                   OneHotEncoder(handle_unknown=&#x27;ignore&#x27;))]),\n",
       "                                                  Index([&#x27;payer_type&#x27;, &#x27;patient_state&#x27;, &#x27;patient_gender&#x27;,\n",
       "       &#x27;breast_cancer_diagnosis_code&#x27;, &#x27;breast_cancer_diagnosis_desc&#x27;,\n",
       "       &#x27;metastatic_cancer_diagnosis_code&#x27;, &#x27;Region&#x27;, &#x27;Division&#x27;],\n",
       "      dtype=&#x27;object&#x27;))])),\n",
       "                (&#x27;classifier&#x27;,\n",
       "                 &lt;catboost.core.CatBoostClassifier object at 0x7d505777c3a0&gt;)])</pre></div></div></div><div class=\"sk-serial\"><div class=\"sk-item sk-dashed-wrapped\"><div class=\"sk-label-container\"><div class=\"sk-label sk-toggleable\"><input class=\"sk-toggleable__control sk-hidden--visually\" id=\"sk-estimator-id-11\" type=\"checkbox\" ><label for=\"sk-estimator-id-11\" class=\"sk-toggleable__label sk-toggleable__label-arrow\">preprocessor: ColumnTransformer</label><div class=\"sk-toggleable__content\"><pre>ColumnTransformer(transformers=[(&#x27;num&#x27;,\n",
       "                                 Pipeline(steps=[(&#x27;imputer&#x27;, SimpleImputer()),\n",
       "                                                 (&#x27;scaler&#x27;, StandardScaler())]),\n",
       "                                 Index([&#x27;patient_id&#x27;, &#x27;patient_zip3&#x27;, &#x27;patient_age&#x27;, &#x27;population&#x27;, &#x27;density&#x27;,\n",
       "       &#x27;age_median&#x27;, &#x27;age_under_10&#x27;, &#x27;age_10_to_19&#x27;, &#x27;age_20s&#x27;, &#x27;age_30s&#x27;,\n",
       "       &#x27;age_40s&#x27;, &#x27;age_50s&#x27;, &#x27;age_60s&#x27;, &#x27;age_70s&#x27;, &#x27;age_over_80&#x27;, &#x27;male&#x27;,\n",
       "       &#x27;female&#x27;, &#x27;married&#x27;, &#x27;divorced&#x27;, &#x27;never_marr...\n",
       "       &#x27;commute_time&#x27;, &#x27;health_uninsured&#x27;, &#x27;veteran&#x27;, &#x27;Ozone&#x27;, &#x27;PM25&#x27;, &#x27;N02&#x27;],\n",
       "      dtype=&#x27;object&#x27;)),\n",
       "                                (&#x27;cat&#x27;,\n",
       "                                 Pipeline(steps=[(&#x27;imputer&#x27;,\n",
       "                                                  SimpleImputer(strategy=&#x27;most_frequent&#x27;)),\n",
       "                                                 (&#x27;onehot&#x27;,\n",
       "                                                  OneHotEncoder(handle_unknown=&#x27;ignore&#x27;))]),\n",
       "                                 Index([&#x27;payer_type&#x27;, &#x27;patient_state&#x27;, &#x27;patient_gender&#x27;,\n",
       "       &#x27;breast_cancer_diagnosis_code&#x27;, &#x27;breast_cancer_diagnosis_desc&#x27;,\n",
       "       &#x27;metastatic_cancer_diagnosis_code&#x27;, &#x27;Region&#x27;, &#x27;Division&#x27;],\n",
       "      dtype=&#x27;object&#x27;))])</pre></div></div></div><div class=\"sk-parallel\"><div class=\"sk-parallel-item\"><div class=\"sk-item\"><div class=\"sk-label-container\"><div class=\"sk-label sk-toggleable\"><input class=\"sk-toggleable__control sk-hidden--visually\" id=\"sk-estimator-id-12\" type=\"checkbox\" ><label for=\"sk-estimator-id-12\" class=\"sk-toggleable__label sk-toggleable__label-arrow\">num</label><div class=\"sk-toggleable__content\"><pre>Index([&#x27;patient_id&#x27;, &#x27;patient_zip3&#x27;, &#x27;patient_age&#x27;, &#x27;population&#x27;, &#x27;density&#x27;,\n",
       "       &#x27;age_median&#x27;, &#x27;age_under_10&#x27;, &#x27;age_10_to_19&#x27;, &#x27;age_20s&#x27;, &#x27;age_30s&#x27;,\n",
       "       &#x27;age_40s&#x27;, &#x27;age_50s&#x27;, &#x27;age_60s&#x27;, &#x27;age_70s&#x27;, &#x27;age_over_80&#x27;, &#x27;male&#x27;,\n",
       "       &#x27;female&#x27;, &#x27;married&#x27;, &#x27;divorced&#x27;, &#x27;never_married&#x27;, &#x27;widowed&#x27;,\n",
       "       &#x27;family_size&#x27;, &#x27;family_dual_income&#x27;, &#x27;income_household_median&#x27;,\n",
       "       &#x27;income_household_under_5&#x27;, &#x27;income_household_5_to_10&#x27;,\n",
       "       &#x27;income_household_10_to_15&#x27;, &#x27;income_household_15_to_20&#x27;,\n",
       "       &#x27;income_household_20_to_25&#x27;, &#x27;income_household_25_to_35&#x27;,\n",
       "       &#x27;income_household_35_to_50&#x27;, &#x27;income_household_50_to_75&#x27;,\n",
       "       &#x27;income_household_75_to_100&#x27;, &#x27;income_household_100_to_150&#x27;,\n",
       "       &#x27;income_household_150_over&#x27;, &#x27;income_household_six_figure&#x27;,\n",
       "       &#x27;income_individual_median&#x27;, &#x27;home_ownership&#x27;, &#x27;housing_units&#x27;,\n",
       "       &#x27;home_value&#x27;, &#x27;rent_median&#x27;, &#x27;rent_burden&#x27;, &#x27;education_less_highschool&#x27;,\n",
       "       &#x27;education_highschool&#x27;, &#x27;education_some_college&#x27;, &#x27;education_bachelors&#x27;,\n",
       "       &#x27;education_graduate&#x27;, &#x27;education_college_or_above&#x27;,\n",
       "       &#x27;education_stem_degree&#x27;, &#x27;labor_force_participation&#x27;,\n",
       "       &#x27;unemployment_rate&#x27;, &#x27;self_employed&#x27;, &#x27;farmer&#x27;, &#x27;race_white&#x27;,\n",
       "       &#x27;race_black&#x27;, &#x27;race_asian&#x27;, &#x27;race_native&#x27;, &#x27;race_pacific&#x27;, &#x27;race_other&#x27;,\n",
       "       &#x27;race_multiple&#x27;, &#x27;hispanic&#x27;, &#x27;disabled&#x27;, &#x27;poverty&#x27;, &#x27;limited_english&#x27;,\n",
       "       &#x27;commute_time&#x27;, &#x27;health_uninsured&#x27;, &#x27;veteran&#x27;, &#x27;Ozone&#x27;, &#x27;PM25&#x27;, &#x27;N02&#x27;],\n",
       "      dtype=&#x27;object&#x27;)</pre></div></div></div><div class=\"sk-serial\"><div class=\"sk-item\"><div class=\"sk-serial\"><div class=\"sk-item\"><div class=\"sk-estimator sk-toggleable\"><input class=\"sk-toggleable__control sk-hidden--visually\" id=\"sk-estimator-id-13\" type=\"checkbox\" ><label for=\"sk-estimator-id-13\" class=\"sk-toggleable__label sk-toggleable__label-arrow\">SimpleImputer</label><div class=\"sk-toggleable__content\"><pre>SimpleImputer()</pre></div></div></div><div class=\"sk-item\"><div class=\"sk-estimator sk-toggleable\"><input class=\"sk-toggleable__control sk-hidden--visually\" id=\"sk-estimator-id-14\" type=\"checkbox\" ><label for=\"sk-estimator-id-14\" class=\"sk-toggleable__label sk-toggleable__label-arrow\">StandardScaler</label><div class=\"sk-toggleable__content\"><pre>StandardScaler()</pre></div></div></div></div></div></div></div></div><div class=\"sk-parallel-item\"><div class=\"sk-item\"><div class=\"sk-label-container\"><div class=\"sk-label sk-toggleable\"><input class=\"sk-toggleable__control sk-hidden--visually\" id=\"sk-estimator-id-15\" type=\"checkbox\" ><label for=\"sk-estimator-id-15\" class=\"sk-toggleable__label sk-toggleable__label-arrow\">cat</label><div class=\"sk-toggleable__content\"><pre>Index([&#x27;payer_type&#x27;, &#x27;patient_state&#x27;, &#x27;patient_gender&#x27;,\n",
       "       &#x27;breast_cancer_diagnosis_code&#x27;, &#x27;breast_cancer_diagnosis_desc&#x27;,\n",
       "       &#x27;metastatic_cancer_diagnosis_code&#x27;, &#x27;Region&#x27;, &#x27;Division&#x27;],\n",
       "      dtype=&#x27;object&#x27;)</pre></div></div></div><div class=\"sk-serial\"><div class=\"sk-item\"><div class=\"sk-serial\"><div class=\"sk-item\"><div class=\"sk-estimator sk-toggleable\"><input class=\"sk-toggleable__control sk-hidden--visually\" id=\"sk-estimator-id-16\" type=\"checkbox\" ><label for=\"sk-estimator-id-16\" class=\"sk-toggleable__label sk-toggleable__label-arrow\">SimpleImputer</label><div class=\"sk-toggleable__content\"><pre>SimpleImputer(strategy=&#x27;most_frequent&#x27;)</pre></div></div></div><div class=\"sk-item\"><div class=\"sk-estimator sk-toggleable\"><input class=\"sk-toggleable__control sk-hidden--visually\" id=\"sk-estimator-id-17\" type=\"checkbox\" ><label for=\"sk-estimator-id-17\" class=\"sk-toggleable__label sk-toggleable__label-arrow\">OneHotEncoder</label><div class=\"sk-toggleable__content\"><pre>OneHotEncoder(handle_unknown=&#x27;ignore&#x27;)</pre></div></div></div></div></div></div></div></div></div></div><div class=\"sk-item\"><div class=\"sk-estimator sk-toggleable\"><input class=\"sk-toggleable__control sk-hidden--visually\" id=\"sk-estimator-id-18\" type=\"checkbox\" ><label for=\"sk-estimator-id-18\" class=\"sk-toggleable__label sk-toggleable__label-arrow\">CatBoostClassifier</label><div class=\"sk-toggleable__content\"><pre>&lt;catboost.core.CatBoostClassifier object at 0x7d505777c3a0&gt;</pre></div></div></div></div></div></div></div>"
      ],
      "text/plain": [
       "Pipeline(steps=[('preprocessor',\n",
       "                 ColumnTransformer(transformers=[('num',\n",
       "                                                  Pipeline(steps=[('imputer',\n",
       "                                                                   SimpleImputer()),\n",
       "                                                                  ('scaler',\n",
       "                                                                   StandardScaler())]),\n",
       "                                                  Index(['patient_id', 'patient_zip3', 'patient_age', 'population', 'density',\n",
       "       'age_median', 'age_under_10', 'age_10_to_19', 'age_20s', 'age_30s',\n",
       "       'age_40s', 'age_50s', 'age_60s', 'age_70s', 'age_over_80', 'male',\n",
       "       'female',...\n",
       "                                                                   SimpleImputer(strategy='most_frequent')),\n",
       "                                                                  ('onehot',\n",
       "                                                                   OneHotEncoder(handle_unknown='ignore'))]),\n",
       "                                                  Index(['payer_type', 'patient_state', 'patient_gender',\n",
       "       'breast_cancer_diagnosis_code', 'breast_cancer_diagnosis_desc',\n",
       "       'metastatic_cancer_diagnosis_code', 'Region', 'Division'],\n",
       "      dtype='object'))])),\n",
       "                ('classifier',\n",
       "                 <catboost.core.CatBoostClassifier object at 0x7d505777c3a0>)])"
      ]
     },
     "execution_count": 17,
     "metadata": {},
     "output_type": "execute_result"
    }
   ],
   "source": [
    "# Train CatBoost model with best hyperparameters\n",
    "catboost_model = CatBoostClassifier(**best_params_catboost, random_state=42, verbose=0)\n",
    "clf_catboost = Pipeline(steps=[('preprocessor', preprocessor),\n",
    "                               ('classifier', catboost_model)])\n",
    "clf_catboost.fit(X_train, y_train)"
   ]
  },
  {
   "cell_type": "code",
   "execution_count": 18,
   "id": "bd9ef1a1",
   "metadata": {
    "execution": {
     "iopub.execute_input": "2024-02-17T16:43:59.764764Z",
     "iopub.status.busy": "2024-02-17T16:43:59.764253Z",
     "iopub.status.idle": "2024-02-17T16:43:59.821447Z",
     "shell.execute_reply": "2024-02-17T16:43:59.820133Z"
    },
    "papermill": {
     "duration": 0.073149,
     "end_time": "2024-02-17T16:43:59.823987",
     "exception": false,
     "start_time": "2024-02-17T16:43:59.750838",
     "status": "completed"
    },
    "tags": []
   },
   "outputs": [
    {
     "name": "stdout",
     "output_type": "stream",
     "text": [
      "CatBoost: AUC = 0.8008\n"
     ]
    }
   ],
   "source": [
    "# Evaluate CatBoost model\n",
    "y_pred_catboost = clf_catboost.predict_proba(X_valid)[:, 1]\n",
    "auc_catboost = roc_auc_score(y_valid, y_pred_catboost)\n",
    "print(f'CatBoost: AUC = {auc_catboost:.4f}')"
   ]
  },
  {
   "cell_type": "code",
   "execution_count": 19,
   "id": "5bcbc802",
   "metadata": {
    "execution": {
     "iopub.execute_input": "2024-02-17T16:43:59.846545Z",
     "iopub.status.busy": "2024-02-17T16:43:59.846112Z",
     "iopub.status.idle": "2024-02-17T16:44:03.908678Z",
     "shell.execute_reply": "2024-02-17T16:44:03.907761Z"
    },
    "papermill": {
     "duration": 4.076745,
     "end_time": "2024-02-17T16:44:03.911201",
     "exception": false,
     "start_time": "2024-02-17T16:43:59.834456",
     "status": "completed"
    },
    "tags": []
   },
   "outputs": [
    {
     "data": {
      "text/html": [
       "<style>#sk-container-id-3 {color: black;background-color: white;}#sk-container-id-3 pre{padding: 0;}#sk-container-id-3 div.sk-toggleable {background-color: white;}#sk-container-id-3 label.sk-toggleable__label {cursor: pointer;display: block;width: 100%;margin-bottom: 0;padding: 0.3em;box-sizing: border-box;text-align: center;}#sk-container-id-3 label.sk-toggleable__label-arrow:before {content: \"▸\";float: left;margin-right: 0.25em;color: #696969;}#sk-container-id-3 label.sk-toggleable__label-arrow:hover:before {color: black;}#sk-container-id-3 div.sk-estimator:hover label.sk-toggleable__label-arrow:before {color: black;}#sk-container-id-3 div.sk-toggleable__content {max-height: 0;max-width: 0;overflow: hidden;text-align: left;background-color: #f0f8ff;}#sk-container-id-3 div.sk-toggleable__content pre {margin: 0.2em;color: black;border-radius: 0.25em;background-color: #f0f8ff;}#sk-container-id-3 input.sk-toggleable__control:checked~div.sk-toggleable__content {max-height: 200px;max-width: 100%;overflow: auto;}#sk-container-id-3 input.sk-toggleable__control:checked~label.sk-toggleable__label-arrow:before {content: \"▾\";}#sk-container-id-3 div.sk-estimator input.sk-toggleable__control:checked~label.sk-toggleable__label {background-color: #d4ebff;}#sk-container-id-3 div.sk-label input.sk-toggleable__control:checked~label.sk-toggleable__label {background-color: #d4ebff;}#sk-container-id-3 input.sk-hidden--visually {border: 0;clip: rect(1px 1px 1px 1px);clip: rect(1px, 1px, 1px, 1px);height: 1px;margin: -1px;overflow: hidden;padding: 0;position: absolute;width: 1px;}#sk-container-id-3 div.sk-estimator {font-family: monospace;background-color: #f0f8ff;border: 1px dotted black;border-radius: 0.25em;box-sizing: border-box;margin-bottom: 0.5em;}#sk-container-id-3 div.sk-estimator:hover {background-color: #d4ebff;}#sk-container-id-3 div.sk-parallel-item::after {content: \"\";width: 100%;border-bottom: 1px solid gray;flex-grow: 1;}#sk-container-id-3 div.sk-label:hover label.sk-toggleable__label {background-color: #d4ebff;}#sk-container-id-3 div.sk-serial::before {content: \"\";position: absolute;border-left: 1px solid gray;box-sizing: border-box;top: 0;bottom: 0;left: 50%;z-index: 0;}#sk-container-id-3 div.sk-serial {display: flex;flex-direction: column;align-items: center;background-color: white;padding-right: 0.2em;padding-left: 0.2em;position: relative;}#sk-container-id-3 div.sk-item {position: relative;z-index: 1;}#sk-container-id-3 div.sk-parallel {display: flex;align-items: stretch;justify-content: center;background-color: white;position: relative;}#sk-container-id-3 div.sk-item::before, #sk-container-id-3 div.sk-parallel-item::before {content: \"\";position: absolute;border-left: 1px solid gray;box-sizing: border-box;top: 0;bottom: 0;left: 50%;z-index: -1;}#sk-container-id-3 div.sk-parallel-item {display: flex;flex-direction: column;z-index: 1;position: relative;background-color: white;}#sk-container-id-3 div.sk-parallel-item:first-child::after {align-self: flex-end;width: 50%;}#sk-container-id-3 div.sk-parallel-item:last-child::after {align-self: flex-start;width: 50%;}#sk-container-id-3 div.sk-parallel-item:only-child::after {width: 0;}#sk-container-id-3 div.sk-dashed-wrapped {border: 1px dashed gray;margin: 0 0.4em 0.5em 0.4em;box-sizing: border-box;padding-bottom: 0.4em;background-color: white;}#sk-container-id-3 div.sk-label label {font-family: monospace;font-weight: bold;display: inline-block;line-height: 1.2em;}#sk-container-id-3 div.sk-label-container {text-align: center;}#sk-container-id-3 div.sk-container {/* jupyter's `normalize.less` sets `[hidden] { display: none; }` but bootstrap.min.css set `[hidden] { display: none !important; }` so we also need the `!important` here to be able to override the default hidden behavior on the sphinx rendered scikit-learn.org. See: https://github.com/scikit-learn/scikit-learn/issues/21755 */display: inline-block !important;position: relative;}#sk-container-id-3 div.sk-text-repr-fallback {display: none;}</style><div id=\"sk-container-id-3\" class=\"sk-top-container\"><div class=\"sk-text-repr-fallback\"><pre>VotingClassifier(estimators=[(&#x27;xgb&#x27;,\n",
       "                              Pipeline(steps=[(&#x27;preprocessor&#x27;,\n",
       "                                               ColumnTransformer(transformers=[(&#x27;num&#x27;,\n",
       "                                                                                Pipeline(steps=[(&#x27;imputer&#x27;,\n",
       "                                                                                                 SimpleImputer()),\n",
       "                                                                                                (&#x27;scaler&#x27;,\n",
       "                                                                                                 StandardScaler())]),\n",
       "                                                                                Index([&#x27;patient_id&#x27;, &#x27;patient_zip3&#x27;, &#x27;patient_age&#x27;, &#x27;population&#x27;, &#x27;density&#x27;,\n",
       "       &#x27;age_median&#x27;, &#x27;age_under_10&#x27;, &#x27;age_10_to_19&#x27;, &#x27;age_20s&#x27;, &#x27;age_30s&#x27;,\n",
       "       &#x27;age_40s&#x27;, &#x27;age_50s&#x27;, &#x27;age_60s&#x27;, &#x27;age...\n",
       "                                                                                                 SimpleImputer(strategy=&#x27;most_frequent&#x27;)),\n",
       "                                                                                                (&#x27;onehot&#x27;,\n",
       "                                                                                                 OneHotEncoder(handle_unknown=&#x27;ignore&#x27;))]),\n",
       "                                                                                Index([&#x27;payer_type&#x27;, &#x27;patient_state&#x27;, &#x27;patient_gender&#x27;,\n",
       "       &#x27;breast_cancer_diagnosis_code&#x27;, &#x27;breast_cancer_diagnosis_desc&#x27;,\n",
       "       &#x27;metastatic_cancer_diagnosis_code&#x27;, &#x27;Region&#x27;, &#x27;Division&#x27;],\n",
       "      dtype=&#x27;object&#x27;))])),\n",
       "                                              (&#x27;classifier&#x27;,\n",
       "                                               &lt;catboost.core.CatBoostClassifier object at 0x7d505777c3a0&gt;)]))],\n",
       "                 voting=&#x27;soft&#x27;)</pre><b>In a Jupyter environment, please rerun this cell to show the HTML representation or trust the notebook. <br />On GitHub, the HTML representation is unable to render, please try loading this page with nbviewer.org.</b></div><div class=\"sk-container\" hidden><div class=\"sk-item sk-dashed-wrapped\"><div class=\"sk-label-container\"><div class=\"sk-label sk-toggleable\"><input class=\"sk-toggleable__control sk-hidden--visually\" id=\"sk-estimator-id-19\" type=\"checkbox\" ><label for=\"sk-estimator-id-19\" class=\"sk-toggleable__label sk-toggleable__label-arrow\">VotingClassifier</label><div class=\"sk-toggleable__content\"><pre>VotingClassifier(estimators=[(&#x27;xgb&#x27;,\n",
       "                              Pipeline(steps=[(&#x27;preprocessor&#x27;,\n",
       "                                               ColumnTransformer(transformers=[(&#x27;num&#x27;,\n",
       "                                                                                Pipeline(steps=[(&#x27;imputer&#x27;,\n",
       "                                                                                                 SimpleImputer()),\n",
       "                                                                                                (&#x27;scaler&#x27;,\n",
       "                                                                                                 StandardScaler())]),\n",
       "                                                                                Index([&#x27;patient_id&#x27;, &#x27;patient_zip3&#x27;, &#x27;patient_age&#x27;, &#x27;population&#x27;, &#x27;density&#x27;,\n",
       "       &#x27;age_median&#x27;, &#x27;age_under_10&#x27;, &#x27;age_10_to_19&#x27;, &#x27;age_20s&#x27;, &#x27;age_30s&#x27;,\n",
       "       &#x27;age_40s&#x27;, &#x27;age_50s&#x27;, &#x27;age_60s&#x27;, &#x27;age...\n",
       "                                                                                                 SimpleImputer(strategy=&#x27;most_frequent&#x27;)),\n",
       "                                                                                                (&#x27;onehot&#x27;,\n",
       "                                                                                                 OneHotEncoder(handle_unknown=&#x27;ignore&#x27;))]),\n",
       "                                                                                Index([&#x27;payer_type&#x27;, &#x27;patient_state&#x27;, &#x27;patient_gender&#x27;,\n",
       "       &#x27;breast_cancer_diagnosis_code&#x27;, &#x27;breast_cancer_diagnosis_desc&#x27;,\n",
       "       &#x27;metastatic_cancer_diagnosis_code&#x27;, &#x27;Region&#x27;, &#x27;Division&#x27;],\n",
       "      dtype=&#x27;object&#x27;))])),\n",
       "                                              (&#x27;classifier&#x27;,\n",
       "                                               &lt;catboost.core.CatBoostClassifier object at 0x7d505777c3a0&gt;)]))],\n",
       "                 voting=&#x27;soft&#x27;)</pre></div></div></div><div class=\"sk-parallel\"><div class=\"sk-parallel-item\"><div class=\"sk-item\"><div class=\"sk-label-container\"><div class=\"sk-label sk-toggleable\"><label>xgb</label></div></div><div class=\"sk-serial\"><div class=\"sk-item\"><div class=\"sk-serial\"><div class=\"sk-item sk-dashed-wrapped\"><div class=\"sk-label-container\"><div class=\"sk-label sk-toggleable\"><input class=\"sk-toggleable__control sk-hidden--visually\" id=\"sk-estimator-id-20\" type=\"checkbox\" ><label for=\"sk-estimator-id-20\" class=\"sk-toggleable__label sk-toggleable__label-arrow\">preprocessor: ColumnTransformer</label><div class=\"sk-toggleable__content\"><pre>ColumnTransformer(transformers=[(&#x27;num&#x27;,\n",
       "                                 Pipeline(steps=[(&#x27;imputer&#x27;, SimpleImputer()),\n",
       "                                                 (&#x27;scaler&#x27;, StandardScaler())]),\n",
       "                                 Index([&#x27;patient_id&#x27;, &#x27;patient_zip3&#x27;, &#x27;patient_age&#x27;, &#x27;population&#x27;, &#x27;density&#x27;,\n",
       "       &#x27;age_median&#x27;, &#x27;age_under_10&#x27;, &#x27;age_10_to_19&#x27;, &#x27;age_20s&#x27;, &#x27;age_30s&#x27;,\n",
       "       &#x27;age_40s&#x27;, &#x27;age_50s&#x27;, &#x27;age_60s&#x27;, &#x27;age_70s&#x27;, &#x27;age_over_80&#x27;, &#x27;male&#x27;,\n",
       "       &#x27;female&#x27;, &#x27;married&#x27;, &#x27;divorced&#x27;, &#x27;never_marr...\n",
       "       &#x27;commute_time&#x27;, &#x27;health_uninsured&#x27;, &#x27;veteran&#x27;, &#x27;Ozone&#x27;, &#x27;PM25&#x27;, &#x27;N02&#x27;],\n",
       "      dtype=&#x27;object&#x27;)),\n",
       "                                (&#x27;cat&#x27;,\n",
       "                                 Pipeline(steps=[(&#x27;imputer&#x27;,\n",
       "                                                  SimpleImputer(strategy=&#x27;most_frequent&#x27;)),\n",
       "                                                 (&#x27;onehot&#x27;,\n",
       "                                                  OneHotEncoder(handle_unknown=&#x27;ignore&#x27;))]),\n",
       "                                 Index([&#x27;payer_type&#x27;, &#x27;patient_state&#x27;, &#x27;patient_gender&#x27;,\n",
       "       &#x27;breast_cancer_diagnosis_code&#x27;, &#x27;breast_cancer_diagnosis_desc&#x27;,\n",
       "       &#x27;metastatic_cancer_diagnosis_code&#x27;, &#x27;Region&#x27;, &#x27;Division&#x27;],\n",
       "      dtype=&#x27;object&#x27;))])</pre></div></div></div><div class=\"sk-parallel\"><div class=\"sk-parallel-item\"><div class=\"sk-item\"><div class=\"sk-label-container\"><div class=\"sk-label sk-toggleable\"><input class=\"sk-toggleable__control sk-hidden--visually\" id=\"sk-estimator-id-21\" type=\"checkbox\" ><label for=\"sk-estimator-id-21\" class=\"sk-toggleable__label sk-toggleable__label-arrow\">num</label><div class=\"sk-toggleable__content\"><pre>Index([&#x27;patient_id&#x27;, &#x27;patient_zip3&#x27;, &#x27;patient_age&#x27;, &#x27;population&#x27;, &#x27;density&#x27;,\n",
       "       &#x27;age_median&#x27;, &#x27;age_under_10&#x27;, &#x27;age_10_to_19&#x27;, &#x27;age_20s&#x27;, &#x27;age_30s&#x27;,\n",
       "       &#x27;age_40s&#x27;, &#x27;age_50s&#x27;, &#x27;age_60s&#x27;, &#x27;age_70s&#x27;, &#x27;age_over_80&#x27;, &#x27;male&#x27;,\n",
       "       &#x27;female&#x27;, &#x27;married&#x27;, &#x27;divorced&#x27;, &#x27;never_married&#x27;, &#x27;widowed&#x27;,\n",
       "       &#x27;family_size&#x27;, &#x27;family_dual_income&#x27;, &#x27;income_household_median&#x27;,\n",
       "       &#x27;income_household_under_5&#x27;, &#x27;income_household_5_to_10&#x27;,\n",
       "       &#x27;income_household_10_to_15&#x27;, &#x27;income_household_15_to_20&#x27;,\n",
       "       &#x27;income_household_20_to_25&#x27;, &#x27;income_household_25_to_35&#x27;,\n",
       "       &#x27;income_household_35_to_50&#x27;, &#x27;income_household_50_to_75&#x27;,\n",
       "       &#x27;income_household_75_to_100&#x27;, &#x27;income_household_100_to_150&#x27;,\n",
       "       &#x27;income_household_150_over&#x27;, &#x27;income_household_six_figure&#x27;,\n",
       "       &#x27;income_individual_median&#x27;, &#x27;home_ownership&#x27;, &#x27;housing_units&#x27;,\n",
       "       &#x27;home_value&#x27;, &#x27;rent_median&#x27;, &#x27;rent_burden&#x27;, &#x27;education_less_highschool&#x27;,\n",
       "       &#x27;education_highschool&#x27;, &#x27;education_some_college&#x27;, &#x27;education_bachelors&#x27;,\n",
       "       &#x27;education_graduate&#x27;, &#x27;education_college_or_above&#x27;,\n",
       "       &#x27;education_stem_degree&#x27;, &#x27;labor_force_participation&#x27;,\n",
       "       &#x27;unemployment_rate&#x27;, &#x27;self_employed&#x27;, &#x27;farmer&#x27;, &#x27;race_white&#x27;,\n",
       "       &#x27;race_black&#x27;, &#x27;race_asian&#x27;, &#x27;race_native&#x27;, &#x27;race_pacific&#x27;, &#x27;race_other&#x27;,\n",
       "       &#x27;race_multiple&#x27;, &#x27;hispanic&#x27;, &#x27;disabled&#x27;, &#x27;poverty&#x27;, &#x27;limited_english&#x27;,\n",
       "       &#x27;commute_time&#x27;, &#x27;health_uninsured&#x27;, &#x27;veteran&#x27;, &#x27;Ozone&#x27;, &#x27;PM25&#x27;, &#x27;N02&#x27;],\n",
       "      dtype=&#x27;object&#x27;)</pre></div></div></div><div class=\"sk-serial\"><div class=\"sk-item\"><div class=\"sk-serial\"><div class=\"sk-item\"><div class=\"sk-estimator sk-toggleable\"><input class=\"sk-toggleable__control sk-hidden--visually\" id=\"sk-estimator-id-22\" type=\"checkbox\" ><label for=\"sk-estimator-id-22\" class=\"sk-toggleable__label sk-toggleable__label-arrow\">SimpleImputer</label><div class=\"sk-toggleable__content\"><pre>SimpleImputer()</pre></div></div></div><div class=\"sk-item\"><div class=\"sk-estimator sk-toggleable\"><input class=\"sk-toggleable__control sk-hidden--visually\" id=\"sk-estimator-id-23\" type=\"checkbox\" ><label for=\"sk-estimator-id-23\" class=\"sk-toggleable__label sk-toggleable__label-arrow\">StandardScaler</label><div class=\"sk-toggleable__content\"><pre>StandardScaler()</pre></div></div></div></div></div></div></div></div><div class=\"sk-parallel-item\"><div class=\"sk-item\"><div class=\"sk-label-container\"><div class=\"sk-label sk-toggleable\"><input class=\"sk-toggleable__control sk-hidden--visually\" id=\"sk-estimator-id-24\" type=\"checkbox\" ><label for=\"sk-estimator-id-24\" class=\"sk-toggleable__label sk-toggleable__label-arrow\">cat</label><div class=\"sk-toggleable__content\"><pre>Index([&#x27;payer_type&#x27;, &#x27;patient_state&#x27;, &#x27;patient_gender&#x27;,\n",
       "       &#x27;breast_cancer_diagnosis_code&#x27;, &#x27;breast_cancer_diagnosis_desc&#x27;,\n",
       "       &#x27;metastatic_cancer_diagnosis_code&#x27;, &#x27;Region&#x27;, &#x27;Division&#x27;],\n",
       "      dtype=&#x27;object&#x27;)</pre></div></div></div><div class=\"sk-serial\"><div class=\"sk-item\"><div class=\"sk-serial\"><div class=\"sk-item\"><div class=\"sk-estimator sk-toggleable\"><input class=\"sk-toggleable__control sk-hidden--visually\" id=\"sk-estimator-id-25\" type=\"checkbox\" ><label for=\"sk-estimator-id-25\" class=\"sk-toggleable__label sk-toggleable__label-arrow\">SimpleImputer</label><div class=\"sk-toggleable__content\"><pre>SimpleImputer(strategy=&#x27;most_frequent&#x27;)</pre></div></div></div><div class=\"sk-item\"><div class=\"sk-estimator sk-toggleable\"><input class=\"sk-toggleable__control sk-hidden--visually\" id=\"sk-estimator-id-26\" type=\"checkbox\" ><label for=\"sk-estimator-id-26\" class=\"sk-toggleable__label sk-toggleable__label-arrow\">OneHotEncoder</label><div class=\"sk-toggleable__content\"><pre>OneHotEncoder(handle_unknown=&#x27;ignore&#x27;)</pre></div></div></div></div></div></div></div></div></div></div><div class=\"sk-item\"><div class=\"sk-estimator sk-toggleable\"><input class=\"sk-toggleable__control sk-hidden--visually\" id=\"sk-estimator-id-27\" type=\"checkbox\" ><label for=\"sk-estimator-id-27\" class=\"sk-toggleable__label sk-toggleable__label-arrow\">XGBClassifier</label><div class=\"sk-toggleable__content\"><pre>XGBClassifier(base_score=None, booster=None, callbacks=None,\n",
       "              colsample_bylevel=None, colsample_bynode=None,\n",
       "              colsample_bytree=0.5392282962407653, device=None,\n",
       "              early_stopping_rounds=None, enable_categorical=False,\n",
       "              eval_metric=None, feature_types=None, gamma=0.11485714586872683,\n",
       "              grow_policy=None, importance_type=None,\n",
       "              interaction_constraints=None, learning_rate=0.032020023869465786,\n",
       "              max_bin=None, max_cat_threshold=None, max_cat_to_onehot=None,\n",
       "              max_delta_step=None, max_depth=5, max_leaves=None,\n",
       "              min_child_weight=None, missing=nan, monotone_constraints=None,\n",
       "              multi_strategy=None, n_estimators=257, n_jobs=None,\n",
       "              num_parallel_tree=None, random_state=42, ...)</pre></div></div></div></div></div></div></div></div><div class=\"sk-parallel-item\"><div class=\"sk-item\"><div class=\"sk-label-container\"><div class=\"sk-label sk-toggleable\"><label>catboost</label></div></div><div class=\"sk-serial\"><div class=\"sk-item\"><div class=\"sk-serial\"><div class=\"sk-item sk-dashed-wrapped\"><div class=\"sk-label-container\"><div class=\"sk-label sk-toggleable\"><input class=\"sk-toggleable__control sk-hidden--visually\" id=\"sk-estimator-id-28\" type=\"checkbox\" ><label for=\"sk-estimator-id-28\" class=\"sk-toggleable__label sk-toggleable__label-arrow\">preprocessor: ColumnTransformer</label><div class=\"sk-toggleable__content\"><pre>ColumnTransformer(transformers=[(&#x27;num&#x27;,\n",
       "                                 Pipeline(steps=[(&#x27;imputer&#x27;, SimpleImputer()),\n",
       "                                                 (&#x27;scaler&#x27;, StandardScaler())]),\n",
       "                                 Index([&#x27;patient_id&#x27;, &#x27;patient_zip3&#x27;, &#x27;patient_age&#x27;, &#x27;population&#x27;, &#x27;density&#x27;,\n",
       "       &#x27;age_median&#x27;, &#x27;age_under_10&#x27;, &#x27;age_10_to_19&#x27;, &#x27;age_20s&#x27;, &#x27;age_30s&#x27;,\n",
       "       &#x27;age_40s&#x27;, &#x27;age_50s&#x27;, &#x27;age_60s&#x27;, &#x27;age_70s&#x27;, &#x27;age_over_80&#x27;, &#x27;male&#x27;,\n",
       "       &#x27;female&#x27;, &#x27;married&#x27;, &#x27;divorced&#x27;, &#x27;never_marr...\n",
       "       &#x27;commute_time&#x27;, &#x27;health_uninsured&#x27;, &#x27;veteran&#x27;, &#x27;Ozone&#x27;, &#x27;PM25&#x27;, &#x27;N02&#x27;],\n",
       "      dtype=&#x27;object&#x27;)),\n",
       "                                (&#x27;cat&#x27;,\n",
       "                                 Pipeline(steps=[(&#x27;imputer&#x27;,\n",
       "                                                  SimpleImputer(strategy=&#x27;most_frequent&#x27;)),\n",
       "                                                 (&#x27;onehot&#x27;,\n",
       "                                                  OneHotEncoder(handle_unknown=&#x27;ignore&#x27;))]),\n",
       "                                 Index([&#x27;payer_type&#x27;, &#x27;patient_state&#x27;, &#x27;patient_gender&#x27;,\n",
       "       &#x27;breast_cancer_diagnosis_code&#x27;, &#x27;breast_cancer_diagnosis_desc&#x27;,\n",
       "       &#x27;metastatic_cancer_diagnosis_code&#x27;, &#x27;Region&#x27;, &#x27;Division&#x27;],\n",
       "      dtype=&#x27;object&#x27;))])</pre></div></div></div><div class=\"sk-parallel\"><div class=\"sk-parallel-item\"><div class=\"sk-item\"><div class=\"sk-label-container\"><div class=\"sk-label sk-toggleable\"><input class=\"sk-toggleable__control sk-hidden--visually\" id=\"sk-estimator-id-29\" type=\"checkbox\" ><label for=\"sk-estimator-id-29\" class=\"sk-toggleable__label sk-toggleable__label-arrow\">num</label><div class=\"sk-toggleable__content\"><pre>Index([&#x27;patient_id&#x27;, &#x27;patient_zip3&#x27;, &#x27;patient_age&#x27;, &#x27;population&#x27;, &#x27;density&#x27;,\n",
       "       &#x27;age_median&#x27;, &#x27;age_under_10&#x27;, &#x27;age_10_to_19&#x27;, &#x27;age_20s&#x27;, &#x27;age_30s&#x27;,\n",
       "       &#x27;age_40s&#x27;, &#x27;age_50s&#x27;, &#x27;age_60s&#x27;, &#x27;age_70s&#x27;, &#x27;age_over_80&#x27;, &#x27;male&#x27;,\n",
       "       &#x27;female&#x27;, &#x27;married&#x27;, &#x27;divorced&#x27;, &#x27;never_married&#x27;, &#x27;widowed&#x27;,\n",
       "       &#x27;family_size&#x27;, &#x27;family_dual_income&#x27;, &#x27;income_household_median&#x27;,\n",
       "       &#x27;income_household_under_5&#x27;, &#x27;income_household_5_to_10&#x27;,\n",
       "       &#x27;income_household_10_to_15&#x27;, &#x27;income_household_15_to_20&#x27;,\n",
       "       &#x27;income_household_20_to_25&#x27;, &#x27;income_household_25_to_35&#x27;,\n",
       "       &#x27;income_household_35_to_50&#x27;, &#x27;income_household_50_to_75&#x27;,\n",
       "       &#x27;income_household_75_to_100&#x27;, &#x27;income_household_100_to_150&#x27;,\n",
       "       &#x27;income_household_150_over&#x27;, &#x27;income_household_six_figure&#x27;,\n",
       "       &#x27;income_individual_median&#x27;, &#x27;home_ownership&#x27;, &#x27;housing_units&#x27;,\n",
       "       &#x27;home_value&#x27;, &#x27;rent_median&#x27;, &#x27;rent_burden&#x27;, &#x27;education_less_highschool&#x27;,\n",
       "       &#x27;education_highschool&#x27;, &#x27;education_some_college&#x27;, &#x27;education_bachelors&#x27;,\n",
       "       &#x27;education_graduate&#x27;, &#x27;education_college_or_above&#x27;,\n",
       "       &#x27;education_stem_degree&#x27;, &#x27;labor_force_participation&#x27;,\n",
       "       &#x27;unemployment_rate&#x27;, &#x27;self_employed&#x27;, &#x27;farmer&#x27;, &#x27;race_white&#x27;,\n",
       "       &#x27;race_black&#x27;, &#x27;race_asian&#x27;, &#x27;race_native&#x27;, &#x27;race_pacific&#x27;, &#x27;race_other&#x27;,\n",
       "       &#x27;race_multiple&#x27;, &#x27;hispanic&#x27;, &#x27;disabled&#x27;, &#x27;poverty&#x27;, &#x27;limited_english&#x27;,\n",
       "       &#x27;commute_time&#x27;, &#x27;health_uninsured&#x27;, &#x27;veteran&#x27;, &#x27;Ozone&#x27;, &#x27;PM25&#x27;, &#x27;N02&#x27;],\n",
       "      dtype=&#x27;object&#x27;)</pre></div></div></div><div class=\"sk-serial\"><div class=\"sk-item\"><div class=\"sk-serial\"><div class=\"sk-item\"><div class=\"sk-estimator sk-toggleable\"><input class=\"sk-toggleable__control sk-hidden--visually\" id=\"sk-estimator-id-30\" type=\"checkbox\" ><label for=\"sk-estimator-id-30\" class=\"sk-toggleable__label sk-toggleable__label-arrow\">SimpleImputer</label><div class=\"sk-toggleable__content\"><pre>SimpleImputer()</pre></div></div></div><div class=\"sk-item\"><div class=\"sk-estimator sk-toggleable\"><input class=\"sk-toggleable__control sk-hidden--visually\" id=\"sk-estimator-id-31\" type=\"checkbox\" ><label for=\"sk-estimator-id-31\" class=\"sk-toggleable__label sk-toggleable__label-arrow\">StandardScaler</label><div class=\"sk-toggleable__content\"><pre>StandardScaler()</pre></div></div></div></div></div></div></div></div><div class=\"sk-parallel-item\"><div class=\"sk-item\"><div class=\"sk-label-container\"><div class=\"sk-label sk-toggleable\"><input class=\"sk-toggleable__control sk-hidden--visually\" id=\"sk-estimator-id-32\" type=\"checkbox\" ><label for=\"sk-estimator-id-32\" class=\"sk-toggleable__label sk-toggleable__label-arrow\">cat</label><div class=\"sk-toggleable__content\"><pre>Index([&#x27;payer_type&#x27;, &#x27;patient_state&#x27;, &#x27;patient_gender&#x27;,\n",
       "       &#x27;breast_cancer_diagnosis_code&#x27;, &#x27;breast_cancer_diagnosis_desc&#x27;,\n",
       "       &#x27;metastatic_cancer_diagnosis_code&#x27;, &#x27;Region&#x27;, &#x27;Division&#x27;],\n",
       "      dtype=&#x27;object&#x27;)</pre></div></div></div><div class=\"sk-serial\"><div class=\"sk-item\"><div class=\"sk-serial\"><div class=\"sk-item\"><div class=\"sk-estimator sk-toggleable\"><input class=\"sk-toggleable__control sk-hidden--visually\" id=\"sk-estimator-id-33\" type=\"checkbox\" ><label for=\"sk-estimator-id-33\" class=\"sk-toggleable__label sk-toggleable__label-arrow\">SimpleImputer</label><div class=\"sk-toggleable__content\"><pre>SimpleImputer(strategy=&#x27;most_frequent&#x27;)</pre></div></div></div><div class=\"sk-item\"><div class=\"sk-estimator sk-toggleable\"><input class=\"sk-toggleable__control sk-hidden--visually\" id=\"sk-estimator-id-34\" type=\"checkbox\" ><label for=\"sk-estimator-id-34\" class=\"sk-toggleable__label sk-toggleable__label-arrow\">OneHotEncoder</label><div class=\"sk-toggleable__content\"><pre>OneHotEncoder(handle_unknown=&#x27;ignore&#x27;)</pre></div></div></div></div></div></div></div></div></div></div><div class=\"sk-item\"><div class=\"sk-estimator sk-toggleable\"><input class=\"sk-toggleable__control sk-hidden--visually\" id=\"sk-estimator-id-35\" type=\"checkbox\" ><label for=\"sk-estimator-id-35\" class=\"sk-toggleable__label sk-toggleable__label-arrow\">CatBoostClassifier</label><div class=\"sk-toggleable__content\"><pre>&lt;catboost.core.CatBoostClassifier object at 0x7d505777c3a0&gt;</pre></div></div></div></div></div></div></div></div></div></div></div></div>"
      ],
      "text/plain": [
       "VotingClassifier(estimators=[('xgb',\n",
       "                              Pipeline(steps=[('preprocessor',\n",
       "                                               ColumnTransformer(transformers=[('num',\n",
       "                                                                                Pipeline(steps=[('imputer',\n",
       "                                                                                                 SimpleImputer()),\n",
       "                                                                                                ('scaler',\n",
       "                                                                                                 StandardScaler())]),\n",
       "                                                                                Index(['patient_id', 'patient_zip3', 'patient_age', 'population', 'density',\n",
       "       'age_median', 'age_under_10', 'age_10_to_19', 'age_20s', 'age_30s',\n",
       "       'age_40s', 'age_50s', 'age_60s', 'age...\n",
       "                                                                                                 SimpleImputer(strategy='most_frequent')),\n",
       "                                                                                                ('onehot',\n",
       "                                                                                                 OneHotEncoder(handle_unknown='ignore'))]),\n",
       "                                                                                Index(['payer_type', 'patient_state', 'patient_gender',\n",
       "       'breast_cancer_diagnosis_code', 'breast_cancer_diagnosis_desc',\n",
       "       'metastatic_cancer_diagnosis_code', 'Region', 'Division'],\n",
       "      dtype='object'))])),\n",
       "                                              ('classifier',\n",
       "                                               <catboost.core.CatBoostClassifier object at 0x7d505777c3a0>)]))],\n",
       "                 voting='soft')"
      ]
     },
     "execution_count": 19,
     "metadata": {},
     "output_type": "execute_result"
    }
   ],
   "source": [
    "# Ensemble XGBoost and CatBoost models\n",
    "voting_clf = VotingClassifier([('xgb', clf_xgb), ('catboost', clf_catboost)], voting='soft')\n",
    "voting_clf.fit(X_train, y_train)\n",
    "\n"
   ]
  },
  {
   "cell_type": "code",
   "execution_count": 20,
   "id": "5762fe01",
   "metadata": {
    "execution": {
     "iopub.execute_input": "2024-02-17T16:44:03.935681Z",
     "iopub.status.busy": "2024-02-17T16:44:03.934709Z",
     "iopub.status.idle": "2024-02-17T16:44:04.050325Z",
     "shell.execute_reply": "2024-02-17T16:44:04.049023Z"
    },
    "papermill": {
     "duration": 0.130821,
     "end_time": "2024-02-17T16:44:04.053120",
     "exception": false,
     "start_time": "2024-02-17T16:44:03.922299",
     "status": "completed"
    },
    "tags": []
   },
   "outputs": [
    {
     "name": "stdout",
     "output_type": "stream",
     "text": [
      "Ensemble (XGBoost + CatBoost): AUC = 0.8018\n"
     ]
    }
   ],
   "source": [
    "# Evaluate the ensemble model\n",
    "y_pred_ensemble = voting_clf.predict_proba(X_valid)[:, 1]\n",
    "auc_ensemble = roc_auc_score(y_valid, y_pred_ensemble)\n",
    "print(f'Ensemble (XGBoost + CatBoost): AUC = {auc_ensemble:.4f}')"
   ]
  },
  {
   "cell_type": "code",
   "execution_count": 21,
   "id": "24777b0c",
   "metadata": {
    "execution": {
     "iopub.execute_input": "2024-02-17T16:44:04.077290Z",
     "iopub.status.busy": "2024-02-17T16:44:04.076871Z",
     "iopub.status.idle": "2024-02-17T16:44:04.275513Z",
     "shell.execute_reply": "2024-02-17T16:44:04.274123Z"
    },
    "papermill": {
     "duration": 0.214069,
     "end_time": "2024-02-17T16:44:04.278441",
     "exception": false,
     "start_time": "2024-02-17T16:44:04.064372",
     "status": "completed"
    },
    "tags": []
   },
   "outputs": [],
   "source": [
    "# Make predictions on test set\n",
    "final_predictions_ensemble = voting_clf.predict_proba(women_test)[:, 1]"
   ]
  },
  {
   "cell_type": "code",
   "execution_count": 22,
   "id": "83fadf7b",
   "metadata": {
    "execution": {
     "iopub.execute_input": "2024-02-17T16:44:04.303711Z",
     "iopub.status.busy": "2024-02-17T16:44:04.302748Z",
     "iopub.status.idle": "2024-02-17T16:44:04.335870Z",
     "shell.execute_reply": "2024-02-17T16:44:04.334598Z"
    },
    "papermill": {
     "duration": 0.048624,
     "end_time": "2024-02-17T16:44:04.338697",
     "exception": false,
     "start_time": "2024-02-17T16:44:04.290073",
     "status": "completed"
    },
    "tags": []
   },
   "outputs": [],
   "source": [
    "# Prepare submission file\n",
    "submission_df = pd.DataFrame({'patient_id': women_test['patient_id'], 'DiagPeriodL90D': final_predictions_ensemble})\n",
    "submission_df.to_csv('submission.csv', index=False)"
   ]
  },
  {
   "cell_type": "code",
   "execution_count": null,
   "id": "9476d795",
   "metadata": {
    "papermill": {
     "duration": 0.010923,
     "end_time": "2024-02-17T16:44:04.360841",
     "exception": false,
     "start_time": "2024-02-17T16:44:04.349918",
     "status": "completed"
    },
    "tags": []
   },
   "outputs": [],
   "source": []
  }
 ],
 "metadata": {
  "kaggle": {
   "accelerator": "none",
   "dataSources": [
    {
     "databundleVersionId": 7469115,
     "sourceId": 65862,
     "sourceType": "competition"
    }
   ],
   "dockerImageVersionId": 30646,
   "isGpuEnabled": false,
   "isInternetEnabled": true,
   "language": "python",
   "sourceType": "notebook"
  },
  "kernelspec": {
   "display_name": "Python 3",
   "language": "python",
   "name": "python3"
  },
  "language_info": {
   "codemirror_mode": {
    "name": "ipython",
    "version": 3
   },
   "file_extension": ".py",
   "mimetype": "text/x-python",
   "name": "python",
   "nbconvert_exporter": "python",
   "pygments_lexer": "ipython3",
   "version": "3.10.13"
  },
  "papermill": {
   "default_parameters": {},
   "duration": 229.083955,
   "end_time": "2024-02-17T16:44:05.497471",
   "environment_variables": {},
   "exception": null,
   "input_path": "__notebook__.ipynb",
   "output_path": "__notebook__.ipynb",
   "parameters": {},
   "start_time": "2024-02-17T16:40:16.413516",
   "version": "2.5.0"
  }
 },
 "nbformat": 4,
 "nbformat_minor": 5
}
