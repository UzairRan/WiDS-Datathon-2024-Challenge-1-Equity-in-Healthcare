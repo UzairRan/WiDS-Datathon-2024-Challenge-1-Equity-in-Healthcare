{
 "cells": [
  {
   "cell_type": "code",
   "execution_count": 1,
   "id": "ee67bc51",
   "metadata": {
    "_cell_guid": "b1076dfc-b9ad-4769-8c92-a6c4dae69d19",
    "_uuid": "8f2839f25d086af736a60e9eeb907d3b93b6e0e5",
    "execution": {
     "iopub.execute_input": "2024-02-28T15:57:17.981625Z",
     "iopub.status.busy": "2024-02-28T15:57:17.980935Z",
     "iopub.status.idle": "2024-02-28T15:57:22.552723Z",
     "shell.execute_reply": "2024-02-28T15:57:22.551614Z"
    },
    "papermill": {
     "duration": 4.583723,
     "end_time": "2024-02-28T15:57:22.555431",
     "exception": false,
     "start_time": "2024-02-28T15:57:17.971708",
     "status": "completed"
    },
    "tags": []
   },
   "outputs": [],
   "source": [
    "import pandas as pd\n",
    "import numpy as np\n",
    "from sklearn.model_selection import train_test_split, ShuffleSplit\n",
    "from sklearn.impute import SimpleImputer\n",
    "from sklearn.preprocessing import StandardScaler, OneHotEncoder\n",
    "from sklearn.compose import ColumnTransformer\n",
    "from sklearn.pipeline import Pipeline\n",
    "from xgboost import XGBClassifier\n",
    "from catboost import CatBoostClassifier\n",
    "from sklearn.ensemble import VotingClassifier\n",
    "from sklearn.metrics import roc_auc_score\n",
    "import optuna\n",
    "import logging\n",
    "\n",
    "optuna.logging.set_verbosity(optuna.logging.WARNING)"
   ]
  },
  {
   "cell_type": "code",
   "execution_count": 2,
   "id": "447d8793",
   "metadata": {
    "execution": {
     "iopub.execute_input": "2024-02-28T15:57:22.571511Z",
     "iopub.status.busy": "2024-02-28T15:57:22.570956Z",
     "iopub.status.idle": "2024-02-28T15:57:23.215630Z",
     "shell.execute_reply": "2024-02-28T15:57:23.214490Z"
    },
    "papermill": {
     "duration": 0.655639,
     "end_time": "2024-02-28T15:57:23.218354",
     "exception": false,
     "start_time": "2024-02-28T15:57:22.562715",
     "status": "completed"
    },
    "tags": []
   },
   "outputs": [],
   "source": [
    "# Exploratory Data Analysis\n",
    "# Load Data\n",
    "women_train = pd.read_csv('/kaggle/input/widsdatathon2024-challenge1/training.csv')\n",
    "women_test = pd.read_csv(\"/kaggle/input/widsdatathon2024-challenge1/test.csv\")\n",
    "sample_submission = pd.read_csv(\"/kaggle/input/widsdatathon2024-challenge1/sample_submission.csv\")\n",
    "\n"
   ]
  },
  {
   "cell_type": "code",
   "execution_count": 3,
   "id": "9bf6f9cc",
   "metadata": {
    "execution": {
     "iopub.execute_input": "2024-02-28T15:57:23.237107Z",
     "iopub.status.busy": "2024-02-28T15:57:23.236711Z",
     "iopub.status.idle": "2024-02-28T15:57:23.257710Z",
     "shell.execute_reply": "2024-02-28T15:57:23.256817Z"
    },
    "papermill": {
     "duration": 0.032409,
     "end_time": "2024-02-28T15:57:23.260435",
     "exception": false,
     "start_time": "2024-02-28T15:57:23.228026",
     "status": "completed"
    },
    "tags": []
   },
   "outputs": [],
   "source": [
    "# Feature Engineering\n",
    "# Drop unnecessary columns for modeling\n",
    "drop_columns = ['metastatic_first_novel_treatment', 'metastatic_first_novel_treatment_type', 'bmi','patient_race']\n",
    "women_train = women_train.drop(columns=drop_columns)\n",
    "women_test = women_test.drop(columns=drop_columns)\n",
    "\n"
   ]
  },
  {
   "cell_type": "code",
   "execution_count": 4,
   "id": "1dd028eb",
   "metadata": {
    "execution": {
     "iopub.execute_input": "2024-02-28T15:57:23.276042Z",
     "iopub.status.busy": "2024-02-28T15:57:23.275632Z",
     "iopub.status.idle": "2024-02-28T15:57:23.476569Z",
     "shell.execute_reply": "2024-02-28T15:57:23.475334Z"
    },
    "papermill": {
     "duration": 0.211736,
     "end_time": "2024-02-28T15:57:23.479303",
     "exception": false,
     "start_time": "2024-02-28T15:57:23.267567",
     "status": "completed"
    },
    "tags": []
   },
   "outputs": [],
   "source": [
    "# Text preprocessing for 'breast_cancer_diagnosis_desc'\n",
    "def preprocess_text(text):\n",
    "    # Convert text to lowercase\n",
    "    text = text.lower()\n",
    "    # Remove punctuation and special characters\n",
    "    text = ''.join([char for char in text if char.isalnum() or char.isspace()])\n",
    "    return text\n",
    "\n",
    "women_train['breast_cancer_diagnosis_desc'] = women_train['breast_cancer_diagnosis_desc'].apply(preprocess_text)\n",
    "women_test['breast_cancer_diagnosis_desc'] = women_test['breast_cancer_diagnosis_desc'].apply(preprocess_text)\n",
    "\n"
   ]
  },
  {
   "cell_type": "code",
   "execution_count": 5,
   "id": "13736694",
   "metadata": {
    "execution": {
     "iopub.execute_input": "2024-02-28T15:57:23.494886Z",
     "iopub.status.busy": "2024-02-28T15:57:23.494491Z",
     "iopub.status.idle": "2024-02-28T15:57:23.516199Z",
     "shell.execute_reply": "2024-02-28T15:57:23.515006Z"
    },
    "papermill": {
     "duration": 0.032503,
     "end_time": "2024-02-28T15:57:23.518846",
     "exception": false,
     "start_time": "2024-02-28T15:57:23.486343",
     "status": "completed"
    },
    "tags": []
   },
   "outputs": [],
   "source": [
    "# Define features and target variable\n",
    "X = women_train.drop(columns=['DiagPeriodL90D'])\n",
    "y = women_train['DiagPeriodL90D']\n",
    "\n",
    "# Split the data into training and validation sets\n",
    "X_train, X_valid, y_train, y_valid = train_test_split(X, y, test_size=0.2, random_state=42)\n"
   ]
  },
  {
   "cell_type": "code",
   "execution_count": 6,
   "id": "784df02e",
   "metadata": {
    "execution": {
     "iopub.execute_input": "2024-02-28T15:57:23.534407Z",
     "iopub.status.busy": "2024-02-28T15:57:23.534019Z",
     "iopub.status.idle": "2024-02-28T15:57:23.550829Z",
     "shell.execute_reply": "2024-02-28T15:57:23.549609Z"
    },
    "papermill": {
     "duration": 0.02762,
     "end_time": "2024-02-28T15:57:23.553474",
     "exception": false,
     "start_time": "2024-02-28T15:57:23.525854",
     "status": "completed"
    },
    "tags": []
   },
   "outputs": [],
   "source": [
    "# Preprocessing for numerical and categorical data\n",
    "numerical_cols = X.select_dtypes(include=['int64', 'float64']).columns\n",
    "categorical_cols = X.select_dtypes(include=['object']).columns\n",
    "\n",
    "numerical_transformer = Pipeline(steps=[\n",
    "    ('imputer', SimpleImputer(strategy='mean')),\n",
    "    ('scaler', StandardScaler())\n",
    "])\n",
    "\n",
    "categorical_transformer = Pipeline(steps=[\n",
    "    ('imputer', SimpleImputer(strategy='most_frequent')),\n",
    "    ('onehot', OneHotEncoder(handle_unknown='ignore'))\n",
    "])\n",
    "# Bundle preprocessing for numerical and categorical data\n",
    "preprocessor = ColumnTransformer(\n",
    "    transformers=[\n",
    "        ('num', numerical_transformer, numerical_cols),\n",
    "        ('cat', categorical_transformer, categorical_cols)\n",
    "    ])\n"
   ]
  },
  {
   "cell_type": "code",
   "execution_count": 7,
   "id": "304a22f1",
   "metadata": {
    "execution": {
     "iopub.execute_input": "2024-02-28T15:57:23.569046Z",
     "iopub.status.busy": "2024-02-28T15:57:23.568656Z",
     "iopub.status.idle": "2024-02-28T15:57:23.577601Z",
     "shell.execute_reply": "2024-02-28T15:57:23.576520Z"
    },
    "papermill": {
     "duration": 0.019537,
     "end_time": "2024-02-28T15:57:23.579933",
     "exception": false,
     "start_time": "2024-02-28T15:57:23.560396",
     "status": "completed"
    },
    "tags": []
   },
   "outputs": [],
   "source": [
    "# Model Building and Evaluation\n",
    "# Define XGBoost model with Optuna hyperparameter optimization\n",
    "def objective_xgb(trial):\n",
    "    params = {\n",
    "        'n_estimators': trial.suggest_int('n_estimators', 200, 300),\n",
    "        'learning_rate': trial.suggest_float('learning_rate', 0.001, 0.1, log=True),\n",
    "        'max_depth': trial.suggest_int('max_depth', 3, 10),\n",
    "        'subsample': trial.suggest_float('subsample', 0.5, 1),\n",
    "        'colsample_bytree': trial.suggest_float('colsample_bytree', 0.5, 1),\n",
    "        'gamma': trial.suggest_float('gamma', 1e-8, 1.0, log=True),\n",
    "        'random_state': 42,\n",
    "        'scale_pos_weight': trial.suggest_float('scale_pos_weight', 1, 10)  # Gradient Clipping\n",
    "    }\n",
    "\n",
    "    xgb_model = XGBClassifier(**params)\n",
    "\n",
    "    clf = Pipeline(steps=[('preprocessor', preprocessor),\n",
    "                           ('classifier', xgb_model)])\n",
    "    clf.fit(X_train, y_train)\n",
    "    y_pred = clf.predict_proba(X_valid)[:, 1]\n",
    "    auc = roc_auc_score(y_valid, y_pred)\n",
    "\n",
    "    return auc\n",
    "\n"
   ]
  },
  {
   "cell_type": "code",
   "execution_count": 8,
   "id": "4113a3e8",
   "metadata": {
    "execution": {
     "iopub.execute_input": "2024-02-28T15:57:23.595456Z",
     "iopub.status.busy": "2024-02-28T15:57:23.595076Z",
     "iopub.status.idle": "2024-02-28T15:57:23.603645Z",
     "shell.execute_reply": "2024-02-28T15:57:23.602307Z"
    },
    "papermill": {
     "duration": 0.019188,
     "end_time": "2024-02-28T15:57:23.606110",
     "exception": false,
     "start_time": "2024-02-28T15:57:23.586922",
     "status": "completed"
    },
    "tags": []
   },
   "outputs": [],
   "source": [
    "# Define CatBoost model with Optuna hyperparameter optimization\n",
    "def objective_catboost(trial):\n",
    "    params = {\n",
    "        'iterations': trial.suggest_int('iterations', 50, 200),\n",
    "        'learning_rate': trial.suggest_float('learning_rate', 0.01, 0.1),\n",
    "        'depth': trial.suggest_int('depth', 4, 10),\n",
    "        'l2_leaf_reg': trial.suggest_float('l2_leaf_reg', 1e-3, 10.0),\n",
    "        'random_state': 42,\n",
    "        'verbose': 0,\n",
    "        'max_ctr_complexity': trial.suggest_int('max_ctr_complexity', 1, 5)  # Gradient Clipping\n",
    "    }\n",
    "\n",
    "    catboost_model = CatBoostClassifier(**params)\n",
    "\n",
    "    clf = Pipeline(steps=[('preprocessor', preprocessor),\n",
    "                           ('classifier', catboost_model)])\n",
    "    clf.fit(X_train, y_train)\n",
    "    y_pred = clf.predict_proba(X_valid)[:, 1]\n",
    "    auc = roc_auc_score(y_valid, y_pred)\n",
    "\n",
    "    return auc"
   ]
  },
  {
   "cell_type": "code",
   "execution_count": 9,
   "id": "3aafb691",
   "metadata": {
    "execution": {
     "iopub.execute_input": "2024-02-28T15:57:23.622424Z",
     "iopub.status.busy": "2024-02-28T15:57:23.621722Z",
     "iopub.status.idle": "2024-02-28T16:00:16.626091Z",
     "shell.execute_reply": "2024-02-28T16:00:16.624959Z"
    },
    "papermill": {
     "duration": 173.015883,
     "end_time": "2024-02-28T16:00:16.629044",
     "exception": false,
     "start_time": "2024-02-28T15:57:23.613161",
     "status": "completed"
    },
    "tags": []
   },
   "outputs": [],
   "source": [
    "# Create and run the Optuna study for XGBoost with pruning\n",
    "study_xgb = optuna.create_study(direction='maximize', pruner=optuna.pruners.MedianPruner())\n",
    "study_xgb.optimize(objective_xgb, n_trials=50)\n",
    "\n",
    "# Get the best parameters for XGBoost\n",
    "best_params_xgb = study_xgb.best_params\n",
    "\n"
   ]
  },
  {
   "cell_type": "code",
   "execution_count": 10,
   "id": "42e94e46",
   "metadata": {
    "execution": {
     "iopub.execute_input": "2024-02-28T16:00:16.645184Z",
     "iopub.status.busy": "2024-02-28T16:00:16.644814Z",
     "iopub.status.idle": "2024-02-28T16:00:20.008932Z",
     "shell.execute_reply": "2024-02-28T16:00:20.008060Z"
    },
    "papermill": {
     "duration": 3.374631,
     "end_time": "2024-02-28T16:00:20.011552",
     "exception": false,
     "start_time": "2024-02-28T16:00:16.636921",
     "status": "completed"
    },
    "tags": []
   },
   "outputs": [
    {
     "data": {
      "text/html": [
       "<style>#sk-container-id-1 {color: black;background-color: white;}#sk-container-id-1 pre{padding: 0;}#sk-container-id-1 div.sk-toggleable {background-color: white;}#sk-container-id-1 label.sk-toggleable__label {cursor: pointer;display: block;width: 100%;margin-bottom: 0;padding: 0.3em;box-sizing: border-box;text-align: center;}#sk-container-id-1 label.sk-toggleable__label-arrow:before {content: \"▸\";float: left;margin-right: 0.25em;color: #696969;}#sk-container-id-1 label.sk-toggleable__label-arrow:hover:before {color: black;}#sk-container-id-1 div.sk-estimator:hover label.sk-toggleable__label-arrow:before {color: black;}#sk-container-id-1 div.sk-toggleable__content {max-height: 0;max-width: 0;overflow: hidden;text-align: left;background-color: #f0f8ff;}#sk-container-id-1 div.sk-toggleable__content pre {margin: 0.2em;color: black;border-radius: 0.25em;background-color: #f0f8ff;}#sk-container-id-1 input.sk-toggleable__control:checked~div.sk-toggleable__content {max-height: 200px;max-width: 100%;overflow: auto;}#sk-container-id-1 input.sk-toggleable__control:checked~label.sk-toggleable__label-arrow:before {content: \"▾\";}#sk-container-id-1 div.sk-estimator input.sk-toggleable__control:checked~label.sk-toggleable__label {background-color: #d4ebff;}#sk-container-id-1 div.sk-label input.sk-toggleable__control:checked~label.sk-toggleable__label {background-color: #d4ebff;}#sk-container-id-1 input.sk-hidden--visually {border: 0;clip: rect(1px 1px 1px 1px);clip: rect(1px, 1px, 1px, 1px);height: 1px;margin: -1px;overflow: hidden;padding: 0;position: absolute;width: 1px;}#sk-container-id-1 div.sk-estimator {font-family: monospace;background-color: #f0f8ff;border: 1px dotted black;border-radius: 0.25em;box-sizing: border-box;margin-bottom: 0.5em;}#sk-container-id-1 div.sk-estimator:hover {background-color: #d4ebff;}#sk-container-id-1 div.sk-parallel-item::after {content: \"\";width: 100%;border-bottom: 1px solid gray;flex-grow: 1;}#sk-container-id-1 div.sk-label:hover label.sk-toggleable__label {background-color: #d4ebff;}#sk-container-id-1 div.sk-serial::before {content: \"\";position: absolute;border-left: 1px solid gray;box-sizing: border-box;top: 0;bottom: 0;left: 50%;z-index: 0;}#sk-container-id-1 div.sk-serial {display: flex;flex-direction: column;align-items: center;background-color: white;padding-right: 0.2em;padding-left: 0.2em;position: relative;}#sk-container-id-1 div.sk-item {position: relative;z-index: 1;}#sk-container-id-1 div.sk-parallel {display: flex;align-items: stretch;justify-content: center;background-color: white;position: relative;}#sk-container-id-1 div.sk-item::before, #sk-container-id-1 div.sk-parallel-item::before {content: \"\";position: absolute;border-left: 1px solid gray;box-sizing: border-box;top: 0;bottom: 0;left: 50%;z-index: -1;}#sk-container-id-1 div.sk-parallel-item {display: flex;flex-direction: column;z-index: 1;position: relative;background-color: white;}#sk-container-id-1 div.sk-parallel-item:first-child::after {align-self: flex-end;width: 50%;}#sk-container-id-1 div.sk-parallel-item:last-child::after {align-self: flex-start;width: 50%;}#sk-container-id-1 div.sk-parallel-item:only-child::after {width: 0;}#sk-container-id-1 div.sk-dashed-wrapped {border: 1px dashed gray;margin: 0 0.4em 0.5em 0.4em;box-sizing: border-box;padding-bottom: 0.4em;background-color: white;}#sk-container-id-1 div.sk-label label {font-family: monospace;font-weight: bold;display: inline-block;line-height: 1.2em;}#sk-container-id-1 div.sk-label-container {text-align: center;}#sk-container-id-1 div.sk-container {/* jupyter's `normalize.less` sets `[hidden] { display: none; }` but bootstrap.min.css set `[hidden] { display: none !important; }` so we also need the `!important` here to be able to override the default hidden behavior on the sphinx rendered scikit-learn.org. See: https://github.com/scikit-learn/scikit-learn/issues/21755 */display: inline-block !important;position: relative;}#sk-container-id-1 div.sk-text-repr-fallback {display: none;}</style><div id=\"sk-container-id-1\" class=\"sk-top-container\"><div class=\"sk-text-repr-fallback\"><pre>Pipeline(steps=[(&#x27;preprocessor&#x27;,\n",
       "                 ColumnTransformer(transformers=[(&#x27;num&#x27;,\n",
       "                                                  Pipeline(steps=[(&#x27;imputer&#x27;,\n",
       "                                                                   SimpleImputer()),\n",
       "                                                                  (&#x27;scaler&#x27;,\n",
       "                                                                   StandardScaler())]),\n",
       "                                                  Index([&#x27;patient_id&#x27;, &#x27;patient_zip3&#x27;, &#x27;patient_age&#x27;, &#x27;population&#x27;, &#x27;density&#x27;,\n",
       "       &#x27;age_median&#x27;, &#x27;age_under_10&#x27;, &#x27;age_10_to_19&#x27;, &#x27;age_20s&#x27;, &#x27;age_30s&#x27;,\n",
       "       &#x27;age_40s&#x27;, &#x27;age_50s&#x27;, &#x27;age_60s&#x27;, &#x27;age_70s&#x27;, &#x27;age_over_80&#x27;, &#x27;male&#x27;,\n",
       "       &#x27;female&#x27;,...\n",
       "                               grow_policy=None, importance_type=None,\n",
       "                               interaction_constraints=None,\n",
       "                               learning_rate=0.011937904952019284, max_bin=None,\n",
       "                               max_cat_threshold=None, max_cat_to_onehot=None,\n",
       "                               max_delta_step=None, max_depth=7,\n",
       "                               max_leaves=None, min_child_weight=None,\n",
       "                               missing=nan, monotone_constraints=None,\n",
       "                               multi_strategy=None, n_estimators=200,\n",
       "                               n_jobs=None, num_parallel_tree=None,\n",
       "                               random_state=42, ...))])</pre><b>In a Jupyter environment, please rerun this cell to show the HTML representation or trust the notebook. <br />On GitHub, the HTML representation is unable to render, please try loading this page with nbviewer.org.</b></div><div class=\"sk-container\" hidden><div class=\"sk-item sk-dashed-wrapped\"><div class=\"sk-label-container\"><div class=\"sk-label sk-toggleable\"><input class=\"sk-toggleable__control sk-hidden--visually\" id=\"sk-estimator-id-1\" type=\"checkbox\" ><label for=\"sk-estimator-id-1\" class=\"sk-toggleable__label sk-toggleable__label-arrow\">Pipeline</label><div class=\"sk-toggleable__content\"><pre>Pipeline(steps=[(&#x27;preprocessor&#x27;,\n",
       "                 ColumnTransformer(transformers=[(&#x27;num&#x27;,\n",
       "                                                  Pipeline(steps=[(&#x27;imputer&#x27;,\n",
       "                                                                   SimpleImputer()),\n",
       "                                                                  (&#x27;scaler&#x27;,\n",
       "                                                                   StandardScaler())]),\n",
       "                                                  Index([&#x27;patient_id&#x27;, &#x27;patient_zip3&#x27;, &#x27;patient_age&#x27;, &#x27;population&#x27;, &#x27;density&#x27;,\n",
       "       &#x27;age_median&#x27;, &#x27;age_under_10&#x27;, &#x27;age_10_to_19&#x27;, &#x27;age_20s&#x27;, &#x27;age_30s&#x27;,\n",
       "       &#x27;age_40s&#x27;, &#x27;age_50s&#x27;, &#x27;age_60s&#x27;, &#x27;age_70s&#x27;, &#x27;age_over_80&#x27;, &#x27;male&#x27;,\n",
       "       &#x27;female&#x27;,...\n",
       "                               grow_policy=None, importance_type=None,\n",
       "                               interaction_constraints=None,\n",
       "                               learning_rate=0.011937904952019284, max_bin=None,\n",
       "                               max_cat_threshold=None, max_cat_to_onehot=None,\n",
       "                               max_delta_step=None, max_depth=7,\n",
       "                               max_leaves=None, min_child_weight=None,\n",
       "                               missing=nan, monotone_constraints=None,\n",
       "                               multi_strategy=None, n_estimators=200,\n",
       "                               n_jobs=None, num_parallel_tree=None,\n",
       "                               random_state=42, ...))])</pre></div></div></div><div class=\"sk-serial\"><div class=\"sk-item sk-dashed-wrapped\"><div class=\"sk-label-container\"><div class=\"sk-label sk-toggleable\"><input class=\"sk-toggleable__control sk-hidden--visually\" id=\"sk-estimator-id-2\" type=\"checkbox\" ><label for=\"sk-estimator-id-2\" class=\"sk-toggleable__label sk-toggleable__label-arrow\">preprocessor: ColumnTransformer</label><div class=\"sk-toggleable__content\"><pre>ColumnTransformer(transformers=[(&#x27;num&#x27;,\n",
       "                                 Pipeline(steps=[(&#x27;imputer&#x27;, SimpleImputer()),\n",
       "                                                 (&#x27;scaler&#x27;, StandardScaler())]),\n",
       "                                 Index([&#x27;patient_id&#x27;, &#x27;patient_zip3&#x27;, &#x27;patient_age&#x27;, &#x27;population&#x27;, &#x27;density&#x27;,\n",
       "       &#x27;age_median&#x27;, &#x27;age_under_10&#x27;, &#x27;age_10_to_19&#x27;, &#x27;age_20s&#x27;, &#x27;age_30s&#x27;,\n",
       "       &#x27;age_40s&#x27;, &#x27;age_50s&#x27;, &#x27;age_60s&#x27;, &#x27;age_70s&#x27;, &#x27;age_over_80&#x27;, &#x27;male&#x27;,\n",
       "       &#x27;female&#x27;, &#x27;married&#x27;, &#x27;divorced&#x27;, &#x27;never_marr...\n",
       "       &#x27;commute_time&#x27;, &#x27;health_uninsured&#x27;, &#x27;veteran&#x27;, &#x27;Ozone&#x27;, &#x27;PM25&#x27;, &#x27;N02&#x27;],\n",
       "      dtype=&#x27;object&#x27;)),\n",
       "                                (&#x27;cat&#x27;,\n",
       "                                 Pipeline(steps=[(&#x27;imputer&#x27;,\n",
       "                                                  SimpleImputer(strategy=&#x27;most_frequent&#x27;)),\n",
       "                                                 (&#x27;onehot&#x27;,\n",
       "                                                  OneHotEncoder(handle_unknown=&#x27;ignore&#x27;))]),\n",
       "                                 Index([&#x27;payer_type&#x27;, &#x27;patient_state&#x27;, &#x27;patient_gender&#x27;,\n",
       "       &#x27;breast_cancer_diagnosis_code&#x27;, &#x27;breast_cancer_diagnosis_desc&#x27;,\n",
       "       &#x27;metastatic_cancer_diagnosis_code&#x27;, &#x27;Region&#x27;, &#x27;Division&#x27;],\n",
       "      dtype=&#x27;object&#x27;))])</pre></div></div></div><div class=\"sk-parallel\"><div class=\"sk-parallel-item\"><div class=\"sk-item\"><div class=\"sk-label-container\"><div class=\"sk-label sk-toggleable\"><input class=\"sk-toggleable__control sk-hidden--visually\" id=\"sk-estimator-id-3\" type=\"checkbox\" ><label for=\"sk-estimator-id-3\" class=\"sk-toggleable__label sk-toggleable__label-arrow\">num</label><div class=\"sk-toggleable__content\"><pre>Index([&#x27;patient_id&#x27;, &#x27;patient_zip3&#x27;, &#x27;patient_age&#x27;, &#x27;population&#x27;, &#x27;density&#x27;,\n",
       "       &#x27;age_median&#x27;, &#x27;age_under_10&#x27;, &#x27;age_10_to_19&#x27;, &#x27;age_20s&#x27;, &#x27;age_30s&#x27;,\n",
       "       &#x27;age_40s&#x27;, &#x27;age_50s&#x27;, &#x27;age_60s&#x27;, &#x27;age_70s&#x27;, &#x27;age_over_80&#x27;, &#x27;male&#x27;,\n",
       "       &#x27;female&#x27;, &#x27;married&#x27;, &#x27;divorced&#x27;, &#x27;never_married&#x27;, &#x27;widowed&#x27;,\n",
       "       &#x27;family_size&#x27;, &#x27;family_dual_income&#x27;, &#x27;income_household_median&#x27;,\n",
       "       &#x27;income_household_under_5&#x27;, &#x27;income_household_5_to_10&#x27;,\n",
       "       &#x27;income_household_10_to_15&#x27;, &#x27;income_household_15_to_20&#x27;,\n",
       "       &#x27;income_household_20_to_25&#x27;, &#x27;income_household_25_to_35&#x27;,\n",
       "       &#x27;income_household_35_to_50&#x27;, &#x27;income_household_50_to_75&#x27;,\n",
       "       &#x27;income_household_75_to_100&#x27;, &#x27;income_household_100_to_150&#x27;,\n",
       "       &#x27;income_household_150_over&#x27;, &#x27;income_household_six_figure&#x27;,\n",
       "       &#x27;income_individual_median&#x27;, &#x27;home_ownership&#x27;, &#x27;housing_units&#x27;,\n",
       "       &#x27;home_value&#x27;, &#x27;rent_median&#x27;, &#x27;rent_burden&#x27;, &#x27;education_less_highschool&#x27;,\n",
       "       &#x27;education_highschool&#x27;, &#x27;education_some_college&#x27;, &#x27;education_bachelors&#x27;,\n",
       "       &#x27;education_graduate&#x27;, &#x27;education_college_or_above&#x27;,\n",
       "       &#x27;education_stem_degree&#x27;, &#x27;labor_force_participation&#x27;,\n",
       "       &#x27;unemployment_rate&#x27;, &#x27;self_employed&#x27;, &#x27;farmer&#x27;, &#x27;race_white&#x27;,\n",
       "       &#x27;race_black&#x27;, &#x27;race_asian&#x27;, &#x27;race_native&#x27;, &#x27;race_pacific&#x27;, &#x27;race_other&#x27;,\n",
       "       &#x27;race_multiple&#x27;, &#x27;hispanic&#x27;, &#x27;disabled&#x27;, &#x27;poverty&#x27;, &#x27;limited_english&#x27;,\n",
       "       &#x27;commute_time&#x27;, &#x27;health_uninsured&#x27;, &#x27;veteran&#x27;, &#x27;Ozone&#x27;, &#x27;PM25&#x27;, &#x27;N02&#x27;],\n",
       "      dtype=&#x27;object&#x27;)</pre></div></div></div><div class=\"sk-serial\"><div class=\"sk-item\"><div class=\"sk-serial\"><div class=\"sk-item\"><div class=\"sk-estimator sk-toggleable\"><input class=\"sk-toggleable__control sk-hidden--visually\" id=\"sk-estimator-id-4\" type=\"checkbox\" ><label for=\"sk-estimator-id-4\" class=\"sk-toggleable__label sk-toggleable__label-arrow\">SimpleImputer</label><div class=\"sk-toggleable__content\"><pre>SimpleImputer()</pre></div></div></div><div class=\"sk-item\"><div class=\"sk-estimator sk-toggleable\"><input class=\"sk-toggleable__control sk-hidden--visually\" id=\"sk-estimator-id-5\" type=\"checkbox\" ><label for=\"sk-estimator-id-5\" class=\"sk-toggleable__label sk-toggleable__label-arrow\">StandardScaler</label><div class=\"sk-toggleable__content\"><pre>StandardScaler()</pre></div></div></div></div></div></div></div></div><div class=\"sk-parallel-item\"><div class=\"sk-item\"><div class=\"sk-label-container\"><div class=\"sk-label sk-toggleable\"><input class=\"sk-toggleable__control sk-hidden--visually\" id=\"sk-estimator-id-6\" type=\"checkbox\" ><label for=\"sk-estimator-id-6\" class=\"sk-toggleable__label sk-toggleable__label-arrow\">cat</label><div class=\"sk-toggleable__content\"><pre>Index([&#x27;payer_type&#x27;, &#x27;patient_state&#x27;, &#x27;patient_gender&#x27;,\n",
       "       &#x27;breast_cancer_diagnosis_code&#x27;, &#x27;breast_cancer_diagnosis_desc&#x27;,\n",
       "       &#x27;metastatic_cancer_diagnosis_code&#x27;, &#x27;Region&#x27;, &#x27;Division&#x27;],\n",
       "      dtype=&#x27;object&#x27;)</pre></div></div></div><div class=\"sk-serial\"><div class=\"sk-item\"><div class=\"sk-serial\"><div class=\"sk-item\"><div class=\"sk-estimator sk-toggleable\"><input class=\"sk-toggleable__control sk-hidden--visually\" id=\"sk-estimator-id-7\" type=\"checkbox\" ><label for=\"sk-estimator-id-7\" class=\"sk-toggleable__label sk-toggleable__label-arrow\">SimpleImputer</label><div class=\"sk-toggleable__content\"><pre>SimpleImputer(strategy=&#x27;most_frequent&#x27;)</pre></div></div></div><div class=\"sk-item\"><div class=\"sk-estimator sk-toggleable\"><input class=\"sk-toggleable__control sk-hidden--visually\" id=\"sk-estimator-id-8\" type=\"checkbox\" ><label for=\"sk-estimator-id-8\" class=\"sk-toggleable__label sk-toggleable__label-arrow\">OneHotEncoder</label><div class=\"sk-toggleable__content\"><pre>OneHotEncoder(handle_unknown=&#x27;ignore&#x27;)</pre></div></div></div></div></div></div></div></div></div></div><div class=\"sk-item\"><div class=\"sk-estimator sk-toggleable\"><input class=\"sk-toggleable__control sk-hidden--visually\" id=\"sk-estimator-id-9\" type=\"checkbox\" ><label for=\"sk-estimator-id-9\" class=\"sk-toggleable__label sk-toggleable__label-arrow\">XGBClassifier</label><div class=\"sk-toggleable__content\"><pre>XGBClassifier(base_score=None, booster=None, callbacks=None,\n",
       "              colsample_bylevel=None, colsample_bynode=None,\n",
       "              colsample_bytree=0.7819929818709842, device=None,\n",
       "              early_stopping_rounds=None, enable_categorical=False,\n",
       "              eval_metric=None, feature_types=None,\n",
       "              gamma=2.3588414700138746e-05, grow_policy=None,\n",
       "              importance_type=None, interaction_constraints=None,\n",
       "              learning_rate=0.011937904952019284, max_bin=None,\n",
       "              max_cat_threshold=None, max_cat_to_onehot=None,\n",
       "              max_delta_step=None, max_depth=7, max_leaves=None,\n",
       "              min_child_weight=None, missing=nan, monotone_constraints=None,\n",
       "              multi_strategy=None, n_estimators=200, n_jobs=None,\n",
       "              num_parallel_tree=None, random_state=42, ...)</pre></div></div></div></div></div></div></div>"
      ],
      "text/plain": [
       "Pipeline(steps=[('preprocessor',\n",
       "                 ColumnTransformer(transformers=[('num',\n",
       "                                                  Pipeline(steps=[('imputer',\n",
       "                                                                   SimpleImputer()),\n",
       "                                                                  ('scaler',\n",
       "                                                                   StandardScaler())]),\n",
       "                                                  Index(['patient_id', 'patient_zip3', 'patient_age', 'population', 'density',\n",
       "       'age_median', 'age_under_10', 'age_10_to_19', 'age_20s', 'age_30s',\n",
       "       'age_40s', 'age_50s', 'age_60s', 'age_70s', 'age_over_80', 'male',\n",
       "       'female',...\n",
       "                               grow_policy=None, importance_type=None,\n",
       "                               interaction_constraints=None,\n",
       "                               learning_rate=0.011937904952019284, max_bin=None,\n",
       "                               max_cat_threshold=None, max_cat_to_onehot=None,\n",
       "                               max_delta_step=None, max_depth=7,\n",
       "                               max_leaves=None, min_child_weight=None,\n",
       "                               missing=nan, monotone_constraints=None,\n",
       "                               multi_strategy=None, n_estimators=200,\n",
       "                               n_jobs=None, num_parallel_tree=None,\n",
       "                               random_state=42, ...))])"
      ]
     },
     "execution_count": 10,
     "metadata": {},
     "output_type": "execute_result"
    }
   ],
   "source": [
    "# Train XGBoost model with best hyperparameters\n",
    "xgb_model = XGBClassifier(**best_params_xgb, random_state=42)\n",
    "clf_xgb = Pipeline(steps=[('preprocessor', preprocessor),\n",
    "                           ('classifier', xgb_model)])\n",
    "clf_xgb.fit(X_train, y_train)\n"
   ]
  },
  {
   "cell_type": "code",
   "execution_count": 11,
   "id": "ec4525cf",
   "metadata": {
    "execution": {
     "iopub.execute_input": "2024-02-28T16:00:20.028428Z",
     "iopub.status.busy": "2024-02-28T16:00:20.027801Z",
     "iopub.status.idle": "2024-02-28T16:00:20.089206Z",
     "shell.execute_reply": "2024-02-28T16:00:20.088183Z"
    },
    "papermill": {
     "duration": 0.072785,
     "end_time": "2024-02-28T16:00:20.091892",
     "exception": false,
     "start_time": "2024-02-28T16:00:20.019107",
     "status": "completed"
    },
    "tags": []
   },
   "outputs": [
    {
     "name": "stdout",
     "output_type": "stream",
     "text": [
      "XGBoost: AUC = 0.8014\n"
     ]
    }
   ],
   "source": [
    "# Evaluate XGBoost model\n",
    "y_pred_xgb = clf_xgb.predict_proba(X_valid)[:, 1]\n",
    "auc_xgb = roc_auc_score(y_valid, y_pred_xgb)\n",
    "print(f'XGBoost: AUC = {auc_xgb:.4f}')\n",
    "\n"
   ]
  },
  {
   "cell_type": "code",
   "execution_count": 12,
   "id": "ff778304",
   "metadata": {
    "execution": {
     "iopub.execute_input": "2024-02-28T16:00:20.111092Z",
     "iopub.status.busy": "2024-02-28T16:00:20.110679Z",
     "iopub.status.idle": "2024-02-28T16:05:26.113466Z",
     "shell.execute_reply": "2024-02-28T16:05:26.112386Z"
    },
    "papermill": {
     "duration": 306.015899,
     "end_time": "2024-02-28T16:05:26.116336",
     "exception": false,
     "start_time": "2024-02-28T16:00:20.100437",
     "status": "completed"
    },
    "tags": []
   },
   "outputs": [],
   "source": [
    "# Create and run the Optuna study for CatBoost\n",
    "study_catboost = optuna.create_study(direction='maximize', pruner=optuna.pruners.MedianPruner())\n",
    "study_catboost.optimize(objective_catboost, n_trials=50)\n",
    "\n",
    "# Get the best parameters for CatBoost\n",
    "best_params_catboost = study_catboost.best_params\n"
   ]
  },
  {
   "cell_type": "code",
   "execution_count": 13,
   "id": "d16387dc",
   "metadata": {
    "execution": {
     "iopub.execute_input": "2024-02-28T16:05:26.133940Z",
     "iopub.status.busy": "2024-02-28T16:05:26.133264Z",
     "iopub.status.idle": "2024-02-28T16:05:30.830250Z",
     "shell.execute_reply": "2024-02-28T16:05:30.829178Z"
    },
    "papermill": {
     "duration": 4.708569,
     "end_time": "2024-02-28T16:05:30.832818",
     "exception": false,
     "start_time": "2024-02-28T16:05:26.124249",
     "status": "completed"
    },
    "tags": []
   },
   "outputs": [
    {
     "data": {
      "text/html": [
       "<style>#sk-container-id-2 {color: black;background-color: white;}#sk-container-id-2 pre{padding: 0;}#sk-container-id-2 div.sk-toggleable {background-color: white;}#sk-container-id-2 label.sk-toggleable__label {cursor: pointer;display: block;width: 100%;margin-bottom: 0;padding: 0.3em;box-sizing: border-box;text-align: center;}#sk-container-id-2 label.sk-toggleable__label-arrow:before {content: \"▸\";float: left;margin-right: 0.25em;color: #696969;}#sk-container-id-2 label.sk-toggleable__label-arrow:hover:before {color: black;}#sk-container-id-2 div.sk-estimator:hover label.sk-toggleable__label-arrow:before {color: black;}#sk-container-id-2 div.sk-toggleable__content {max-height: 0;max-width: 0;overflow: hidden;text-align: left;background-color: #f0f8ff;}#sk-container-id-2 div.sk-toggleable__content pre {margin: 0.2em;color: black;border-radius: 0.25em;background-color: #f0f8ff;}#sk-container-id-2 input.sk-toggleable__control:checked~div.sk-toggleable__content {max-height: 200px;max-width: 100%;overflow: auto;}#sk-container-id-2 input.sk-toggleable__control:checked~label.sk-toggleable__label-arrow:before {content: \"▾\";}#sk-container-id-2 div.sk-estimator input.sk-toggleable__control:checked~label.sk-toggleable__label {background-color: #d4ebff;}#sk-container-id-2 div.sk-label input.sk-toggleable__control:checked~label.sk-toggleable__label {background-color: #d4ebff;}#sk-container-id-2 input.sk-hidden--visually {border: 0;clip: rect(1px 1px 1px 1px);clip: rect(1px, 1px, 1px, 1px);height: 1px;margin: -1px;overflow: hidden;padding: 0;position: absolute;width: 1px;}#sk-container-id-2 div.sk-estimator {font-family: monospace;background-color: #f0f8ff;border: 1px dotted black;border-radius: 0.25em;box-sizing: border-box;margin-bottom: 0.5em;}#sk-container-id-2 div.sk-estimator:hover {background-color: #d4ebff;}#sk-container-id-2 div.sk-parallel-item::after {content: \"\";width: 100%;border-bottom: 1px solid gray;flex-grow: 1;}#sk-container-id-2 div.sk-label:hover label.sk-toggleable__label {background-color: #d4ebff;}#sk-container-id-2 div.sk-serial::before {content: \"\";position: absolute;border-left: 1px solid gray;box-sizing: border-box;top: 0;bottom: 0;left: 50%;z-index: 0;}#sk-container-id-2 div.sk-serial {display: flex;flex-direction: column;align-items: center;background-color: white;padding-right: 0.2em;padding-left: 0.2em;position: relative;}#sk-container-id-2 div.sk-item {position: relative;z-index: 1;}#sk-container-id-2 div.sk-parallel {display: flex;align-items: stretch;justify-content: center;background-color: white;position: relative;}#sk-container-id-2 div.sk-item::before, #sk-container-id-2 div.sk-parallel-item::before {content: \"\";position: absolute;border-left: 1px solid gray;box-sizing: border-box;top: 0;bottom: 0;left: 50%;z-index: -1;}#sk-container-id-2 div.sk-parallel-item {display: flex;flex-direction: column;z-index: 1;position: relative;background-color: white;}#sk-container-id-2 div.sk-parallel-item:first-child::after {align-self: flex-end;width: 50%;}#sk-container-id-2 div.sk-parallel-item:last-child::after {align-self: flex-start;width: 50%;}#sk-container-id-2 div.sk-parallel-item:only-child::after {width: 0;}#sk-container-id-2 div.sk-dashed-wrapped {border: 1px dashed gray;margin: 0 0.4em 0.5em 0.4em;box-sizing: border-box;padding-bottom: 0.4em;background-color: white;}#sk-container-id-2 div.sk-label label {font-family: monospace;font-weight: bold;display: inline-block;line-height: 1.2em;}#sk-container-id-2 div.sk-label-container {text-align: center;}#sk-container-id-2 div.sk-container {/* jupyter's `normalize.less` sets `[hidden] { display: none; }` but bootstrap.min.css set `[hidden] { display: none !important; }` so we also need the `!important` here to be able to override the default hidden behavior on the sphinx rendered scikit-learn.org. See: https://github.com/scikit-learn/scikit-learn/issues/21755 */display: inline-block !important;position: relative;}#sk-container-id-2 div.sk-text-repr-fallback {display: none;}</style><div id=\"sk-container-id-2\" class=\"sk-top-container\"><div class=\"sk-text-repr-fallback\"><pre>Pipeline(steps=[(&#x27;preprocessor&#x27;,\n",
       "                 ColumnTransformer(transformers=[(&#x27;num&#x27;,\n",
       "                                                  Pipeline(steps=[(&#x27;imputer&#x27;,\n",
       "                                                                   SimpleImputer()),\n",
       "                                                                  (&#x27;scaler&#x27;,\n",
       "                                                                   StandardScaler())]),\n",
       "                                                  Index([&#x27;patient_id&#x27;, &#x27;patient_zip3&#x27;, &#x27;patient_age&#x27;, &#x27;population&#x27;, &#x27;density&#x27;,\n",
       "       &#x27;age_median&#x27;, &#x27;age_under_10&#x27;, &#x27;age_10_to_19&#x27;, &#x27;age_20s&#x27;, &#x27;age_30s&#x27;,\n",
       "       &#x27;age_40s&#x27;, &#x27;age_50s&#x27;, &#x27;age_60s&#x27;, &#x27;age_70s&#x27;, &#x27;age_over_80&#x27;, &#x27;male&#x27;,\n",
       "       &#x27;female&#x27;,...\n",
       "                                                                   SimpleImputer(strategy=&#x27;most_frequent&#x27;)),\n",
       "                                                                  (&#x27;onehot&#x27;,\n",
       "                                                                   OneHotEncoder(handle_unknown=&#x27;ignore&#x27;))]),\n",
       "                                                  Index([&#x27;payer_type&#x27;, &#x27;patient_state&#x27;, &#x27;patient_gender&#x27;,\n",
       "       &#x27;breast_cancer_diagnosis_code&#x27;, &#x27;breast_cancer_diagnosis_desc&#x27;,\n",
       "       &#x27;metastatic_cancer_diagnosis_code&#x27;, &#x27;Region&#x27;, &#x27;Division&#x27;],\n",
       "      dtype=&#x27;object&#x27;))])),\n",
       "                (&#x27;classifier&#x27;,\n",
       "                 &lt;catboost.core.CatBoostClassifier object at 0x7c48431ff2e0&gt;)])</pre><b>In a Jupyter environment, please rerun this cell to show the HTML representation or trust the notebook. <br />On GitHub, the HTML representation is unable to render, please try loading this page with nbviewer.org.</b></div><div class=\"sk-container\" hidden><div class=\"sk-item sk-dashed-wrapped\"><div class=\"sk-label-container\"><div class=\"sk-label sk-toggleable\"><input class=\"sk-toggleable__control sk-hidden--visually\" id=\"sk-estimator-id-10\" type=\"checkbox\" ><label for=\"sk-estimator-id-10\" class=\"sk-toggleable__label sk-toggleable__label-arrow\">Pipeline</label><div class=\"sk-toggleable__content\"><pre>Pipeline(steps=[(&#x27;preprocessor&#x27;,\n",
       "                 ColumnTransformer(transformers=[(&#x27;num&#x27;,\n",
       "                                                  Pipeline(steps=[(&#x27;imputer&#x27;,\n",
       "                                                                   SimpleImputer()),\n",
       "                                                                  (&#x27;scaler&#x27;,\n",
       "                                                                   StandardScaler())]),\n",
       "                                                  Index([&#x27;patient_id&#x27;, &#x27;patient_zip3&#x27;, &#x27;patient_age&#x27;, &#x27;population&#x27;, &#x27;density&#x27;,\n",
       "       &#x27;age_median&#x27;, &#x27;age_under_10&#x27;, &#x27;age_10_to_19&#x27;, &#x27;age_20s&#x27;, &#x27;age_30s&#x27;,\n",
       "       &#x27;age_40s&#x27;, &#x27;age_50s&#x27;, &#x27;age_60s&#x27;, &#x27;age_70s&#x27;, &#x27;age_over_80&#x27;, &#x27;male&#x27;,\n",
       "       &#x27;female&#x27;,...\n",
       "                                                                   SimpleImputer(strategy=&#x27;most_frequent&#x27;)),\n",
       "                                                                  (&#x27;onehot&#x27;,\n",
       "                                                                   OneHotEncoder(handle_unknown=&#x27;ignore&#x27;))]),\n",
       "                                                  Index([&#x27;payer_type&#x27;, &#x27;patient_state&#x27;, &#x27;patient_gender&#x27;,\n",
       "       &#x27;breast_cancer_diagnosis_code&#x27;, &#x27;breast_cancer_diagnosis_desc&#x27;,\n",
       "       &#x27;metastatic_cancer_diagnosis_code&#x27;, &#x27;Region&#x27;, &#x27;Division&#x27;],\n",
       "      dtype=&#x27;object&#x27;))])),\n",
       "                (&#x27;classifier&#x27;,\n",
       "                 &lt;catboost.core.CatBoostClassifier object at 0x7c48431ff2e0&gt;)])</pre></div></div></div><div class=\"sk-serial\"><div class=\"sk-item sk-dashed-wrapped\"><div class=\"sk-label-container\"><div class=\"sk-label sk-toggleable\"><input class=\"sk-toggleable__control sk-hidden--visually\" id=\"sk-estimator-id-11\" type=\"checkbox\" ><label for=\"sk-estimator-id-11\" class=\"sk-toggleable__label sk-toggleable__label-arrow\">preprocessor: ColumnTransformer</label><div class=\"sk-toggleable__content\"><pre>ColumnTransformer(transformers=[(&#x27;num&#x27;,\n",
       "                                 Pipeline(steps=[(&#x27;imputer&#x27;, SimpleImputer()),\n",
       "                                                 (&#x27;scaler&#x27;, StandardScaler())]),\n",
       "                                 Index([&#x27;patient_id&#x27;, &#x27;patient_zip3&#x27;, &#x27;patient_age&#x27;, &#x27;population&#x27;, &#x27;density&#x27;,\n",
       "       &#x27;age_median&#x27;, &#x27;age_under_10&#x27;, &#x27;age_10_to_19&#x27;, &#x27;age_20s&#x27;, &#x27;age_30s&#x27;,\n",
       "       &#x27;age_40s&#x27;, &#x27;age_50s&#x27;, &#x27;age_60s&#x27;, &#x27;age_70s&#x27;, &#x27;age_over_80&#x27;, &#x27;male&#x27;,\n",
       "       &#x27;female&#x27;, &#x27;married&#x27;, &#x27;divorced&#x27;, &#x27;never_marr...\n",
       "       &#x27;commute_time&#x27;, &#x27;health_uninsured&#x27;, &#x27;veteran&#x27;, &#x27;Ozone&#x27;, &#x27;PM25&#x27;, &#x27;N02&#x27;],\n",
       "      dtype=&#x27;object&#x27;)),\n",
       "                                (&#x27;cat&#x27;,\n",
       "                                 Pipeline(steps=[(&#x27;imputer&#x27;,\n",
       "                                                  SimpleImputer(strategy=&#x27;most_frequent&#x27;)),\n",
       "                                                 (&#x27;onehot&#x27;,\n",
       "                                                  OneHotEncoder(handle_unknown=&#x27;ignore&#x27;))]),\n",
       "                                 Index([&#x27;payer_type&#x27;, &#x27;patient_state&#x27;, &#x27;patient_gender&#x27;,\n",
       "       &#x27;breast_cancer_diagnosis_code&#x27;, &#x27;breast_cancer_diagnosis_desc&#x27;,\n",
       "       &#x27;metastatic_cancer_diagnosis_code&#x27;, &#x27;Region&#x27;, &#x27;Division&#x27;],\n",
       "      dtype=&#x27;object&#x27;))])</pre></div></div></div><div class=\"sk-parallel\"><div class=\"sk-parallel-item\"><div class=\"sk-item\"><div class=\"sk-label-container\"><div class=\"sk-label sk-toggleable\"><input class=\"sk-toggleable__control sk-hidden--visually\" id=\"sk-estimator-id-12\" type=\"checkbox\" ><label for=\"sk-estimator-id-12\" class=\"sk-toggleable__label sk-toggleable__label-arrow\">num</label><div class=\"sk-toggleable__content\"><pre>Index([&#x27;patient_id&#x27;, &#x27;patient_zip3&#x27;, &#x27;patient_age&#x27;, &#x27;population&#x27;, &#x27;density&#x27;,\n",
       "       &#x27;age_median&#x27;, &#x27;age_under_10&#x27;, &#x27;age_10_to_19&#x27;, &#x27;age_20s&#x27;, &#x27;age_30s&#x27;,\n",
       "       &#x27;age_40s&#x27;, &#x27;age_50s&#x27;, &#x27;age_60s&#x27;, &#x27;age_70s&#x27;, &#x27;age_over_80&#x27;, &#x27;male&#x27;,\n",
       "       &#x27;female&#x27;, &#x27;married&#x27;, &#x27;divorced&#x27;, &#x27;never_married&#x27;, &#x27;widowed&#x27;,\n",
       "       &#x27;family_size&#x27;, &#x27;family_dual_income&#x27;, &#x27;income_household_median&#x27;,\n",
       "       &#x27;income_household_under_5&#x27;, &#x27;income_household_5_to_10&#x27;,\n",
       "       &#x27;income_household_10_to_15&#x27;, &#x27;income_household_15_to_20&#x27;,\n",
       "       &#x27;income_household_20_to_25&#x27;, &#x27;income_household_25_to_35&#x27;,\n",
       "       &#x27;income_household_35_to_50&#x27;, &#x27;income_household_50_to_75&#x27;,\n",
       "       &#x27;income_household_75_to_100&#x27;, &#x27;income_household_100_to_150&#x27;,\n",
       "       &#x27;income_household_150_over&#x27;, &#x27;income_household_six_figure&#x27;,\n",
       "       &#x27;income_individual_median&#x27;, &#x27;home_ownership&#x27;, &#x27;housing_units&#x27;,\n",
       "       &#x27;home_value&#x27;, &#x27;rent_median&#x27;, &#x27;rent_burden&#x27;, &#x27;education_less_highschool&#x27;,\n",
       "       &#x27;education_highschool&#x27;, &#x27;education_some_college&#x27;, &#x27;education_bachelors&#x27;,\n",
       "       &#x27;education_graduate&#x27;, &#x27;education_college_or_above&#x27;,\n",
       "       &#x27;education_stem_degree&#x27;, &#x27;labor_force_participation&#x27;,\n",
       "       &#x27;unemployment_rate&#x27;, &#x27;self_employed&#x27;, &#x27;farmer&#x27;, &#x27;race_white&#x27;,\n",
       "       &#x27;race_black&#x27;, &#x27;race_asian&#x27;, &#x27;race_native&#x27;, &#x27;race_pacific&#x27;, &#x27;race_other&#x27;,\n",
       "       &#x27;race_multiple&#x27;, &#x27;hispanic&#x27;, &#x27;disabled&#x27;, &#x27;poverty&#x27;, &#x27;limited_english&#x27;,\n",
       "       &#x27;commute_time&#x27;, &#x27;health_uninsured&#x27;, &#x27;veteran&#x27;, &#x27;Ozone&#x27;, &#x27;PM25&#x27;, &#x27;N02&#x27;],\n",
       "      dtype=&#x27;object&#x27;)</pre></div></div></div><div class=\"sk-serial\"><div class=\"sk-item\"><div class=\"sk-serial\"><div class=\"sk-item\"><div class=\"sk-estimator sk-toggleable\"><input class=\"sk-toggleable__control sk-hidden--visually\" id=\"sk-estimator-id-13\" type=\"checkbox\" ><label for=\"sk-estimator-id-13\" class=\"sk-toggleable__label sk-toggleable__label-arrow\">SimpleImputer</label><div class=\"sk-toggleable__content\"><pre>SimpleImputer()</pre></div></div></div><div class=\"sk-item\"><div class=\"sk-estimator sk-toggleable\"><input class=\"sk-toggleable__control sk-hidden--visually\" id=\"sk-estimator-id-14\" type=\"checkbox\" ><label for=\"sk-estimator-id-14\" class=\"sk-toggleable__label sk-toggleable__label-arrow\">StandardScaler</label><div class=\"sk-toggleable__content\"><pre>StandardScaler()</pre></div></div></div></div></div></div></div></div><div class=\"sk-parallel-item\"><div class=\"sk-item\"><div class=\"sk-label-container\"><div class=\"sk-label sk-toggleable\"><input class=\"sk-toggleable__control sk-hidden--visually\" id=\"sk-estimator-id-15\" type=\"checkbox\" ><label for=\"sk-estimator-id-15\" class=\"sk-toggleable__label sk-toggleable__label-arrow\">cat</label><div class=\"sk-toggleable__content\"><pre>Index([&#x27;payer_type&#x27;, &#x27;patient_state&#x27;, &#x27;patient_gender&#x27;,\n",
       "       &#x27;breast_cancer_diagnosis_code&#x27;, &#x27;breast_cancer_diagnosis_desc&#x27;,\n",
       "       &#x27;metastatic_cancer_diagnosis_code&#x27;, &#x27;Region&#x27;, &#x27;Division&#x27;],\n",
       "      dtype=&#x27;object&#x27;)</pre></div></div></div><div class=\"sk-serial\"><div class=\"sk-item\"><div class=\"sk-serial\"><div class=\"sk-item\"><div class=\"sk-estimator sk-toggleable\"><input class=\"sk-toggleable__control sk-hidden--visually\" id=\"sk-estimator-id-16\" type=\"checkbox\" ><label for=\"sk-estimator-id-16\" class=\"sk-toggleable__label sk-toggleable__label-arrow\">SimpleImputer</label><div class=\"sk-toggleable__content\"><pre>SimpleImputer(strategy=&#x27;most_frequent&#x27;)</pre></div></div></div><div class=\"sk-item\"><div class=\"sk-estimator sk-toggleable\"><input class=\"sk-toggleable__control sk-hidden--visually\" id=\"sk-estimator-id-17\" type=\"checkbox\" ><label for=\"sk-estimator-id-17\" class=\"sk-toggleable__label sk-toggleable__label-arrow\">OneHotEncoder</label><div class=\"sk-toggleable__content\"><pre>OneHotEncoder(handle_unknown=&#x27;ignore&#x27;)</pre></div></div></div></div></div></div></div></div></div></div><div class=\"sk-item\"><div class=\"sk-estimator sk-toggleable\"><input class=\"sk-toggleable__control sk-hidden--visually\" id=\"sk-estimator-id-18\" type=\"checkbox\" ><label for=\"sk-estimator-id-18\" class=\"sk-toggleable__label sk-toggleable__label-arrow\">CatBoostClassifier</label><div class=\"sk-toggleable__content\"><pre>&lt;catboost.core.CatBoostClassifier object at 0x7c48431ff2e0&gt;</pre></div></div></div></div></div></div></div>"
      ],
      "text/plain": [
       "Pipeline(steps=[('preprocessor',\n",
       "                 ColumnTransformer(transformers=[('num',\n",
       "                                                  Pipeline(steps=[('imputer',\n",
       "                                                                   SimpleImputer()),\n",
       "                                                                  ('scaler',\n",
       "                                                                   StandardScaler())]),\n",
       "                                                  Index(['patient_id', 'patient_zip3', 'patient_age', 'population', 'density',\n",
       "       'age_median', 'age_under_10', 'age_10_to_19', 'age_20s', 'age_30s',\n",
       "       'age_40s', 'age_50s', 'age_60s', 'age_70s', 'age_over_80', 'male',\n",
       "       'female',...\n",
       "                                                                   SimpleImputer(strategy='most_frequent')),\n",
       "                                                                  ('onehot',\n",
       "                                                                   OneHotEncoder(handle_unknown='ignore'))]),\n",
       "                                                  Index(['payer_type', 'patient_state', 'patient_gender',\n",
       "       'breast_cancer_diagnosis_code', 'breast_cancer_diagnosis_desc',\n",
       "       'metastatic_cancer_diagnosis_code', 'Region', 'Division'],\n",
       "      dtype='object'))])),\n",
       "                ('classifier',\n",
       "                 <catboost.core.CatBoostClassifier object at 0x7c48431ff2e0>)])"
      ]
     },
     "execution_count": 13,
     "metadata": {},
     "output_type": "execute_result"
    }
   ],
   "source": [
    "# Train CatBoost model with best hyperparameters\n",
    "catboost_model = CatBoostClassifier(**best_params_catboost, random_state=42, verbose=0)\n",
    "clf_catboost = Pipeline(steps=[('preprocessor', preprocessor),\n",
    "                               ('classifier', catboost_model)])\n",
    "clf_catboost.fit(X_train, y_train)\n"
   ]
  },
  {
   "cell_type": "code",
   "execution_count": 14,
   "id": "c4c42145",
   "metadata": {
    "execution": {
     "iopub.execute_input": "2024-02-28T16:05:30.850853Z",
     "iopub.status.busy": "2024-02-28T16:05:30.850461Z",
     "iopub.status.idle": "2024-02-28T16:05:30.904351Z",
     "shell.execute_reply": "2024-02-28T16:05:30.903045Z"
    },
    "papermill": {
     "duration": 0.065813,
     "end_time": "2024-02-28T16:05:30.906867",
     "exception": false,
     "start_time": "2024-02-28T16:05:30.841054",
     "status": "completed"
    },
    "tags": []
   },
   "outputs": [
    {
     "name": "stdout",
     "output_type": "stream",
     "text": [
      "CatBoost: AUC = 0.8036\n"
     ]
    }
   ],
   "source": [
    "# Evaluate CatBoost model\n",
    "y_pred_catboost = clf_catboost.predict_proba(X_valid)[:, 1]\n",
    "auc_catboost = roc_auc_score(y_valid, y_pred_catboost)\n",
    "print(f'CatBoost: AUC = {auc_catboost:.4f}')"
   ]
  },
  {
   "cell_type": "code",
   "execution_count": 15,
   "id": "857f1052",
   "metadata": {
    "execution": {
     "iopub.execute_input": "2024-02-28T16:05:30.925411Z",
     "iopub.status.busy": "2024-02-28T16:05:30.924971Z",
     "iopub.status.idle": "2024-02-28T16:05:30.929893Z",
     "shell.execute_reply": "2024-02-28T16:05:30.928842Z"
    },
    "papermill": {
     "duration": 0.016866,
     "end_time": "2024-02-28T16:05:30.932283",
     "exception": false,
     "start_time": "2024-02-28T16:05:30.915417",
     "status": "completed"
    },
    "tags": []
   },
   "outputs": [],
   "source": [
    "# Ensemble XGBoost and CatBoost models\n",
    "voting_clf = VotingClassifier([('xgb', clf_xgb), ('catboost', clf_catboost)], voting='soft')\n"
   ]
  },
  {
   "cell_type": "code",
   "execution_count": 16,
   "id": "021e7ff6",
   "metadata": {
    "execution": {
     "iopub.execute_input": "2024-02-28T16:05:30.950139Z",
     "iopub.status.busy": "2024-02-28T16:05:30.949739Z",
     "iopub.status.idle": "2024-02-28T16:07:17.530217Z",
     "shell.execute_reply": "2024-02-28T16:07:17.529058Z"
    },
    "papermill": {
     "duration": 106.599892,
     "end_time": "2024-02-28T16:07:17.540315",
     "exception": false,
     "start_time": "2024-02-28T16:05:30.940423",
     "status": "completed"
    },
    "tags": []
   },
   "outputs": [
    {
     "name": "stdout",
     "output_type": "stream",
     "text": [
      "Ensemble AUC Scores (Shuffle-Split): [0.7793816428442722, 0.7822736847513359, 0.7950796425808833, 0.8015716687675909, 0.7944063335434791, 0.7950938784307069, 0.7817604506117118, 0.8014378359350671, 0.7971996677422124, 0.7828412553860411, 0.7777728706463075, 0.7823033770079957, 0.796425871838909]\n"
     ]
    }
   ],
   "source": [
    "# Perform Shuffle-Split Cross-Validation for the ensemble model\n",
    "num_iterations = 13 # Number of Shuffle-Split iterations\n",
    "auc_scores_ensemble = []\n",
    "\n",
    "ss = ShuffleSplit(n_splits=num_iterations, test_size=0.2, random_state=None)\n",
    "for train_index, valid_index in ss.split(X):\n",
    "    X_train_ss, X_valid_ss = X.iloc[train_index], X.iloc[valid_index]\n",
    "    y_train_ss, y_valid_ss = y.iloc[train_index], y.iloc[valid_index]\n",
    "    \n",
    "    voting_clf.fit(X_train_ss, y_train_ss)\n",
    "    y_pred_ensemble_ss = voting_clf.predict_proba(X_valid_ss)[:, 1]\n",
    "    auc_ensemble_ss = roc_auc_score(y_valid_ss, y_pred_ensemble_ss)\n",
    "    auc_scores_ensemble.append(auc_ensemble_ss)\n",
    "\n",
    "print(\"Ensemble AUC Scores (Shuffle-Split):\", auc_scores_ensemble)\n"
   ]
  },
  {
   "cell_type": "code",
   "execution_count": 17,
   "id": "f67d0d7f",
   "metadata": {
    "execution": {
     "iopub.execute_input": "2024-02-28T16:07:17.559166Z",
     "iopub.status.busy": "2024-02-28T16:07:17.558743Z",
     "iopub.status.idle": "2024-02-28T16:09:09.847290Z",
     "shell.execute_reply": "2024-02-28T16:09:09.845971Z"
    },
    "papermill": {
     "duration": 112.301316,
     "end_time": "2024-02-28T16:09:09.850187",
     "exception": false,
     "start_time": "2024-02-28T16:07:17.548871",
     "status": "completed"
    },
    "tags": []
   },
   "outputs": [],
   "source": [
    "# Make predictions on test set with the ensemble model\n",
    "final_predictions_ensemble = []\n",
    "\n",
    "for _ in range(num_iterations):\n",
    "    voting_clf.fit(X, y)  # Fit on the entire dataset\n",
    "    final_predictions_ensemble.append(voting_clf.predict_proba(women_test)[:, 1])\n",
    "\n",
    "# Average predictions across Shuffle-Split iterations\n",
    "final_predictions_ensemble = np.mean(final_predictions_ensemble, axis=0)\n"
   ]
  },
  {
   "cell_type": "code",
   "execution_count": 18,
   "id": "e177c170",
   "metadata": {
    "execution": {
     "iopub.execute_input": "2024-02-28T16:09:09.868870Z",
     "iopub.status.busy": "2024-02-28T16:09:09.868452Z",
     "iopub.status.idle": "2024-02-28T16:09:09.897822Z",
     "shell.execute_reply": "2024-02-28T16:09:09.896400Z"
    },
    "papermill": {
     "duration": 0.042023,
     "end_time": "2024-02-28T16:09:09.900782",
     "exception": false,
     "start_time": "2024-02-28T16:09:09.858759",
     "status": "completed"
    },
    "tags": []
   },
   "outputs": [],
   "source": [
    "# Prepare submission file\n",
    "submission_df = pd.DataFrame({'patient_id': women_test['patient_id'], 'DiagPeriodL90D': final_predictions_ensemble})\n",
    "submission_df.to_csv('submission.csv', index=False)"
   ]
  },
  {
   "cell_type": "code",
   "execution_count": null,
   "id": "663806ec",
   "metadata": {
    "papermill": {
     "duration": 0.007941,
     "end_time": "2024-02-28T16:09:09.917253",
     "exception": false,
     "start_time": "2024-02-28T16:09:09.909312",
     "status": "completed"
    },
    "tags": []
   },
   "outputs": [],
   "source": []
  }
 ],
 "metadata": {
  "kaggle": {
   "accelerator": "none",
   "dataSources": [
    {
     "databundleVersionId": 7469115,
     "sourceId": 65862,
     "sourceType": "competition"
    }
   ],
   "dockerImageVersionId": 30664,
   "isGpuEnabled": false,
   "isInternetEnabled": true,
   "language": "python",
   "sourceType": "notebook"
  },
  "kernelspec": {
   "display_name": "Python 3",
   "language": "python",
   "name": "python3"
  },
  "language_info": {
   "codemirror_mode": {
    "name": "ipython",
    "version": 3
   },
   "file_extension": ".py",
   "mimetype": "text/x-python",
   "name": "python",
   "nbconvert_exporter": "python",
   "pygments_lexer": "ipython3",
   "version": "3.10.13"
  },
  "papermill": {
   "default_parameters": {},
   "duration": 715.865015,
   "end_time": "2024-02-28T16:09:10.749610",
   "environment_variables": {},
   "exception": null,
   "input_path": "__notebook__.ipynb",
   "output_path": "__notebook__.ipynb",
   "parameters": {},
   "start_time": "2024-02-28T15:57:14.884595",
   "version": "2.5.0"
  }
 },
 "nbformat": 4,
 "nbformat_minor": 5
}
