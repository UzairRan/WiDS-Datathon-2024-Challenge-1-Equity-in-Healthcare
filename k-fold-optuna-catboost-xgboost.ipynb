{
 "cells": [
  {
   "cell_type": "code",
   "execution_count": 1,
   "id": "313a4635",
   "metadata": {
    "_cell_guid": "b1076dfc-b9ad-4769-8c92-a6c4dae69d19",
    "_uuid": "8f2839f25d086af736a60e9eeb907d3b93b6e0e5",
    "execution": {
     "iopub.execute_input": "2024-03-01T19:10:46.023555Z",
     "iopub.status.busy": "2024-03-01T19:10:46.022940Z",
     "iopub.status.idle": "2024-03-01T19:10:50.929408Z",
     "shell.execute_reply": "2024-03-01T19:10:50.928489Z"
    },
    "papermill": {
     "duration": 4.918062,
     "end_time": "2024-03-01T19:10:50.931946",
     "exception": false,
     "start_time": "2024-03-01T19:10:46.013884",
     "status": "completed"
    },
    "tags": []
   },
   "outputs": [],
   "source": [
    "# Necessary Libraries\n",
    "import pandas as pd\n",
    "import numpy as np\n",
    "import seaborn as sns\n",
    "import matplotlib.pyplot as plt\n",
    "from sklearn.model_selection import train_test_split\n",
    "from sklearn.impute import SimpleImputer\n",
    "from sklearn.preprocessing import StandardScaler, OneHotEncoder\n",
    "from sklearn.compose import ColumnTransformer\n",
    "from sklearn.pipeline import Pipeline\n",
    "from xgboost import XGBClassifier\n",
    "from catboost import CatBoostClassifier\n",
    "from sklearn.ensemble import VotingClassifier\n",
    "from sklearn.metrics import roc_auc_score\n",
    "import optuna\n",
    "import logging\n",
    "\n",
    "optuna.logging.set_verbosity(optuna.logging.WARNING)"
   ]
  },
  {
   "cell_type": "code",
   "execution_count": 2,
   "id": "b4657c8b",
   "metadata": {
    "execution": {
     "iopub.execute_input": "2024-03-01T19:10:50.948357Z",
     "iopub.status.busy": "2024-03-01T19:10:50.947674Z",
     "iopub.status.idle": "2024-03-01T19:10:51.565655Z",
     "shell.execute_reply": "2024-03-01T19:10:51.564481Z"
    },
    "papermill": {
     "duration": 0.629128,
     "end_time": "2024-03-01T19:10:51.568345",
     "exception": false,
     "start_time": "2024-03-01T19:10:50.939217",
     "status": "completed"
    },
    "tags": []
   },
   "outputs": [],
   "source": [
    "# Exploratory Data Analysis\n",
    "# Load Data\n",
    "women_train = pd.read_csv('/kaggle/input/widsdatathon2024-challenge1/training.csv')\n",
    "women_test = pd.read_csv(\"/kaggle/input/widsdatathon2024-challenge1/test.csv\")\n",
    "sample_submission = pd.read_csv(\"/kaggle/input/widsdatathon2024-challenge1/sample_submission.csv\")"
   ]
  },
  {
   "cell_type": "code",
   "execution_count": 3,
   "id": "282f4248",
   "metadata": {
    "execution": {
     "iopub.execute_input": "2024-03-01T19:10:51.584357Z",
     "iopub.status.busy": "2024-03-01T19:10:51.583958Z",
     "iopub.status.idle": "2024-03-01T19:10:51.606655Z",
     "shell.execute_reply": "2024-03-01T19:10:51.605456Z"
    },
    "papermill": {
     "duration": 0.033593,
     "end_time": "2024-03-01T19:10:51.609176",
     "exception": false,
     "start_time": "2024-03-01T19:10:51.575583",
     "status": "completed"
    },
    "tags": []
   },
   "outputs": [],
   "source": [
    "# Feature Engineering\n",
    "# Drop unnecessary columns for modeling\n",
    "drop_columns = ['metastatic_first_novel_treatment', 'metastatic_first_novel_treatment_type', 'bmi','patient_race','family_size', 'family_dual_income', 'income_household_median',\n",
    "       'income_household_under_5', 'income_household_5_to_10',\n",
    "       'income_household_10_to_15', 'income_household_15_to_20',\n",
    "       'income_household_20_to_25', 'income_household_25_to_35',\n",
    "       'income_household_35_to_50', 'income_household_50_to_75',\n",
    "       'income_household_75_to_100', 'income_household_100_to_150',\n",
    "       'income_household_150_over', 'income_household_six_figure']\n",
    "women_train = women_train.drop(columns=drop_columns)\n",
    "women_test = women_test.drop(columns=drop_columns)\n"
   ]
  },
  {
   "cell_type": "code",
   "execution_count": 4,
   "id": "50485384",
   "metadata": {
    "execution": {
     "iopub.execute_input": "2024-03-01T19:10:51.625409Z",
     "iopub.status.busy": "2024-03-01T19:10:51.624754Z",
     "iopub.status.idle": "2024-03-01T19:10:51.836554Z",
     "shell.execute_reply": "2024-03-01T19:10:51.835643Z"
    },
    "papermill": {
     "duration": 0.222764,
     "end_time": "2024-03-01T19:10:51.838975",
     "exception": false,
     "start_time": "2024-03-01T19:10:51.616211",
     "status": "completed"
    },
    "tags": []
   },
   "outputs": [],
   "source": [
    "# Text preprocessing for 'breast_cancer_diagnosis_desc'\n",
    "def preprocess_text(text):\n",
    "    # Convert text to lowercase\n",
    "    text = text.lower()\n",
    "    # Remove punctuation and special characters\n",
    "    text = ''.join([char for char in text if char.isalnum() or char.isspace()])\n",
    "    return text\n",
    "\n",
    "women_train['breast_cancer_diagnosis_desc'] = women_train['breast_cancer_diagnosis_desc'].apply(preprocess_text)\n",
    "women_test['breast_cancer_diagnosis_desc'] = women_test['breast_cancer_diagnosis_desc'].apply(preprocess_text)"
   ]
  },
  {
   "cell_type": "code",
   "execution_count": 5,
   "id": "a16f4d33",
   "metadata": {
    "execution": {
     "iopub.execute_input": "2024-03-01T19:10:51.855002Z",
     "iopub.status.busy": "2024-03-01T19:10:51.854313Z",
     "iopub.status.idle": "2024-03-01T19:10:51.875604Z",
     "shell.execute_reply": "2024-03-01T19:10:51.874203Z"
    },
    "papermill": {
     "duration": 0.032541,
     "end_time": "2024-03-01T19:10:51.878579",
     "exception": false,
     "start_time": "2024-03-01T19:10:51.846038",
     "status": "completed"
    },
    "tags": []
   },
   "outputs": [],
   "source": [
    "# Define features and target variable\n",
    "X = women_train.drop(columns=['DiagPeriodL90D'])\n",
    "y = women_train['DiagPeriodL90D']\n",
    "# Split the data into training and validation sets\n",
    "X_train, X_valid, y_train, y_valid = train_test_split(X, y, test_size=0.2, random_state=42)"
   ]
  },
  {
   "cell_type": "code",
   "execution_count": 6,
   "id": "4efb5a0a",
   "metadata": {
    "execution": {
     "iopub.execute_input": "2024-03-01T19:10:51.894563Z",
     "iopub.status.busy": "2024-03-01T19:10:51.893983Z",
     "iopub.status.idle": "2024-03-01T19:10:51.911650Z",
     "shell.execute_reply": "2024-03-01T19:10:51.910430Z"
    },
    "papermill": {
     "duration": 0.029134,
     "end_time": "2024-03-01T19:10:51.914757",
     "exception": false,
     "start_time": "2024-03-01T19:10:51.885623",
     "status": "completed"
    },
    "tags": []
   },
   "outputs": [],
   "source": [
    "# Preprocessing for numerical and categorical data\n",
    "numerical_cols = X.select_dtypes(include=['int64', 'float64']).columns\n",
    "categorical_cols = X.select_dtypes(include=['object']).columns\n",
    "\n",
    "numerical_transformer = Pipeline(steps=[\n",
    "    ('imputer', SimpleImputer(strategy='mean')),\n",
    "    ('scaler', StandardScaler())\n",
    "])\n",
    "\n",
    "categorical_transformer = Pipeline(steps=[\n",
    "    ('imputer', SimpleImputer(strategy='most_frequent')),\n",
    "    ('onehot', OneHotEncoder(handle_unknown='ignore'))\n",
    "])\n",
    "# Bundle preprocessing for numerical and categorical data\n",
    "preprocessor = ColumnTransformer(\n",
    "    transformers=[\n",
    "        ('num', numerical_transformer, numerical_cols),\n",
    "        ('cat', categorical_transformer, categorical_cols)\n",
    "    ])"
   ]
  },
  {
   "cell_type": "code",
   "execution_count": 7,
   "id": "d4128c34",
   "metadata": {
    "execution": {
     "iopub.execute_input": "2024-03-01T19:10:51.930578Z",
     "iopub.status.busy": "2024-03-01T19:10:51.930184Z",
     "iopub.status.idle": "2024-03-01T19:10:51.939015Z",
     "shell.execute_reply": "2024-03-01T19:10:51.937866Z"
    },
    "papermill": {
     "duration": 0.019635,
     "end_time": "2024-03-01T19:10:51.941311",
     "exception": false,
     "start_time": "2024-03-01T19:10:51.921676",
     "status": "completed"
    },
    "tags": []
   },
   "outputs": [],
   "source": [
    "# Model Building and Evaluation\n",
    "# Define XGBoost model with Optuna hyperparameter optimization\n",
    "def objective_xgb(trial):\n",
    "    params = {\n",
    "        'n_estimators': trial.suggest_int('n_estimators', 200, 300),\n",
    "        'learning_rate': trial.suggest_float('learning_rate', 0.001, 0.1, log=True),\n",
    "        'max_depth': trial.suggest_int('max_depth', 3, 10),\n",
    "        'subsample': trial.suggest_float('subsample', 0.5, 1),\n",
    "        'colsample_bytree': trial.suggest_float('colsample_bytree', 0.5, 1),\n",
    "        'gamma': trial.suggest_float('gamma', 1e-8, 1.0, log=True),\n",
    "        'random_state': 42\n",
    "    }\n",
    "\n",
    "    xgb_model = XGBClassifier(**params)\n",
    "\n",
    "    clf = Pipeline(steps=[('preprocessor', preprocessor),\n",
    "                           ('classifier', xgb_model)])\n",
    "    clf.fit(X_train, y_train)\n",
    "    y_pred = clf.predict_proba(X_valid)[:, 1]\n",
    "    auc = roc_auc_score(y_valid, y_pred)\n",
    "\n",
    "    return auc\n"
   ]
  },
  {
   "cell_type": "code",
   "execution_count": 8,
   "id": "dd4e565c",
   "metadata": {
    "execution": {
     "iopub.execute_input": "2024-03-01T19:10:51.958272Z",
     "iopub.status.busy": "2024-03-01T19:10:51.957046Z",
     "iopub.status.idle": "2024-03-01T19:10:51.965659Z",
     "shell.execute_reply": "2024-03-01T19:10:51.964789Z"
    },
    "papermill": {
     "duration": 0.019303,
     "end_time": "2024-03-01T19:10:51.967966",
     "exception": false,
     "start_time": "2024-03-01T19:10:51.948663",
     "status": "completed"
    },
    "tags": []
   },
   "outputs": [],
   "source": [
    "# Define CatBoost model with Optuna hyperparameter optimization\n",
    "def objective_catboost(trial):\n",
    "    params = {\n",
    "        'iterations': trial.suggest_int('iterations', 50, 200),\n",
    "        'learning_rate': trial.suggest_float('learning_rate', 0.01, 0.1),\n",
    "        'depth': trial.suggest_int('depth', 4, 10),\n",
    "        'l2_leaf_reg': trial.suggest_float('l2_leaf_reg', 1e-3, 10.0),\n",
    "        'random_state': 42,\n",
    "        'verbose': 0\n",
    "    }\n",
    "\n",
    "    catboost_model = CatBoostClassifier(**params)\n",
    "\n",
    "    clf = Pipeline(steps=[('preprocessor', preprocessor),\n",
    "                           ('classifier', catboost_model)])\n",
    "    clf.fit(X_train, y_train)\n",
    "    y_pred = clf.predict_proba(X_valid)[:, 1]\n",
    "    auc = roc_auc_score(y_valid, y_pred)\n",
    "\n",
    "    return auc"
   ]
  },
  {
   "cell_type": "code",
   "execution_count": 9,
   "id": "2ab4df06",
   "metadata": {
    "execution": {
     "iopub.execute_input": "2024-03-01T19:10:51.983555Z",
     "iopub.status.busy": "2024-03-01T19:10:51.983151Z",
     "iopub.status.idle": "2024-03-01T19:13:13.962655Z",
     "shell.execute_reply": "2024-03-01T19:13:13.961711Z"
    },
    "papermill": {
     "duration": 141.990645,
     "end_time": "2024-03-01T19:13:13.965460",
     "exception": false,
     "start_time": "2024-03-01T19:10:51.974815",
     "status": "completed"
    },
    "tags": []
   },
   "outputs": [],
   "source": [
    "# Create and run the Optuna study for XGBoost\n",
    "study_xgb = optuna.create_study(direction='maximize')\n",
    "study_xgb.optimize(objective_xgb, n_trials=44)\n",
    "\n",
    "# Get the best parameters for XGBoost\n",
    "best_params_xgb = study_xgb.best_params\n"
   ]
  },
  {
   "cell_type": "code",
   "execution_count": 10,
   "id": "622e08c9",
   "metadata": {
    "execution": {
     "iopub.execute_input": "2024-03-01T19:13:13.981975Z",
     "iopub.status.busy": "2024-03-01T19:13:13.981569Z",
     "iopub.status.idle": "2024-03-01T19:13:17.543300Z",
     "shell.execute_reply": "2024-03-01T19:13:17.542250Z"
    },
    "papermill": {
     "duration": 3.572771,
     "end_time": "2024-03-01T19:13:17.546142",
     "exception": false,
     "start_time": "2024-03-01T19:13:13.973371",
     "status": "completed"
    },
    "tags": []
   },
   "outputs": [
    {
     "data": {
      "text/html": [
       "<style>#sk-container-id-1 {color: black;background-color: white;}#sk-container-id-1 pre{padding: 0;}#sk-container-id-1 div.sk-toggleable {background-color: white;}#sk-container-id-1 label.sk-toggleable__label {cursor: pointer;display: block;width: 100%;margin-bottom: 0;padding: 0.3em;box-sizing: border-box;text-align: center;}#sk-container-id-1 label.sk-toggleable__label-arrow:before {content: \"▸\";float: left;margin-right: 0.25em;color: #696969;}#sk-container-id-1 label.sk-toggleable__label-arrow:hover:before {color: black;}#sk-container-id-1 div.sk-estimator:hover label.sk-toggleable__label-arrow:before {color: black;}#sk-container-id-1 div.sk-toggleable__content {max-height: 0;max-width: 0;overflow: hidden;text-align: left;background-color: #f0f8ff;}#sk-container-id-1 div.sk-toggleable__content pre {margin: 0.2em;color: black;border-radius: 0.25em;background-color: #f0f8ff;}#sk-container-id-1 input.sk-toggleable__control:checked~div.sk-toggleable__content {max-height: 200px;max-width: 100%;overflow: auto;}#sk-container-id-1 input.sk-toggleable__control:checked~label.sk-toggleable__label-arrow:before {content: \"▾\";}#sk-container-id-1 div.sk-estimator input.sk-toggleable__control:checked~label.sk-toggleable__label {background-color: #d4ebff;}#sk-container-id-1 div.sk-label input.sk-toggleable__control:checked~label.sk-toggleable__label {background-color: #d4ebff;}#sk-container-id-1 input.sk-hidden--visually {border: 0;clip: rect(1px 1px 1px 1px);clip: rect(1px, 1px, 1px, 1px);height: 1px;margin: -1px;overflow: hidden;padding: 0;position: absolute;width: 1px;}#sk-container-id-1 div.sk-estimator {font-family: monospace;background-color: #f0f8ff;border: 1px dotted black;border-radius: 0.25em;box-sizing: border-box;margin-bottom: 0.5em;}#sk-container-id-1 div.sk-estimator:hover {background-color: #d4ebff;}#sk-container-id-1 div.sk-parallel-item::after {content: \"\";width: 100%;border-bottom: 1px solid gray;flex-grow: 1;}#sk-container-id-1 div.sk-label:hover label.sk-toggleable__label {background-color: #d4ebff;}#sk-container-id-1 div.sk-serial::before {content: \"\";position: absolute;border-left: 1px solid gray;box-sizing: border-box;top: 0;bottom: 0;left: 50%;z-index: 0;}#sk-container-id-1 div.sk-serial {display: flex;flex-direction: column;align-items: center;background-color: white;padding-right: 0.2em;padding-left: 0.2em;position: relative;}#sk-container-id-1 div.sk-item {position: relative;z-index: 1;}#sk-container-id-1 div.sk-parallel {display: flex;align-items: stretch;justify-content: center;background-color: white;position: relative;}#sk-container-id-1 div.sk-item::before, #sk-container-id-1 div.sk-parallel-item::before {content: \"\";position: absolute;border-left: 1px solid gray;box-sizing: border-box;top: 0;bottom: 0;left: 50%;z-index: -1;}#sk-container-id-1 div.sk-parallel-item {display: flex;flex-direction: column;z-index: 1;position: relative;background-color: white;}#sk-container-id-1 div.sk-parallel-item:first-child::after {align-self: flex-end;width: 50%;}#sk-container-id-1 div.sk-parallel-item:last-child::after {align-self: flex-start;width: 50%;}#sk-container-id-1 div.sk-parallel-item:only-child::after {width: 0;}#sk-container-id-1 div.sk-dashed-wrapped {border: 1px dashed gray;margin: 0 0.4em 0.5em 0.4em;box-sizing: border-box;padding-bottom: 0.4em;background-color: white;}#sk-container-id-1 div.sk-label label {font-family: monospace;font-weight: bold;display: inline-block;line-height: 1.2em;}#sk-container-id-1 div.sk-label-container {text-align: center;}#sk-container-id-1 div.sk-container {/* jupyter's `normalize.less` sets `[hidden] { display: none; }` but bootstrap.min.css set `[hidden] { display: none !important; }` so we also need the `!important` here to be able to override the default hidden behavior on the sphinx rendered scikit-learn.org. See: https://github.com/scikit-learn/scikit-learn/issues/21755 */display: inline-block !important;position: relative;}#sk-container-id-1 div.sk-text-repr-fallback {display: none;}</style><div id=\"sk-container-id-1\" class=\"sk-top-container\"><div class=\"sk-text-repr-fallback\"><pre>Pipeline(steps=[(&#x27;preprocessor&#x27;,\n",
       "                 ColumnTransformer(transformers=[(&#x27;num&#x27;,\n",
       "                                                  Pipeline(steps=[(&#x27;imputer&#x27;,\n",
       "                                                                   SimpleImputer()),\n",
       "                                                                  (&#x27;scaler&#x27;,\n",
       "                                                                   StandardScaler())]),\n",
       "                                                  Index([&#x27;patient_id&#x27;, &#x27;patient_zip3&#x27;, &#x27;patient_age&#x27;, &#x27;population&#x27;, &#x27;density&#x27;,\n",
       "       &#x27;age_median&#x27;, &#x27;age_under_10&#x27;, &#x27;age_10_to_19&#x27;, &#x27;age_20s&#x27;, &#x27;age_30s&#x27;,\n",
       "       &#x27;age_40s&#x27;, &#x27;age_50s&#x27;, &#x27;age_60s&#x27;, &#x27;age_70s&#x27;, &#x27;age_over_80&#x27;, &#x27;male&#x27;,\n",
       "       &#x27;female&#x27;,...\n",
       "                               grow_policy=None, importance_type=None,\n",
       "                               interaction_constraints=None,\n",
       "                               learning_rate=0.014763880490285881, max_bin=None,\n",
       "                               max_cat_threshold=None, max_cat_to_onehot=None,\n",
       "                               max_delta_step=None, max_depth=8,\n",
       "                               max_leaves=None, min_child_weight=None,\n",
       "                               missing=nan, monotone_constraints=None,\n",
       "                               multi_strategy=None, n_estimators=264,\n",
       "                               n_jobs=None, num_parallel_tree=None,\n",
       "                               random_state=42, ...))])</pre><b>In a Jupyter environment, please rerun this cell to show the HTML representation or trust the notebook. <br />On GitHub, the HTML representation is unable to render, please try loading this page with nbviewer.org.</b></div><div class=\"sk-container\" hidden><div class=\"sk-item sk-dashed-wrapped\"><div class=\"sk-label-container\"><div class=\"sk-label sk-toggleable\"><input class=\"sk-toggleable__control sk-hidden--visually\" id=\"sk-estimator-id-1\" type=\"checkbox\" ><label for=\"sk-estimator-id-1\" class=\"sk-toggleable__label sk-toggleable__label-arrow\">Pipeline</label><div class=\"sk-toggleable__content\"><pre>Pipeline(steps=[(&#x27;preprocessor&#x27;,\n",
       "                 ColumnTransformer(transformers=[(&#x27;num&#x27;,\n",
       "                                                  Pipeline(steps=[(&#x27;imputer&#x27;,\n",
       "                                                                   SimpleImputer()),\n",
       "                                                                  (&#x27;scaler&#x27;,\n",
       "                                                                   StandardScaler())]),\n",
       "                                                  Index([&#x27;patient_id&#x27;, &#x27;patient_zip3&#x27;, &#x27;patient_age&#x27;, &#x27;population&#x27;, &#x27;density&#x27;,\n",
       "       &#x27;age_median&#x27;, &#x27;age_under_10&#x27;, &#x27;age_10_to_19&#x27;, &#x27;age_20s&#x27;, &#x27;age_30s&#x27;,\n",
       "       &#x27;age_40s&#x27;, &#x27;age_50s&#x27;, &#x27;age_60s&#x27;, &#x27;age_70s&#x27;, &#x27;age_over_80&#x27;, &#x27;male&#x27;,\n",
       "       &#x27;female&#x27;,...\n",
       "                               grow_policy=None, importance_type=None,\n",
       "                               interaction_constraints=None,\n",
       "                               learning_rate=0.014763880490285881, max_bin=None,\n",
       "                               max_cat_threshold=None, max_cat_to_onehot=None,\n",
       "                               max_delta_step=None, max_depth=8,\n",
       "                               max_leaves=None, min_child_weight=None,\n",
       "                               missing=nan, monotone_constraints=None,\n",
       "                               multi_strategy=None, n_estimators=264,\n",
       "                               n_jobs=None, num_parallel_tree=None,\n",
       "                               random_state=42, ...))])</pre></div></div></div><div class=\"sk-serial\"><div class=\"sk-item sk-dashed-wrapped\"><div class=\"sk-label-container\"><div class=\"sk-label sk-toggleable\"><input class=\"sk-toggleable__control sk-hidden--visually\" id=\"sk-estimator-id-2\" type=\"checkbox\" ><label for=\"sk-estimator-id-2\" class=\"sk-toggleable__label sk-toggleable__label-arrow\">preprocessor: ColumnTransformer</label><div class=\"sk-toggleable__content\"><pre>ColumnTransformer(transformers=[(&#x27;num&#x27;,\n",
       "                                 Pipeline(steps=[(&#x27;imputer&#x27;, SimpleImputer()),\n",
       "                                                 (&#x27;scaler&#x27;, StandardScaler())]),\n",
       "                                 Index([&#x27;patient_id&#x27;, &#x27;patient_zip3&#x27;, &#x27;patient_age&#x27;, &#x27;population&#x27;, &#x27;density&#x27;,\n",
       "       &#x27;age_median&#x27;, &#x27;age_under_10&#x27;, &#x27;age_10_to_19&#x27;, &#x27;age_20s&#x27;, &#x27;age_30s&#x27;,\n",
       "       &#x27;age_40s&#x27;, &#x27;age_50s&#x27;, &#x27;age_60s&#x27;, &#x27;age_70s&#x27;, &#x27;age_over_80&#x27;, &#x27;male&#x27;,\n",
       "       &#x27;female&#x27;, &#x27;married&#x27;, &#x27;divorced&#x27;, &#x27;never_marr...\n",
       "       &#x27;commute_time&#x27;, &#x27;health_uninsured&#x27;, &#x27;veteran&#x27;, &#x27;Ozone&#x27;, &#x27;PM25&#x27;, &#x27;N02&#x27;],\n",
       "      dtype=&#x27;object&#x27;)),\n",
       "                                (&#x27;cat&#x27;,\n",
       "                                 Pipeline(steps=[(&#x27;imputer&#x27;,\n",
       "                                                  SimpleImputer(strategy=&#x27;most_frequent&#x27;)),\n",
       "                                                 (&#x27;onehot&#x27;,\n",
       "                                                  OneHotEncoder(handle_unknown=&#x27;ignore&#x27;))]),\n",
       "                                 Index([&#x27;payer_type&#x27;, &#x27;patient_state&#x27;, &#x27;patient_gender&#x27;,\n",
       "       &#x27;breast_cancer_diagnosis_code&#x27;, &#x27;breast_cancer_diagnosis_desc&#x27;,\n",
       "       &#x27;metastatic_cancer_diagnosis_code&#x27;, &#x27;Region&#x27;, &#x27;Division&#x27;],\n",
       "      dtype=&#x27;object&#x27;))])</pre></div></div></div><div class=\"sk-parallel\"><div class=\"sk-parallel-item\"><div class=\"sk-item\"><div class=\"sk-label-container\"><div class=\"sk-label sk-toggleable\"><input class=\"sk-toggleable__control sk-hidden--visually\" id=\"sk-estimator-id-3\" type=\"checkbox\" ><label for=\"sk-estimator-id-3\" class=\"sk-toggleable__label sk-toggleable__label-arrow\">num</label><div class=\"sk-toggleable__content\"><pre>Index([&#x27;patient_id&#x27;, &#x27;patient_zip3&#x27;, &#x27;patient_age&#x27;, &#x27;population&#x27;, &#x27;density&#x27;,\n",
       "       &#x27;age_median&#x27;, &#x27;age_under_10&#x27;, &#x27;age_10_to_19&#x27;, &#x27;age_20s&#x27;, &#x27;age_30s&#x27;,\n",
       "       &#x27;age_40s&#x27;, &#x27;age_50s&#x27;, &#x27;age_60s&#x27;, &#x27;age_70s&#x27;, &#x27;age_over_80&#x27;, &#x27;male&#x27;,\n",
       "       &#x27;female&#x27;, &#x27;married&#x27;, &#x27;divorced&#x27;, &#x27;never_married&#x27;, &#x27;widowed&#x27;,\n",
       "       &#x27;income_individual_median&#x27;, &#x27;home_ownership&#x27;, &#x27;housing_units&#x27;,\n",
       "       &#x27;home_value&#x27;, &#x27;rent_median&#x27;, &#x27;rent_burden&#x27;, &#x27;education_less_highschool&#x27;,\n",
       "       &#x27;education_highschool&#x27;, &#x27;education_some_college&#x27;, &#x27;education_bachelors&#x27;,\n",
       "       &#x27;education_graduate&#x27;, &#x27;education_college_or_above&#x27;,\n",
       "       &#x27;education_stem_degree&#x27;, &#x27;labor_force_participation&#x27;,\n",
       "       &#x27;unemployment_rate&#x27;, &#x27;self_employed&#x27;, &#x27;farmer&#x27;, &#x27;race_white&#x27;,\n",
       "       &#x27;race_black&#x27;, &#x27;race_asian&#x27;, &#x27;race_native&#x27;, &#x27;race_pacific&#x27;, &#x27;race_other&#x27;,\n",
       "       &#x27;race_multiple&#x27;, &#x27;hispanic&#x27;, &#x27;disabled&#x27;, &#x27;poverty&#x27;, &#x27;limited_english&#x27;,\n",
       "       &#x27;commute_time&#x27;, &#x27;health_uninsured&#x27;, &#x27;veteran&#x27;, &#x27;Ozone&#x27;, &#x27;PM25&#x27;, &#x27;N02&#x27;],\n",
       "      dtype=&#x27;object&#x27;)</pre></div></div></div><div class=\"sk-serial\"><div class=\"sk-item\"><div class=\"sk-serial\"><div class=\"sk-item\"><div class=\"sk-estimator sk-toggleable\"><input class=\"sk-toggleable__control sk-hidden--visually\" id=\"sk-estimator-id-4\" type=\"checkbox\" ><label for=\"sk-estimator-id-4\" class=\"sk-toggleable__label sk-toggleable__label-arrow\">SimpleImputer</label><div class=\"sk-toggleable__content\"><pre>SimpleImputer()</pre></div></div></div><div class=\"sk-item\"><div class=\"sk-estimator sk-toggleable\"><input class=\"sk-toggleable__control sk-hidden--visually\" id=\"sk-estimator-id-5\" type=\"checkbox\" ><label for=\"sk-estimator-id-5\" class=\"sk-toggleable__label sk-toggleable__label-arrow\">StandardScaler</label><div class=\"sk-toggleable__content\"><pre>StandardScaler()</pre></div></div></div></div></div></div></div></div><div class=\"sk-parallel-item\"><div class=\"sk-item\"><div class=\"sk-label-container\"><div class=\"sk-label sk-toggleable\"><input class=\"sk-toggleable__control sk-hidden--visually\" id=\"sk-estimator-id-6\" type=\"checkbox\" ><label for=\"sk-estimator-id-6\" class=\"sk-toggleable__label sk-toggleable__label-arrow\">cat</label><div class=\"sk-toggleable__content\"><pre>Index([&#x27;payer_type&#x27;, &#x27;patient_state&#x27;, &#x27;patient_gender&#x27;,\n",
       "       &#x27;breast_cancer_diagnosis_code&#x27;, &#x27;breast_cancer_diagnosis_desc&#x27;,\n",
       "       &#x27;metastatic_cancer_diagnosis_code&#x27;, &#x27;Region&#x27;, &#x27;Division&#x27;],\n",
       "      dtype=&#x27;object&#x27;)</pre></div></div></div><div class=\"sk-serial\"><div class=\"sk-item\"><div class=\"sk-serial\"><div class=\"sk-item\"><div class=\"sk-estimator sk-toggleable\"><input class=\"sk-toggleable__control sk-hidden--visually\" id=\"sk-estimator-id-7\" type=\"checkbox\" ><label for=\"sk-estimator-id-7\" class=\"sk-toggleable__label sk-toggleable__label-arrow\">SimpleImputer</label><div class=\"sk-toggleable__content\"><pre>SimpleImputer(strategy=&#x27;most_frequent&#x27;)</pre></div></div></div><div class=\"sk-item\"><div class=\"sk-estimator sk-toggleable\"><input class=\"sk-toggleable__control sk-hidden--visually\" id=\"sk-estimator-id-8\" type=\"checkbox\" ><label for=\"sk-estimator-id-8\" class=\"sk-toggleable__label sk-toggleable__label-arrow\">OneHotEncoder</label><div class=\"sk-toggleable__content\"><pre>OneHotEncoder(handle_unknown=&#x27;ignore&#x27;)</pre></div></div></div></div></div></div></div></div></div></div><div class=\"sk-item\"><div class=\"sk-estimator sk-toggleable\"><input class=\"sk-toggleable__control sk-hidden--visually\" id=\"sk-estimator-id-9\" type=\"checkbox\" ><label for=\"sk-estimator-id-9\" class=\"sk-toggleable__label sk-toggleable__label-arrow\">XGBClassifier</label><div class=\"sk-toggleable__content\"><pre>XGBClassifier(base_score=None, booster=None, callbacks=None,\n",
       "              colsample_bylevel=None, colsample_bynode=None,\n",
       "              colsample_bytree=0.7189970873220548, device=None,\n",
       "              early_stopping_rounds=None, enable_categorical=False,\n",
       "              eval_metric=None, feature_types=None, gamma=2.52790488047854e-06,\n",
       "              grow_policy=None, importance_type=None,\n",
       "              interaction_constraints=None, learning_rate=0.014763880490285881,\n",
       "              max_bin=None, max_cat_threshold=None, max_cat_to_onehot=None,\n",
       "              max_delta_step=None, max_depth=8, max_leaves=None,\n",
       "              min_child_weight=None, missing=nan, monotone_constraints=None,\n",
       "              multi_strategy=None, n_estimators=264, n_jobs=None,\n",
       "              num_parallel_tree=None, random_state=42, ...)</pre></div></div></div></div></div></div></div>"
      ],
      "text/plain": [
       "Pipeline(steps=[('preprocessor',\n",
       "                 ColumnTransformer(transformers=[('num',\n",
       "                                                  Pipeline(steps=[('imputer',\n",
       "                                                                   SimpleImputer()),\n",
       "                                                                  ('scaler',\n",
       "                                                                   StandardScaler())]),\n",
       "                                                  Index(['patient_id', 'patient_zip3', 'patient_age', 'population', 'density',\n",
       "       'age_median', 'age_under_10', 'age_10_to_19', 'age_20s', 'age_30s',\n",
       "       'age_40s', 'age_50s', 'age_60s', 'age_70s', 'age_over_80', 'male',\n",
       "       'female',...\n",
       "                               grow_policy=None, importance_type=None,\n",
       "                               interaction_constraints=None,\n",
       "                               learning_rate=0.014763880490285881, max_bin=None,\n",
       "                               max_cat_threshold=None, max_cat_to_onehot=None,\n",
       "                               max_delta_step=None, max_depth=8,\n",
       "                               max_leaves=None, min_child_weight=None,\n",
       "                               missing=nan, monotone_constraints=None,\n",
       "                               multi_strategy=None, n_estimators=264,\n",
       "                               n_jobs=None, num_parallel_tree=None,\n",
       "                               random_state=42, ...))])"
      ]
     },
     "execution_count": 10,
     "metadata": {},
     "output_type": "execute_result"
    }
   ],
   "source": [
    "# Train XGBoost model with best hyperparameters\n",
    "xgb_model = XGBClassifier(**best_params_xgb, random_state=42)\n",
    "clf_xgb = Pipeline(steps=[('preprocessor', preprocessor),\n",
    "                           ('classifier', xgb_model)])\n",
    "clf_xgb.fit(X_train, y_train)\n"
   ]
  },
  {
   "cell_type": "code",
   "execution_count": 11,
   "id": "20a62856",
   "metadata": {
    "execution": {
     "iopub.execute_input": "2024-03-01T19:13:17.562905Z",
     "iopub.status.busy": "2024-03-01T19:13:17.562543Z",
     "iopub.status.idle": "2024-03-01T19:13:17.627527Z",
     "shell.execute_reply": "2024-03-01T19:13:17.626628Z"
    },
    "papermill": {
     "duration": 0.076271,
     "end_time": "2024-03-01T19:13:17.630029",
     "exception": false,
     "start_time": "2024-03-01T19:13:17.553758",
     "status": "completed"
    },
    "tags": []
   },
   "outputs": [
    {
     "name": "stdout",
     "output_type": "stream",
     "text": [
      "XGBoost: AUC = 0.8017\n"
     ]
    }
   ],
   "source": [
    "# Evaluate XGBoost model\n",
    "y_pred_xgb = clf_xgb.predict_proba(X_valid)[:, 1]\n",
    "auc_xgb = roc_auc_score(y_valid, y_pred_xgb)\n",
    "print(f'XGBoost: AUC = {auc_xgb:.4f}')\n"
   ]
  },
  {
   "cell_type": "code",
   "execution_count": 12,
   "id": "f7ec648e",
   "metadata": {
    "execution": {
     "iopub.execute_input": "2024-03-01T19:13:17.647579Z",
     "iopub.status.busy": "2024-03-01T19:13:17.647198Z",
     "iopub.status.idle": "2024-03-01T19:15:42.199646Z",
     "shell.execute_reply": "2024-03-01T19:15:42.198658Z"
    },
    "papermill": {
     "duration": 144.563886,
     "end_time": "2024-03-01T19:15:42.202425",
     "exception": false,
     "start_time": "2024-03-01T19:13:17.638539",
     "status": "completed"
    },
    "tags": []
   },
   "outputs": [],
   "source": [
    "# Create and run the Optuna study for CatBoost\n",
    "study_catboost = optuna.create_study(direction='maximize')\n",
    "study_catboost.optimize(objective_catboost, n_trials=44)\n",
    "\n",
    "# Get the best parameters for CatBoost\n",
    "best_params_catboost = study_catboost.best_params\n"
   ]
  },
  {
   "cell_type": "code",
   "execution_count": 13,
   "id": "11ec70fc",
   "metadata": {
    "execution": {
     "iopub.execute_input": "2024-03-01T19:15:42.219969Z",
     "iopub.status.busy": "2024-03-01T19:15:42.219583Z",
     "iopub.status.idle": "2024-03-01T19:15:43.968299Z",
     "shell.execute_reply": "2024-03-01T19:15:43.967155Z"
    },
    "papermill": {
     "duration": 1.759951,
     "end_time": "2024-03-01T19:15:43.970730",
     "exception": false,
     "start_time": "2024-03-01T19:15:42.210779",
     "status": "completed"
    },
    "tags": []
   },
   "outputs": [
    {
     "data": {
      "text/html": [
       "<style>#sk-container-id-2 {color: black;background-color: white;}#sk-container-id-2 pre{padding: 0;}#sk-container-id-2 div.sk-toggleable {background-color: white;}#sk-container-id-2 label.sk-toggleable__label {cursor: pointer;display: block;width: 100%;margin-bottom: 0;padding: 0.3em;box-sizing: border-box;text-align: center;}#sk-container-id-2 label.sk-toggleable__label-arrow:before {content: \"▸\";float: left;margin-right: 0.25em;color: #696969;}#sk-container-id-2 label.sk-toggleable__label-arrow:hover:before {color: black;}#sk-container-id-2 div.sk-estimator:hover label.sk-toggleable__label-arrow:before {color: black;}#sk-container-id-2 div.sk-toggleable__content {max-height: 0;max-width: 0;overflow: hidden;text-align: left;background-color: #f0f8ff;}#sk-container-id-2 div.sk-toggleable__content pre {margin: 0.2em;color: black;border-radius: 0.25em;background-color: #f0f8ff;}#sk-container-id-2 input.sk-toggleable__control:checked~div.sk-toggleable__content {max-height: 200px;max-width: 100%;overflow: auto;}#sk-container-id-2 input.sk-toggleable__control:checked~label.sk-toggleable__label-arrow:before {content: \"▾\";}#sk-container-id-2 div.sk-estimator input.sk-toggleable__control:checked~label.sk-toggleable__label {background-color: #d4ebff;}#sk-container-id-2 div.sk-label input.sk-toggleable__control:checked~label.sk-toggleable__label {background-color: #d4ebff;}#sk-container-id-2 input.sk-hidden--visually {border: 0;clip: rect(1px 1px 1px 1px);clip: rect(1px, 1px, 1px, 1px);height: 1px;margin: -1px;overflow: hidden;padding: 0;position: absolute;width: 1px;}#sk-container-id-2 div.sk-estimator {font-family: monospace;background-color: #f0f8ff;border: 1px dotted black;border-radius: 0.25em;box-sizing: border-box;margin-bottom: 0.5em;}#sk-container-id-2 div.sk-estimator:hover {background-color: #d4ebff;}#sk-container-id-2 div.sk-parallel-item::after {content: \"\";width: 100%;border-bottom: 1px solid gray;flex-grow: 1;}#sk-container-id-2 div.sk-label:hover label.sk-toggleable__label {background-color: #d4ebff;}#sk-container-id-2 div.sk-serial::before {content: \"\";position: absolute;border-left: 1px solid gray;box-sizing: border-box;top: 0;bottom: 0;left: 50%;z-index: 0;}#sk-container-id-2 div.sk-serial {display: flex;flex-direction: column;align-items: center;background-color: white;padding-right: 0.2em;padding-left: 0.2em;position: relative;}#sk-container-id-2 div.sk-item {position: relative;z-index: 1;}#sk-container-id-2 div.sk-parallel {display: flex;align-items: stretch;justify-content: center;background-color: white;position: relative;}#sk-container-id-2 div.sk-item::before, #sk-container-id-2 div.sk-parallel-item::before {content: \"\";position: absolute;border-left: 1px solid gray;box-sizing: border-box;top: 0;bottom: 0;left: 50%;z-index: -1;}#sk-container-id-2 div.sk-parallel-item {display: flex;flex-direction: column;z-index: 1;position: relative;background-color: white;}#sk-container-id-2 div.sk-parallel-item:first-child::after {align-self: flex-end;width: 50%;}#sk-container-id-2 div.sk-parallel-item:last-child::after {align-self: flex-start;width: 50%;}#sk-container-id-2 div.sk-parallel-item:only-child::after {width: 0;}#sk-container-id-2 div.sk-dashed-wrapped {border: 1px dashed gray;margin: 0 0.4em 0.5em 0.4em;box-sizing: border-box;padding-bottom: 0.4em;background-color: white;}#sk-container-id-2 div.sk-label label {font-family: monospace;font-weight: bold;display: inline-block;line-height: 1.2em;}#sk-container-id-2 div.sk-label-container {text-align: center;}#sk-container-id-2 div.sk-container {/* jupyter's `normalize.less` sets `[hidden] { display: none; }` but bootstrap.min.css set `[hidden] { display: none !important; }` so we also need the `!important` here to be able to override the default hidden behavior on the sphinx rendered scikit-learn.org. See: https://github.com/scikit-learn/scikit-learn/issues/21755 */display: inline-block !important;position: relative;}#sk-container-id-2 div.sk-text-repr-fallback {display: none;}</style><div id=\"sk-container-id-2\" class=\"sk-top-container\"><div class=\"sk-text-repr-fallback\"><pre>Pipeline(steps=[(&#x27;preprocessor&#x27;,\n",
       "                 ColumnTransformer(transformers=[(&#x27;num&#x27;,\n",
       "                                                  Pipeline(steps=[(&#x27;imputer&#x27;,\n",
       "                                                                   SimpleImputer()),\n",
       "                                                                  (&#x27;scaler&#x27;,\n",
       "                                                                   StandardScaler())]),\n",
       "                                                  Index([&#x27;patient_id&#x27;, &#x27;patient_zip3&#x27;, &#x27;patient_age&#x27;, &#x27;population&#x27;, &#x27;density&#x27;,\n",
       "       &#x27;age_median&#x27;, &#x27;age_under_10&#x27;, &#x27;age_10_to_19&#x27;, &#x27;age_20s&#x27;, &#x27;age_30s&#x27;,\n",
       "       &#x27;age_40s&#x27;, &#x27;age_50s&#x27;, &#x27;age_60s&#x27;, &#x27;age_70s&#x27;, &#x27;age_over_80&#x27;, &#x27;male&#x27;,\n",
       "       &#x27;female&#x27;,...\n",
       "                                                                   SimpleImputer(strategy=&#x27;most_frequent&#x27;)),\n",
       "                                                                  (&#x27;onehot&#x27;,\n",
       "                                                                   OneHotEncoder(handle_unknown=&#x27;ignore&#x27;))]),\n",
       "                                                  Index([&#x27;payer_type&#x27;, &#x27;patient_state&#x27;, &#x27;patient_gender&#x27;,\n",
       "       &#x27;breast_cancer_diagnosis_code&#x27;, &#x27;breast_cancer_diagnosis_desc&#x27;,\n",
       "       &#x27;metastatic_cancer_diagnosis_code&#x27;, &#x27;Region&#x27;, &#x27;Division&#x27;],\n",
       "      dtype=&#x27;object&#x27;))])),\n",
       "                (&#x27;classifier&#x27;,\n",
       "                 &lt;catboost.core.CatBoostClassifier object at 0x7c73834731c0&gt;)])</pre><b>In a Jupyter environment, please rerun this cell to show the HTML representation or trust the notebook. <br />On GitHub, the HTML representation is unable to render, please try loading this page with nbviewer.org.</b></div><div class=\"sk-container\" hidden><div class=\"sk-item sk-dashed-wrapped\"><div class=\"sk-label-container\"><div class=\"sk-label sk-toggleable\"><input class=\"sk-toggleable__control sk-hidden--visually\" id=\"sk-estimator-id-10\" type=\"checkbox\" ><label for=\"sk-estimator-id-10\" class=\"sk-toggleable__label sk-toggleable__label-arrow\">Pipeline</label><div class=\"sk-toggleable__content\"><pre>Pipeline(steps=[(&#x27;preprocessor&#x27;,\n",
       "                 ColumnTransformer(transformers=[(&#x27;num&#x27;,\n",
       "                                                  Pipeline(steps=[(&#x27;imputer&#x27;,\n",
       "                                                                   SimpleImputer()),\n",
       "                                                                  (&#x27;scaler&#x27;,\n",
       "                                                                   StandardScaler())]),\n",
       "                                                  Index([&#x27;patient_id&#x27;, &#x27;patient_zip3&#x27;, &#x27;patient_age&#x27;, &#x27;population&#x27;, &#x27;density&#x27;,\n",
       "       &#x27;age_median&#x27;, &#x27;age_under_10&#x27;, &#x27;age_10_to_19&#x27;, &#x27;age_20s&#x27;, &#x27;age_30s&#x27;,\n",
       "       &#x27;age_40s&#x27;, &#x27;age_50s&#x27;, &#x27;age_60s&#x27;, &#x27;age_70s&#x27;, &#x27;age_over_80&#x27;, &#x27;male&#x27;,\n",
       "       &#x27;female&#x27;,...\n",
       "                                                                   SimpleImputer(strategy=&#x27;most_frequent&#x27;)),\n",
       "                                                                  (&#x27;onehot&#x27;,\n",
       "                                                                   OneHotEncoder(handle_unknown=&#x27;ignore&#x27;))]),\n",
       "                                                  Index([&#x27;payer_type&#x27;, &#x27;patient_state&#x27;, &#x27;patient_gender&#x27;,\n",
       "       &#x27;breast_cancer_diagnosis_code&#x27;, &#x27;breast_cancer_diagnosis_desc&#x27;,\n",
       "       &#x27;metastatic_cancer_diagnosis_code&#x27;, &#x27;Region&#x27;, &#x27;Division&#x27;],\n",
       "      dtype=&#x27;object&#x27;))])),\n",
       "                (&#x27;classifier&#x27;,\n",
       "                 &lt;catboost.core.CatBoostClassifier object at 0x7c73834731c0&gt;)])</pre></div></div></div><div class=\"sk-serial\"><div class=\"sk-item sk-dashed-wrapped\"><div class=\"sk-label-container\"><div class=\"sk-label sk-toggleable\"><input class=\"sk-toggleable__control sk-hidden--visually\" id=\"sk-estimator-id-11\" type=\"checkbox\" ><label for=\"sk-estimator-id-11\" class=\"sk-toggleable__label sk-toggleable__label-arrow\">preprocessor: ColumnTransformer</label><div class=\"sk-toggleable__content\"><pre>ColumnTransformer(transformers=[(&#x27;num&#x27;,\n",
       "                                 Pipeline(steps=[(&#x27;imputer&#x27;, SimpleImputer()),\n",
       "                                                 (&#x27;scaler&#x27;, StandardScaler())]),\n",
       "                                 Index([&#x27;patient_id&#x27;, &#x27;patient_zip3&#x27;, &#x27;patient_age&#x27;, &#x27;population&#x27;, &#x27;density&#x27;,\n",
       "       &#x27;age_median&#x27;, &#x27;age_under_10&#x27;, &#x27;age_10_to_19&#x27;, &#x27;age_20s&#x27;, &#x27;age_30s&#x27;,\n",
       "       &#x27;age_40s&#x27;, &#x27;age_50s&#x27;, &#x27;age_60s&#x27;, &#x27;age_70s&#x27;, &#x27;age_over_80&#x27;, &#x27;male&#x27;,\n",
       "       &#x27;female&#x27;, &#x27;married&#x27;, &#x27;divorced&#x27;, &#x27;never_marr...\n",
       "       &#x27;commute_time&#x27;, &#x27;health_uninsured&#x27;, &#x27;veteran&#x27;, &#x27;Ozone&#x27;, &#x27;PM25&#x27;, &#x27;N02&#x27;],\n",
       "      dtype=&#x27;object&#x27;)),\n",
       "                                (&#x27;cat&#x27;,\n",
       "                                 Pipeline(steps=[(&#x27;imputer&#x27;,\n",
       "                                                  SimpleImputer(strategy=&#x27;most_frequent&#x27;)),\n",
       "                                                 (&#x27;onehot&#x27;,\n",
       "                                                  OneHotEncoder(handle_unknown=&#x27;ignore&#x27;))]),\n",
       "                                 Index([&#x27;payer_type&#x27;, &#x27;patient_state&#x27;, &#x27;patient_gender&#x27;,\n",
       "       &#x27;breast_cancer_diagnosis_code&#x27;, &#x27;breast_cancer_diagnosis_desc&#x27;,\n",
       "       &#x27;metastatic_cancer_diagnosis_code&#x27;, &#x27;Region&#x27;, &#x27;Division&#x27;],\n",
       "      dtype=&#x27;object&#x27;))])</pre></div></div></div><div class=\"sk-parallel\"><div class=\"sk-parallel-item\"><div class=\"sk-item\"><div class=\"sk-label-container\"><div class=\"sk-label sk-toggleable\"><input class=\"sk-toggleable__control sk-hidden--visually\" id=\"sk-estimator-id-12\" type=\"checkbox\" ><label for=\"sk-estimator-id-12\" class=\"sk-toggleable__label sk-toggleable__label-arrow\">num</label><div class=\"sk-toggleable__content\"><pre>Index([&#x27;patient_id&#x27;, &#x27;patient_zip3&#x27;, &#x27;patient_age&#x27;, &#x27;population&#x27;, &#x27;density&#x27;,\n",
       "       &#x27;age_median&#x27;, &#x27;age_under_10&#x27;, &#x27;age_10_to_19&#x27;, &#x27;age_20s&#x27;, &#x27;age_30s&#x27;,\n",
       "       &#x27;age_40s&#x27;, &#x27;age_50s&#x27;, &#x27;age_60s&#x27;, &#x27;age_70s&#x27;, &#x27;age_over_80&#x27;, &#x27;male&#x27;,\n",
       "       &#x27;female&#x27;, &#x27;married&#x27;, &#x27;divorced&#x27;, &#x27;never_married&#x27;, &#x27;widowed&#x27;,\n",
       "       &#x27;income_individual_median&#x27;, &#x27;home_ownership&#x27;, &#x27;housing_units&#x27;,\n",
       "       &#x27;home_value&#x27;, &#x27;rent_median&#x27;, &#x27;rent_burden&#x27;, &#x27;education_less_highschool&#x27;,\n",
       "       &#x27;education_highschool&#x27;, &#x27;education_some_college&#x27;, &#x27;education_bachelors&#x27;,\n",
       "       &#x27;education_graduate&#x27;, &#x27;education_college_or_above&#x27;,\n",
       "       &#x27;education_stem_degree&#x27;, &#x27;labor_force_participation&#x27;,\n",
       "       &#x27;unemployment_rate&#x27;, &#x27;self_employed&#x27;, &#x27;farmer&#x27;, &#x27;race_white&#x27;,\n",
       "       &#x27;race_black&#x27;, &#x27;race_asian&#x27;, &#x27;race_native&#x27;, &#x27;race_pacific&#x27;, &#x27;race_other&#x27;,\n",
       "       &#x27;race_multiple&#x27;, &#x27;hispanic&#x27;, &#x27;disabled&#x27;, &#x27;poverty&#x27;, &#x27;limited_english&#x27;,\n",
       "       &#x27;commute_time&#x27;, &#x27;health_uninsured&#x27;, &#x27;veteran&#x27;, &#x27;Ozone&#x27;, &#x27;PM25&#x27;, &#x27;N02&#x27;],\n",
       "      dtype=&#x27;object&#x27;)</pre></div></div></div><div class=\"sk-serial\"><div class=\"sk-item\"><div class=\"sk-serial\"><div class=\"sk-item\"><div class=\"sk-estimator sk-toggleable\"><input class=\"sk-toggleable__control sk-hidden--visually\" id=\"sk-estimator-id-13\" type=\"checkbox\" ><label for=\"sk-estimator-id-13\" class=\"sk-toggleable__label sk-toggleable__label-arrow\">SimpleImputer</label><div class=\"sk-toggleable__content\"><pre>SimpleImputer()</pre></div></div></div><div class=\"sk-item\"><div class=\"sk-estimator sk-toggleable\"><input class=\"sk-toggleable__control sk-hidden--visually\" id=\"sk-estimator-id-14\" type=\"checkbox\" ><label for=\"sk-estimator-id-14\" class=\"sk-toggleable__label sk-toggleable__label-arrow\">StandardScaler</label><div class=\"sk-toggleable__content\"><pre>StandardScaler()</pre></div></div></div></div></div></div></div></div><div class=\"sk-parallel-item\"><div class=\"sk-item\"><div class=\"sk-label-container\"><div class=\"sk-label sk-toggleable\"><input class=\"sk-toggleable__control sk-hidden--visually\" id=\"sk-estimator-id-15\" type=\"checkbox\" ><label for=\"sk-estimator-id-15\" class=\"sk-toggleable__label sk-toggleable__label-arrow\">cat</label><div class=\"sk-toggleable__content\"><pre>Index([&#x27;payer_type&#x27;, &#x27;patient_state&#x27;, &#x27;patient_gender&#x27;,\n",
       "       &#x27;breast_cancer_diagnosis_code&#x27;, &#x27;breast_cancer_diagnosis_desc&#x27;,\n",
       "       &#x27;metastatic_cancer_diagnosis_code&#x27;, &#x27;Region&#x27;, &#x27;Division&#x27;],\n",
       "      dtype=&#x27;object&#x27;)</pre></div></div></div><div class=\"sk-serial\"><div class=\"sk-item\"><div class=\"sk-serial\"><div class=\"sk-item\"><div class=\"sk-estimator sk-toggleable\"><input class=\"sk-toggleable__control sk-hidden--visually\" id=\"sk-estimator-id-16\" type=\"checkbox\" ><label for=\"sk-estimator-id-16\" class=\"sk-toggleable__label sk-toggleable__label-arrow\">SimpleImputer</label><div class=\"sk-toggleable__content\"><pre>SimpleImputer(strategy=&#x27;most_frequent&#x27;)</pre></div></div></div><div class=\"sk-item\"><div class=\"sk-estimator sk-toggleable\"><input class=\"sk-toggleable__control sk-hidden--visually\" id=\"sk-estimator-id-17\" type=\"checkbox\" ><label for=\"sk-estimator-id-17\" class=\"sk-toggleable__label sk-toggleable__label-arrow\">OneHotEncoder</label><div class=\"sk-toggleable__content\"><pre>OneHotEncoder(handle_unknown=&#x27;ignore&#x27;)</pre></div></div></div></div></div></div></div></div></div></div><div class=\"sk-item\"><div class=\"sk-estimator sk-toggleable\"><input class=\"sk-toggleable__control sk-hidden--visually\" id=\"sk-estimator-id-18\" type=\"checkbox\" ><label for=\"sk-estimator-id-18\" class=\"sk-toggleable__label sk-toggleable__label-arrow\">CatBoostClassifier</label><div class=\"sk-toggleable__content\"><pre>&lt;catboost.core.CatBoostClassifier object at 0x7c73834731c0&gt;</pre></div></div></div></div></div></div></div>"
      ],
      "text/plain": [
       "Pipeline(steps=[('preprocessor',\n",
       "                 ColumnTransformer(transformers=[('num',\n",
       "                                                  Pipeline(steps=[('imputer',\n",
       "                                                                   SimpleImputer()),\n",
       "                                                                  ('scaler',\n",
       "                                                                   StandardScaler())]),\n",
       "                                                  Index(['patient_id', 'patient_zip3', 'patient_age', 'population', 'density',\n",
       "       'age_median', 'age_under_10', 'age_10_to_19', 'age_20s', 'age_30s',\n",
       "       'age_40s', 'age_50s', 'age_60s', 'age_70s', 'age_over_80', 'male',\n",
       "       'female',...\n",
       "                                                                   SimpleImputer(strategy='most_frequent')),\n",
       "                                                                  ('onehot',\n",
       "                                                                   OneHotEncoder(handle_unknown='ignore'))]),\n",
       "                                                  Index(['payer_type', 'patient_state', 'patient_gender',\n",
       "       'breast_cancer_diagnosis_code', 'breast_cancer_diagnosis_desc',\n",
       "       'metastatic_cancer_diagnosis_code', 'Region', 'Division'],\n",
       "      dtype='object'))])),\n",
       "                ('classifier',\n",
       "                 <catboost.core.CatBoostClassifier object at 0x7c73834731c0>)])"
      ]
     },
     "execution_count": 13,
     "metadata": {},
     "output_type": "execute_result"
    }
   ],
   "source": [
    "# Train CatBoost model with best hyperparameters\n",
    "catboost_model = CatBoostClassifier(**best_params_catboost, random_state=42, verbose=0)\n",
    "clf_catboost = Pipeline(steps=[('preprocessor', preprocessor),\n",
    "                               ('classifier', catboost_model)])\n",
    "clf_catboost.fit(X_train, y_train)\n"
   ]
  },
  {
   "cell_type": "code",
   "execution_count": 14,
   "id": "0f7ce6a3",
   "metadata": {
    "execution": {
     "iopub.execute_input": "2024-03-01T19:15:43.988478Z",
     "iopub.status.busy": "2024-03-01T19:15:43.988103Z",
     "iopub.status.idle": "2024-03-01T19:15:44.044407Z",
     "shell.execute_reply": "2024-03-01T19:15:44.043008Z"
    },
    "papermill": {
     "duration": 0.068568,
     "end_time": "2024-03-01T19:15:44.047344",
     "exception": false,
     "start_time": "2024-03-01T19:15:43.978776",
     "status": "completed"
    },
    "tags": []
   },
   "outputs": [
    {
     "name": "stdout",
     "output_type": "stream",
     "text": [
      "CatBoost: AUC = 0.8022\n"
     ]
    }
   ],
   "source": [
    "# Evaluate CatBoost model\n",
    "y_pred_catboost = clf_catboost.predict_proba(X_valid)[:, 1]\n",
    "auc_catboost = roc_auc_score(y_valid, y_pred_catboost)\n",
    "print(f'CatBoost: AUC = {auc_catboost:.4f}')\n"
   ]
  },
  {
   "cell_type": "code",
   "execution_count": 15,
   "id": "b761d3a1",
   "metadata": {
    "execution": {
     "iopub.execute_input": "2024-03-01T19:15:44.065663Z",
     "iopub.status.busy": "2024-03-01T19:15:44.065281Z",
     "iopub.status.idle": "2024-03-01T19:15:44.070092Z",
     "shell.execute_reply": "2024-03-01T19:15:44.068973Z"
    },
    "papermill": {
     "duration": 0.016715,
     "end_time": "2024-03-01T19:15:44.072297",
     "exception": false,
     "start_time": "2024-03-01T19:15:44.055582",
     "status": "completed"
    },
    "tags": []
   },
   "outputs": [],
   "source": [
    "# Ensemble XGBoost and CatBoost models\n",
    "voting_clf = VotingClassifier([('xgb', clf_xgb), ('catboost', clf_catboost)], voting='soft')\n",
    "\n"
   ]
  },
  {
   "cell_type": "code",
   "execution_count": 16,
   "id": "bb2d0d1f",
   "metadata": {
    "execution": {
     "iopub.execute_input": "2024-03-01T19:15:44.090568Z",
     "iopub.status.busy": "2024-03-01T19:15:44.090179Z",
     "iopub.status.idle": "2024-03-01T19:16:45.151742Z",
     "shell.execute_reply": "2024-03-01T19:16:45.150489Z"
    },
    "papermill": {
     "duration": 61.082169,
     "end_time": "2024-03-01T19:16:45.162617",
     "exception": false,
     "start_time": "2024-03-01T19:15:44.080448",
     "status": "completed"
    },
    "tags": []
   },
   "outputs": [
    {
     "name": "stdout",
     "output_type": "stream",
     "text": [
      "Ensemble AUC Scores: [0.8042880911565999, 0.8084133558129307, 0.802437368875725, 0.7931297478889864, 0.7904710265821377, 0.8080881255596457, 0.796243079104163, 0.7898086828550405, 0.8011698509075882, 0.8209772356138341, 0.7862134074027839]\n"
     ]
    }
   ],
   "source": [
    "from sklearn.model_selection import KFold\n",
    "\n",
    "# Define KFold object\n",
    "kf = KFold(n_splits=11, shuffle=True, random_state=42)\n",
    "\n",
    "# Perform k-fold cross-validation for the ensemble model\n",
    "auc_scores_ensemble = []\n",
    "\n",
    "for train_index, valid_index in kf.split(X):\n",
    "    X_train, X_valid = X.iloc[train_index], X.iloc[valid_index]\n",
    "    y_train, y_valid = y.iloc[train_index], y.iloc[valid_index]\n",
    "\n",
    "    voting_clf.fit(X_train, y_train)\n",
    "    y_pred_ensemble = voting_clf.predict_proba(X_valid)[:, 1]\n",
    "    auc_ensemble = roc_auc_score(y_valid, y_pred_ensemble)\n",
    "    auc_scores_ensemble.append(auc_ensemble)\n",
    "\n",
    "print(\"Ensemble AUC Scores:\", auc_scores_ensemble)\n",
    "\n",
    "\n"
   ]
  },
  {
   "cell_type": "code",
   "execution_count": 17,
   "id": "4954f12b",
   "metadata": {
    "execution": {
     "iopub.execute_input": "2024-03-01T19:16:45.180874Z",
     "iopub.status.busy": "2024-03-01T19:16:45.180469Z",
     "iopub.status.idle": "2024-03-01T19:17:47.384926Z",
     "shell.execute_reply": "2024-03-01T19:17:47.383953Z"
    },
    "papermill": {
     "duration": 62.21656,
     "end_time": "2024-03-01T19:17:47.387502",
     "exception": false,
     "start_time": "2024-03-01T19:16:45.170942",
     "status": "completed"
    },
    "tags": []
   },
   "outputs": [],
   "source": [
    "# Make predictions on test set with the ensemble model\n",
    "final_predictions_ensemble = []\n",
    "\n",
    "for train_index, valid_index in kf.split(X):\n",
    "    X_train, X_valid = X.iloc[train_index], X.iloc[valid_index]\n",
    "    y_train, y_valid = y.iloc[train_index], y.iloc[valid_index]\n",
    "\n",
    "    voting_clf.fit(X_train, y_train)\n",
    "    final_predictions_ensemble.append(voting_clf.predict_proba(women_test)[:, 1])\n",
    "\n",
    "# Average predictions across folds\n",
    "final_predictions_ensemble = np.mean(final_predictions_ensemble, axis=0)\n",
    "\n"
   ]
  },
  {
   "cell_type": "code",
   "execution_count": 18,
   "id": "ba58b9d9",
   "metadata": {
    "execution": {
     "iopub.execute_input": "2024-03-01T19:17:47.408625Z",
     "iopub.status.busy": "2024-03-01T19:17:47.408226Z",
     "iopub.status.idle": "2024-03-01T19:17:47.436718Z",
     "shell.execute_reply": "2024-03-01T19:17:47.435691Z"
    },
    "papermill": {
     "duration": 0.043423,
     "end_time": "2024-03-01T19:17:47.439481",
     "exception": false,
     "start_time": "2024-03-01T19:17:47.396058",
     "status": "completed"
    },
    "tags": []
   },
   "outputs": [],
   "source": [
    "# Prepare submission file\n",
    "submission_df = pd.DataFrame({'patient_id': women_test['patient_id'], 'DiagPeriodL90D': final_predictions_ensemble})\n",
    "submission_df.to_csv('submission.csv', index=False)"
   ]
  },
  {
   "cell_type": "code",
   "execution_count": null,
   "id": "7c63f23e",
   "metadata": {
    "papermill": {
     "duration": 0.007964,
     "end_time": "2024-03-01T19:17:47.455955",
     "exception": false,
     "start_time": "2024-03-01T19:17:47.447991",
     "status": "completed"
    },
    "tags": []
   },
   "outputs": [],
   "source": []
  }
 ],
 "metadata": {
  "kaggle": {
   "accelerator": "none",
   "dataSources": [
    {
     "databundleVersionId": 7469115,
     "sourceId": 65862,
     "sourceType": "competition"
    }
   ],
   "dockerImageVersionId": 30646,
   "isGpuEnabled": false,
   "isInternetEnabled": true,
   "language": "python",
   "sourceType": "notebook"
  },
  "kernelspec": {
   "display_name": "Python 3",
   "language": "python",
   "name": "python3"
  },
  "language_info": {
   "codemirror_mode": {
    "name": "ipython",
    "version": 3
   },
   "file_extension": ".py",
   "mimetype": "text/x-python",
   "name": "python",
   "nbconvert_exporter": "python",
   "pygments_lexer": "ipython3",
   "version": "3.10.13"
  },
  "papermill": {
   "default_parameters": {},
   "duration": 425.378588,
   "end_time": "2024-03-01T19:17:48.287242",
   "environment_variables": {},
   "exception": null,
   "input_path": "__notebook__.ipynb",
   "output_path": "__notebook__.ipynb",
   "parameters": {},
   "start_time": "2024-03-01T19:10:42.908654",
   "version": "2.5.0"
  }
 },
 "nbformat": 4,
 "nbformat_minor": 5
}
